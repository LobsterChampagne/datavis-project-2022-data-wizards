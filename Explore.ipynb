{
 "cells": [
  {
   "cell_type": "markdown",
   "id": "2b785420",
   "metadata": {},
   "source": [
    "# This notebook is used to explore the datasets"
   ]
  },
  {
   "cell_type": "code",
   "execution_count": null,
   "id": "90c11aba",
   "metadata": {},
   "outputs": [],
   "source": [
    "import pandas as pd\n",
    "import seaborn as sns\n",
    "from matplotlib import pyplot as plt\n",
    "%matplotlib inline"
   ]
  },
  {
   "cell_type": "code",
   "execution_count": null,
   "id": "01df36c8",
   "metadata": {},
   "outputs": [],
   "source": [
    "#Load data\n",
    "netflix = pd.read_csv('Data/netflix_titles.csv')\n",
    "prime = pd.read_csv('Data/amazon_prime_titles.csv')\n",
    "disney = pd.read_csv('Data/disney_plus_titles.csv')\n",
    "hulu = pd.read_csv('Data/hulu_titles.csv')\n",
    "platforms = pd.read_csv('Data/MoviesOnStreamingPlatforms.csv')"
   ]
  },
  {
   "cell_type": "code",
   "execution_count": null,
   "id": "381953eb",
   "metadata": {},
   "outputs": [],
   "source": [
    "# Overview of individual dataframe\n",
    "netflix.head(1)"
   ]
  },
  {
   "cell_type": "code",
   "execution_count": null,
   "id": "48d14aae",
   "metadata": {},
   "outputs": [],
   "source": [
    "# Overview of individual dataframe\n",
    "disney.head(1)"
   ]
  },
  {
   "cell_type": "code",
   "execution_count": null,
   "id": "e375081f",
   "metadata": {},
   "outputs": [],
   "source": [
    "# Overview of individual datafra\n",
    "hulu.head(1)"
   ]
  },
  {
   "cell_type": "code",
   "execution_count": null,
   "id": "42e80285",
   "metadata": {},
   "outputs": [],
   "source": [
    "# Overview of individual datafr\n",
    "prime.sample(10)"
   ]
  },
  {
   "cell_type": "code",
   "execution_count": null,
   "id": "e4078a77",
   "metadata": {},
   "outputs": [],
   "source": [
    "print('The amount of titles per platform')\n",
    "print('netflix:',netflix.shape[0])\n",
    "print('prime:',prime.shape[0])\n",
    "print('disney:',disney.shape[0])\n",
    "print('hulu:',hulu.shape[0])"
   ]
  },
  {
   "cell_type": "code",
   "execution_count": null,
   "id": "b3801426",
   "metadata": {},
   "outputs": [],
   "source": [
    "# Overview of the platform dataframe\n",
    "platforms"
   ]
  },
  {
   "cell_type": "code",
   "execution_count": null,
   "id": "53f8988f",
   "metadata": {},
   "outputs": [],
   "source": [
    "def top_in_attr(dataframe, attribute, count=10):\n",
    "    df_temp = dataframe.groupby(attribute).count()[['show_id']]\n",
    "    df_temp.columns = ['count']\n",
    "    return df_temp.sort_values('count',ascending=False).head(count)"
   ]
  },
  {
   "cell_type": "code",
   "execution_count": null,
   "id": "71f442cd",
   "metadata": {},
   "outputs": [],
   "source": [
    "# top 10 netflix directors by count\n",
    "top_in_attr(netflix,'director')"
   ]
  },
  {
   "cell_type": "code",
   "execution_count": null,
   "id": "89009103",
   "metadata": {},
   "outputs": [],
   "source": [
    "# Share of Movies vs TV-shows in netflix\n",
    "top_in_attr(netflix,'type')"
   ]
  },
  {
   "cell_type": "code",
   "execution_count": null,
   "id": "2f03ccd0",
   "metadata": {},
   "outputs": [],
   "source": [
    "top_in_attr(netflix,'country')"
   ]
  },
  {
   "cell_type": "code",
   "execution_count": null,
   "id": "079d4b12",
   "metadata": {},
   "outputs": [],
   "source": [
    "top_in_attr(netflix,'release_year')"
   ]
  },
  {
   "cell_type": "code",
   "execution_count": null,
   "id": "2c17dd3f",
   "metadata": {},
   "outputs": [],
   "source": [
    "a = top_in_attr(netflix,'release_year')\n",
    "b = top_in_attr(hulu,'release_year')\n",
    "c = top_in_attr(disney,'release_year')\n",
    "d = top_in_attr(prime,'release_year')\n",
    "plt.figure(figsize=(15, 7))\n",
    "release_years = sns.lineplot(x=\"release_year\",\n",
    "                            y=\"count\",\n",
    "                            data=a,\n",
    "                            legend=\"brief\",\n",
    "                            label='Netflix')\n",
    "release_years = sns.lineplot(x=\"release_year\",\n",
    "                            y=\"count\",\n",
    "                            data=b,\n",
    "                            label='Hulu',\n",
    "                            legend=\"brief\")\n",
    "release_years = sns.lineplot(x=\"release_year\",\n",
    "                            y=\"count\",\n",
    "                            data=c,\n",
    "                            label='Disney+',\n",
    "                            legend=\"brief\")\n",
    "release_years = sns.lineplot(x=\"release_year\",\n",
    "                            y=\"count\",\n",
    "                            data=d,\n",
    "                            label='Amazon Prime',\n",
    "                            legend=\"brief\")\n",
    "#plt.legend()\n",
    "#plt.show()\n",
    "plt.savefig(\"Netflix_releases_per_year.png\")"
   ]
  },
  {
   "cell_type": "code",
   "execution_count": null,
   "id": "736e6b81",
   "metadata": {},
   "outputs": [],
   "source": [
    "top_in_attr(netflix,'rating')"
   ]
  },
  {
   "cell_type": "code",
   "execution_count": null,
   "id": "54ac4bc9",
   "metadata": {},
   "outputs": [],
   "source": [
    "# The unique categories\n",
    "netflix_categories = netflix['listed_in'].str.split(',').explode('listed_in').unique()\n",
    "netflix_categories"
   ]
  },
  {
   "cell_type": "code",
   "execution_count": null,
   "id": "f095322e",
   "metadata": {},
   "outputs": [],
   "source": [
    "#netflix categories grouped\n",
    "a = netflix['listed_in'].str.split(',').explode('listed_in')\n",
    "b = pd.DataFrame(a.groupby(a).count())\n",
    "b.columns = ['count']\n",
    "b['category'] = b.index\n",
    "c = b.sort_values('count', ascending=False)[:20]"
   ]
  },
  {
   "cell_type": "code",
   "execution_count": null,
   "id": "3fad70b8",
   "metadata": {},
   "outputs": [],
   "source": [
    "plt.figure(figsize=(15, 7))\n",
    "sns.barplot(x='category', y='count', data=c)\n",
    "plt.title('20 Largest Netflix Categories')\n",
    "plt.xlabel('Category')\n",
    "plt.ylabel('Frequency')\n",
    "plt.xticks(rotation=90)\n",
    "plt.show()"
   ]
  },
  {
   "cell_type": "code",
   "execution_count": null,
   "id": "e2429057",
   "metadata": {},
   "outputs": [],
   "source": [
    "#Merge together all datasets of netflix, prime, disney and hulu\n",
    "all_streams=pd.concat([netflix,prime,disney,hulu], keys=['netflix', 'prime','disney','hulu']).reset_index()\n",
    "all_streams.sample(5)"
   ]
  },
  {
   "cell_type": "code",
   "execution_count": null,
   "id": "0902d657",
   "metadata": {},
   "outputs": [],
   "source": [
    "df = all_streams[\"level_0\"] + \" - \" + all_streams[\"type\"]\n",
    "print(df)\n",
    "sns.countplot(x=df.array)\n",
    "plt.xticks(rotation=-45, ha=\"left\")\n",
    "plt.savefig(\"Amount_of_content.png\",dpi=600, bbox_inches = \"tight\")"
   ]
  },
  {
   "cell_type": "markdown",
   "id": "00ad475e",
   "metadata": {},
   "source": [
    "### Adding information from IMDb"
   ]
  },
  {
   "cell_type": "code",
   "execution_count": null,
   "id": "964a736a",
   "metadata": {},
   "outputs": [],
   "source": [
    "all_rated = pd.read_csv(\"Data/all_IMDB_rated.csv\")\n",
    "all_rated.sample(2)"
   ]
  },
  {
   "cell_type": "code",
   "execution_count": null,
   "id": "7f403ae2",
   "metadata": {},
   "outputs": [],
   "source": [
    "df = all_rated[\"level_0\"] + \" - \" + all_rated[\"type\"]\n",
    "print(df)\n",
    "sns.countplot(x=df.array)\n",
    "plt.xticks(rotation=-45, ha=\"left\")\n",
    "plt.savefig(\"Amount_of_content.png\",dpi=600, bbox_inches = \"tight\")"
   ]
  },
  {
   "cell_type": "code",
   "execution_count": null,
   "id": "126c70cc",
   "metadata": {},
   "outputs": [],
   "source": [
    "imdb = pd.read_csv(\"Data/title.basics.tsv\", sep=\"\\t\",low_memory=False)\n",
    "imdb.shape"
   ]
  },
  {
   "cell_type": "code",
   "execution_count": null,
   "id": "9bf0a8d7",
   "metadata": {},
   "outputs": [],
   "source": [
    "all_streams_imdb=pd.merge(all_streams,imdb,left_on=[\"title\"],right_on=[\"originalTitle\"],how='left')\n",
    "all_streams_imdb.shape"
   ]
  },
  {
   "cell_type": "code",
   "execution_count": null,
   "id": "26244653",
   "metadata": {},
   "outputs": [],
   "source": [
    "all_streams_imdb=all_streams_imdb[all_streams_imdb[\"startYear\"].astype(\"string\")==all_streams_imdb[\"release_year\"].astype(\"string\")]\n",
    "all_streams_imdb.shape"
   ]
  },
  {
   "cell_type": "code",
   "execution_count": null,
   "id": "60f839cd",
   "metadata": {},
   "outputs": [],
   "source": [
    "all_streams_imdb.sample(5)"
   ]
  },
  {
   "cell_type": "code",
   "execution_count": null,
   "id": "a8a68d7d",
   "metadata": {},
   "outputs": [],
   "source": [
    "rating = pd.read_csv('Data/title.ratings.tsv', sep=\"\\t\")"
   ]
  },
  {
   "cell_type": "code",
   "execution_count": null,
   "id": "82405e85",
   "metadata": {},
   "outputs": [],
   "source": [
    "all_rated=pd.merge(all_streams_imdb,rating,on=\"tconst\",how=\"left\")"
   ]
  },
  {
   "cell_type": "code",
   "execution_count": null,
   "id": "d0bde417",
   "metadata": {},
   "outputs": [],
   "source": [
    "all_rated.to_csv(\"Data/all_IMDB_rated.csv\",index=False)"
   ]
  },
  {
   "cell_type": "markdown",
   "id": "6e925096",
   "metadata": {},
   "source": [
    "### Using the merged dataset"
   ]
  },
  {
   "cell_type": "code",
   "execution_count": null,
   "id": "71161e4b",
   "metadata": {},
   "outputs": [],
   "source": [
    "ratings = all_rated[[\"level_0\",\"averageRating\"]]\n",
    "\n",
    "plt.figure(figsize=(15, 7))\n",
    "sns.histplot(data=ratings,binwidth=0.5,x=\"averageRating\",hue=\"level_0\",)\n",
    "plt.title('Average IMDB Ratings')\n",
    "plt.xlabel('Rating')\n",
    "plt.ylabel('Frequency')\n",
    "plt.xticks(rotation=90)\n",
    "plt.show()"
   ]
  }
 ],
 "metadata": {
  "kernelspec": {
   "display_name": "Python 3",
   "language": "python",
   "name": "python3"
  },
  "language_info": {
   "codemirror_mode": {
    "name": "ipython",
    "version": 3
   },
   "file_extension": ".py",
   "mimetype": "text/x-python",
   "name": "python",
   "nbconvert_exporter": "python",
   "pygments_lexer": "ipython3",
   "version": "3.8.8"
  }
 },
 "nbformat": 4,
 "nbformat_minor": 5
}
