{
 "cells": [
  {
   "cell_type": "markdown",
   "id": "2b785420",
   "metadata": {},
   "source": [
    "# This notebook is used to explore the datasets"
   ]
  },
  {
   "cell_type": "code",
   "execution_count": 1,
   "id": "90c11aba",
   "metadata": {},
   "outputs": [],
   "source": [
    "import pandas as pd\n",
    "import seaborn as sns\n",
    "from matplotlib import pyplot as plt\n",
    "%matplotlib inline"
   ]
  },
  {
   "cell_type": "code",
   "execution_count": 2,
   "id": "01df36c8",
   "metadata": {},
   "outputs": [],
   "source": [
    "#Load data\n",
    "netflix = pd.read_csv('Data/netflix_titles.csv')\n",
    "prime = pd.read_csv('Data/amazon_prime_titles.csv')\n",
    "disney = pd.read_csv('Data/disney_plus_titles.csv')\n",
    "hulu = pd.read_csv('Data/hulu_titles.csv')\n",
    "platforms = pd.read_csv('Data/MoviesOnStreamingPlatforms.csv')"
   ]
  },
  {
   "cell_type": "code",
   "execution_count": 3,
   "id": "381953eb",
   "metadata": {},
   "outputs": [
    {
     "data": {
      "text/html": [
       "<div>\n",
       "<style scoped>\n",
       "    .dataframe tbody tr th:only-of-type {\n",
       "        vertical-align: middle;\n",
       "    }\n",
       "\n",
       "    .dataframe tbody tr th {\n",
       "        vertical-align: top;\n",
       "    }\n",
       "\n",
       "    .dataframe thead th {\n",
       "        text-align: right;\n",
       "    }\n",
       "</style>\n",
       "<table border=\"1\" class=\"dataframe\">\n",
       "  <thead>\n",
       "    <tr style=\"text-align: right;\">\n",
       "      <th></th>\n",
       "      <th>show_id</th>\n",
       "      <th>type</th>\n",
       "      <th>title</th>\n",
       "      <th>director</th>\n",
       "      <th>cast</th>\n",
       "      <th>country</th>\n",
       "      <th>date_added</th>\n",
       "      <th>release_year</th>\n",
       "      <th>rating</th>\n",
       "      <th>duration</th>\n",
       "      <th>listed_in</th>\n",
       "      <th>description</th>\n",
       "    </tr>\n",
       "  </thead>\n",
       "  <tbody>\n",
       "    <tr>\n",
       "      <th>0</th>\n",
       "      <td>s1</td>\n",
       "      <td>Movie</td>\n",
       "      <td>Dick Johnson Is Dead</td>\n",
       "      <td>Kirsten Johnson</td>\n",
       "      <td>NaN</td>\n",
       "      <td>United States</td>\n",
       "      <td>September 25, 2021</td>\n",
       "      <td>2020</td>\n",
       "      <td>PG-13</td>\n",
       "      <td>90 min</td>\n",
       "      <td>Documentaries</td>\n",
       "      <td>As her father nears the end of his life, filmm...</td>\n",
       "    </tr>\n",
       "  </tbody>\n",
       "</table>\n",
       "</div>"
      ],
      "text/plain": [
       "  show_id   type                 title         director cast        country  \\\n",
       "0      s1  Movie  Dick Johnson Is Dead  Kirsten Johnson  NaN  United States   \n",
       "\n",
       "           date_added  release_year rating duration      listed_in  \\\n",
       "0  September 25, 2021          2020  PG-13   90 min  Documentaries   \n",
       "\n",
       "                                         description  \n",
       "0  As her father nears the end of his life, filmm...  "
      ]
     },
     "execution_count": 3,
     "metadata": {},
     "output_type": "execute_result"
    }
   ],
   "source": [
    "# Overview of individual dataframe\n",
    "netflix.head(1)"
   ]
  },
  {
   "cell_type": "code",
   "execution_count": 4,
   "id": "48d14aae",
   "metadata": {},
   "outputs": [
    {
     "data": {
      "text/html": [
       "<div>\n",
       "<style scoped>\n",
       "    .dataframe tbody tr th:only-of-type {\n",
       "        vertical-align: middle;\n",
       "    }\n",
       "\n",
       "    .dataframe tbody tr th {\n",
       "        vertical-align: top;\n",
       "    }\n",
       "\n",
       "    .dataframe thead th {\n",
       "        text-align: right;\n",
       "    }\n",
       "</style>\n",
       "<table border=\"1\" class=\"dataframe\">\n",
       "  <thead>\n",
       "    <tr style=\"text-align: right;\">\n",
       "      <th></th>\n",
       "      <th>show_id</th>\n",
       "      <th>type</th>\n",
       "      <th>title</th>\n",
       "      <th>director</th>\n",
       "      <th>cast</th>\n",
       "      <th>country</th>\n",
       "      <th>date_added</th>\n",
       "      <th>release_year</th>\n",
       "      <th>rating</th>\n",
       "      <th>duration</th>\n",
       "      <th>listed_in</th>\n",
       "      <th>description</th>\n",
       "    </tr>\n",
       "  </thead>\n",
       "  <tbody>\n",
       "    <tr>\n",
       "      <th>0</th>\n",
       "      <td>s1</td>\n",
       "      <td>Movie</td>\n",
       "      <td>Duck the Halls: A Mickey Mouse Christmas Special</td>\n",
       "      <td>Alonso Ramirez Ramos, Dave Wasson</td>\n",
       "      <td>Chris Diamantopoulos, Tony Anselmo, Tress MacN...</td>\n",
       "      <td>NaN</td>\n",
       "      <td>November 26, 2021</td>\n",
       "      <td>2016</td>\n",
       "      <td>TV-G</td>\n",
       "      <td>23 min</td>\n",
       "      <td>Animation, Family</td>\n",
       "      <td>Join Mickey and the gang as they duck the halls!</td>\n",
       "    </tr>\n",
       "  </tbody>\n",
       "</table>\n",
       "</div>"
      ],
      "text/plain": [
       "  show_id   type                                             title  \\\n",
       "0      s1  Movie  Duck the Halls: A Mickey Mouse Christmas Special   \n",
       "\n",
       "                            director  \\\n",
       "0  Alonso Ramirez Ramos, Dave Wasson   \n",
       "\n",
       "                                                cast country  \\\n",
       "0  Chris Diamantopoulos, Tony Anselmo, Tress MacN...     NaN   \n",
       "\n",
       "          date_added  release_year rating duration          listed_in  \\\n",
       "0  November 26, 2021          2016   TV-G   23 min  Animation, Family   \n",
       "\n",
       "                                        description  \n",
       "0  Join Mickey and the gang as they duck the halls!  "
      ]
     },
     "execution_count": 4,
     "metadata": {},
     "output_type": "execute_result"
    }
   ],
   "source": [
    "# Overview of individual dataframe\n",
    "disney.head(1)"
   ]
  },
  {
   "cell_type": "code",
   "execution_count": 5,
   "id": "e375081f",
   "metadata": {},
   "outputs": [
    {
     "data": {
      "text/html": [
       "<div>\n",
       "<style scoped>\n",
       "    .dataframe tbody tr th:only-of-type {\n",
       "        vertical-align: middle;\n",
       "    }\n",
       "\n",
       "    .dataframe tbody tr th {\n",
       "        vertical-align: top;\n",
       "    }\n",
       "\n",
       "    .dataframe thead th {\n",
       "        text-align: right;\n",
       "    }\n",
       "</style>\n",
       "<table border=\"1\" class=\"dataframe\">\n",
       "  <thead>\n",
       "    <tr style=\"text-align: right;\">\n",
       "      <th></th>\n",
       "      <th>show_id</th>\n",
       "      <th>type</th>\n",
       "      <th>title</th>\n",
       "      <th>director</th>\n",
       "      <th>cast</th>\n",
       "      <th>country</th>\n",
       "      <th>date_added</th>\n",
       "      <th>release_year</th>\n",
       "      <th>rating</th>\n",
       "      <th>duration</th>\n",
       "      <th>listed_in</th>\n",
       "      <th>description</th>\n",
       "    </tr>\n",
       "  </thead>\n",
       "  <tbody>\n",
       "    <tr>\n",
       "      <th>0</th>\n",
       "      <td>s1</td>\n",
       "      <td>Movie</td>\n",
       "      <td>Ricky Velez: Here's Everything</td>\n",
       "      <td>NaN</td>\n",
       "      <td>NaN</td>\n",
       "      <td>NaN</td>\n",
       "      <td>October 24, 2021</td>\n",
       "      <td>2021</td>\n",
       "      <td>TV-MA</td>\n",
       "      <td>NaN</td>\n",
       "      <td>Comedy, Stand Up</td>\n",
       "      <td>​Comedian Ricky Velez bares it all with his ho...</td>\n",
       "    </tr>\n",
       "  </tbody>\n",
       "</table>\n",
       "</div>"
      ],
      "text/plain": [
       "  show_id   type                           title director  cast country  \\\n",
       "0      s1  Movie  Ricky Velez: Here's Everything      NaN   NaN     NaN   \n",
       "\n",
       "         date_added  release_year rating duration         listed_in  \\\n",
       "0  October 24, 2021          2021  TV-MA      NaN  Comedy, Stand Up   \n",
       "\n",
       "                                         description  \n",
       "0  ​Comedian Ricky Velez bares it all with his ho...  "
      ]
     },
     "execution_count": 5,
     "metadata": {},
     "output_type": "execute_result"
    }
   ],
   "source": [
    "# Overview of individual datafra\n",
    "hulu.head(1)"
   ]
  },
  {
   "cell_type": "code",
   "execution_count": 6,
   "id": "42e80285",
   "metadata": {},
   "outputs": [
    {
     "data": {
      "text/html": [
       "<div>\n",
       "<style scoped>\n",
       "    .dataframe tbody tr th:only-of-type {\n",
       "        vertical-align: middle;\n",
       "    }\n",
       "\n",
       "    .dataframe tbody tr th {\n",
       "        vertical-align: top;\n",
       "    }\n",
       "\n",
       "    .dataframe thead th {\n",
       "        text-align: right;\n",
       "    }\n",
       "</style>\n",
       "<table border=\"1\" class=\"dataframe\">\n",
       "  <thead>\n",
       "    <tr style=\"text-align: right;\">\n",
       "      <th></th>\n",
       "      <th>show_id</th>\n",
       "      <th>type</th>\n",
       "      <th>title</th>\n",
       "      <th>director</th>\n",
       "      <th>cast</th>\n",
       "      <th>country</th>\n",
       "      <th>date_added</th>\n",
       "      <th>release_year</th>\n",
       "      <th>rating</th>\n",
       "      <th>duration</th>\n",
       "      <th>listed_in</th>\n",
       "      <th>description</th>\n",
       "    </tr>\n",
       "  </thead>\n",
       "  <tbody>\n",
       "    <tr>\n",
       "      <th>6117</th>\n",
       "      <td>s6118</td>\n",
       "      <td>Movie</td>\n",
       "      <td>Parts of the Same Circle</td>\n",
       "      <td>Denny Hironaga, Eric Nemoto</td>\n",
       "      <td>Jim Tharp, Allan Okubo, Dann Seki, Keith Kashi...</td>\n",
       "      <td>NaN</td>\n",
       "      <td>NaN</td>\n",
       "      <td>2012</td>\n",
       "      <td>13+</td>\n",
       "      <td>120 min</td>\n",
       "      <td>Drama, Special Interest</td>\n",
       "      <td>Death not being apart from life but rather an ...</td>\n",
       "    </tr>\n",
       "    <tr>\n",
       "      <th>6390</th>\n",
       "      <td>s6391</td>\n",
       "      <td>Movie</td>\n",
       "      <td>Lila Lila</td>\n",
       "      <td>Alain Gsponer</td>\n",
       "      <td>Daniel Bruhl, Hannah Hurzsprung, Kristen Block</td>\n",
       "      <td>NaN</td>\n",
       "      <td>NaN</td>\n",
       "      <td>2010</td>\n",
       "      <td>16+</td>\n",
       "      <td>107 min</td>\n",
       "      <td>Comedy, Drama</td>\n",
       "      <td>David, a waiter, finds an unpublished manuscri...</td>\n",
       "    </tr>\n",
       "    <tr>\n",
       "      <th>1841</th>\n",
       "      <td>s1842</td>\n",
       "      <td>TV Show</td>\n",
       "      <td>Little Dorrit</td>\n",
       "      <td>NaN</td>\n",
       "      <td>Claire Foy, Matthew Macfadyen, Tom Courtenay, ...</td>\n",
       "      <td>NaN</td>\n",
       "      <td>NaN</td>\n",
       "      <td>2008</td>\n",
       "      <td>TV-PG</td>\n",
       "      <td>1 Season</td>\n",
       "      <td>Drama, Historical</td>\n",
       "      <td>This gripping series by Andrew Davies brings t...</td>\n",
       "    </tr>\n",
       "    <tr>\n",
       "      <th>3629</th>\n",
       "      <td>s3630</td>\n",
       "      <td>Movie</td>\n",
       "      <td>Inside Out</td>\n",
       "      <td>David Ogden</td>\n",
       "      <td>Eriq La Salle, Steven Weber, Kate Walsh, Russe...</td>\n",
       "      <td>NaN</td>\n",
       "      <td>NaN</td>\n",
       "      <td>2005</td>\n",
       "      <td>16+</td>\n",
       "      <td>95 min</td>\n",
       "      <td>Suspense</td>\n",
       "      <td>When an enigmatic psychiatrist moves into a su...</td>\n",
       "    </tr>\n",
       "    <tr>\n",
       "      <th>6241</th>\n",
       "      <td>s6242</td>\n",
       "      <td>Movie</td>\n",
       "      <td>Female Agents</td>\n",
       "      <td>Jean-Paul Salomé</td>\n",
       "      <td>Sophie Marceau, Julie Depardieu, Déborah Franç...</td>\n",
       "      <td>NaN</td>\n",
       "      <td>NaN</td>\n",
       "      <td>2008</td>\n",
       "      <td>16+</td>\n",
       "      <td>112 min</td>\n",
       "      <td>Action, Drama</td>\n",
       "      <td>May 1944. A five-woman commando unit parachute...</td>\n",
       "    </tr>\n",
       "    <tr>\n",
       "      <th>5186</th>\n",
       "      <td>s5187</td>\n",
       "      <td>Movie</td>\n",
       "      <td>Fun Play Vehicles For Kids - Gecko's Real Vehi...</td>\n",
       "      <td>Christian Hughes</td>\n",
       "      <td>NaN</td>\n",
       "      <td>NaN</td>\n",
       "      <td>NaN</td>\n",
       "      <td>2019</td>\n",
       "      <td>ALL</td>\n",
       "      <td>46 min</td>\n",
       "      <td>Kids</td>\n",
       "      <td>Join Gecko in his vehicle-based educational co...</td>\n",
       "    </tr>\n",
       "    <tr>\n",
       "      <th>1781</th>\n",
       "      <td>s1782</td>\n",
       "      <td>TV Show</td>\n",
       "      <td>Mad About You</td>\n",
       "      <td>NaN</td>\n",
       "      <td>Paul Reiser, Helen Hunt, John Pankow, Richard ...</td>\n",
       "      <td>NaN</td>\n",
       "      <td>NaN</td>\n",
       "      <td>2019</td>\n",
       "      <td>TV-PG</td>\n",
       "      <td>1 Season</td>\n",
       "      <td>Comedy</td>\n",
       "      <td>A revival of the 1990s sitcom, Mad About You c...</td>\n",
       "    </tr>\n",
       "    <tr>\n",
       "      <th>2661</th>\n",
       "      <td>s2662</td>\n",
       "      <td>TV Show</td>\n",
       "      <td>Dilruk Jayasinha: Bundle of Joy</td>\n",
       "      <td>NaN</td>\n",
       "      <td>Dilruk Jayasinha</td>\n",
       "      <td>NaN</td>\n",
       "      <td>NaN</td>\n",
       "      <td>2020</td>\n",
       "      <td>16+</td>\n",
       "      <td>1 Season</td>\n",
       "      <td>Arts, Entertainment, and Culture</td>\n",
       "      <td>Sri Lankan-born Dilruk Jayasinha is one of the...</td>\n",
       "    </tr>\n",
       "    <tr>\n",
       "      <th>2888</th>\n",
       "      <td>s2889</td>\n",
       "      <td>TV Show</td>\n",
       "      <td>Chacha Vidhayak Hain Humare</td>\n",
       "      <td>NaN</td>\n",
       "      <td>Zakir Khan, Vyom Sharma, Kumar Varun, Zakir Hu...</td>\n",
       "      <td>NaN</td>\n",
       "      <td>March 30, 2021</td>\n",
       "      <td>2021</td>\n",
       "      <td>13+</td>\n",
       "      <td>2 Seasons</td>\n",
       "      <td>Comedy, Drama</td>\n",
       "      <td>Ronny's lie of working for his 'Chacha', the M...</td>\n",
       "    </tr>\n",
       "    <tr>\n",
       "      <th>3279</th>\n",
       "      <td>s3280</td>\n",
       "      <td>Movie</td>\n",
       "      <td>American Flag for Kids</td>\n",
       "      <td>Mark Knight</td>\n",
       "      <td>NaN</td>\n",
       "      <td>NaN</td>\n",
       "      <td>NaN</td>\n",
       "      <td>2019</td>\n",
       "      <td>ALL</td>\n",
       "      <td>60 min</td>\n",
       "      <td>Documentary, Special Interest</td>\n",
       "      <td>The American flag proudly waves atop Chimney R...</td>\n",
       "    </tr>\n",
       "  </tbody>\n",
       "</table>\n",
       "</div>"
      ],
      "text/plain": [
       "     show_id     type                                              title  \\\n",
       "6117   s6118    Movie                           Parts of the Same Circle   \n",
       "6390   s6391    Movie                                          Lila Lila   \n",
       "1841   s1842  TV Show                                      Little Dorrit   \n",
       "3629   s3630    Movie                                         Inside Out   \n",
       "6241   s6242    Movie                                      Female Agents   \n",
       "5186   s5187    Movie  Fun Play Vehicles For Kids - Gecko's Real Vehi...   \n",
       "1781   s1782  TV Show                                      Mad About You   \n",
       "2661   s2662  TV Show                    Dilruk Jayasinha: Bundle of Joy   \n",
       "2888   s2889  TV Show                        Chacha Vidhayak Hain Humare   \n",
       "3279   s3280    Movie                             American Flag for Kids   \n",
       "\n",
       "                         director  \\\n",
       "6117  Denny Hironaga, Eric Nemoto   \n",
       "6390                Alain Gsponer   \n",
       "1841                          NaN   \n",
       "3629                  David Ogden   \n",
       "6241             Jean-Paul Salomé   \n",
       "5186             Christian Hughes   \n",
       "1781                          NaN   \n",
       "2661                          NaN   \n",
       "2888                          NaN   \n",
       "3279                  Mark Knight   \n",
       "\n",
       "                                                   cast country  \\\n",
       "6117  Jim Tharp, Allan Okubo, Dann Seki, Keith Kashi...     NaN   \n",
       "6390     Daniel Bruhl, Hannah Hurzsprung, Kristen Block     NaN   \n",
       "1841  Claire Foy, Matthew Macfadyen, Tom Courtenay, ...     NaN   \n",
       "3629  Eriq La Salle, Steven Weber, Kate Walsh, Russe...     NaN   \n",
       "6241  Sophie Marceau, Julie Depardieu, Déborah Franç...     NaN   \n",
       "5186                                                NaN     NaN   \n",
       "1781  Paul Reiser, Helen Hunt, John Pankow, Richard ...     NaN   \n",
       "2661                                   Dilruk Jayasinha     NaN   \n",
       "2888  Zakir Khan, Vyom Sharma, Kumar Varun, Zakir Hu...     NaN   \n",
       "3279                                                NaN     NaN   \n",
       "\n",
       "          date_added  release_year rating   duration  \\\n",
       "6117             NaN          2012    13+    120 min   \n",
       "6390             NaN          2010    16+    107 min   \n",
       "1841             NaN          2008  TV-PG   1 Season   \n",
       "3629             NaN          2005    16+     95 min   \n",
       "6241             NaN          2008    16+    112 min   \n",
       "5186             NaN          2019    ALL     46 min   \n",
       "1781             NaN          2019  TV-PG   1 Season   \n",
       "2661             NaN          2020    16+   1 Season   \n",
       "2888  March 30, 2021          2021    13+  2 Seasons   \n",
       "3279             NaN          2019    ALL     60 min   \n",
       "\n",
       "                             listed_in  \\\n",
       "6117           Drama, Special Interest   \n",
       "6390                     Comedy, Drama   \n",
       "1841                 Drama, Historical   \n",
       "3629                          Suspense   \n",
       "6241                     Action, Drama   \n",
       "5186                              Kids   \n",
       "1781                            Comedy   \n",
       "2661  Arts, Entertainment, and Culture   \n",
       "2888                     Comedy, Drama   \n",
       "3279     Documentary, Special Interest   \n",
       "\n",
       "                                            description  \n",
       "6117  Death not being apart from life but rather an ...  \n",
       "6390  David, a waiter, finds an unpublished manuscri...  \n",
       "1841  This gripping series by Andrew Davies brings t...  \n",
       "3629  When an enigmatic psychiatrist moves into a su...  \n",
       "6241  May 1944. A five-woman commando unit parachute...  \n",
       "5186  Join Gecko in his vehicle-based educational co...  \n",
       "1781  A revival of the 1990s sitcom, Mad About You c...  \n",
       "2661  Sri Lankan-born Dilruk Jayasinha is one of the...  \n",
       "2888  Ronny's lie of working for his 'Chacha', the M...  \n",
       "3279  The American flag proudly waves atop Chimney R...  "
      ]
     },
     "execution_count": 6,
     "metadata": {},
     "output_type": "execute_result"
    }
   ],
   "source": [
    "# Overview of individual datafr\n",
    "prime.sample(10)"
   ]
  },
  {
   "cell_type": "code",
   "execution_count": 7,
   "id": "e4078a77",
   "metadata": {},
   "outputs": [
    {
     "name": "stdout",
     "output_type": "stream",
     "text": [
      "The amount of titles per platform\n",
      "netflix: 8807\n",
      "prime: 9668\n",
      "disney: 1450\n",
      "hulu: 3073\n"
     ]
    }
   ],
   "source": [
    "print('The amount of titles per platform')\n",
    "print('netflix:',netflix.shape[0])\n",
    "print('prime:',prime.shape[0])\n",
    "print('disney:',disney.shape[0])\n",
    "print('hulu:',hulu.shape[0])"
   ]
  },
  {
   "cell_type": "code",
   "execution_count": 8,
   "id": "b3801426",
   "metadata": {},
   "outputs": [
    {
     "data": {
      "text/html": [
       "<div>\n",
       "<style scoped>\n",
       "    .dataframe tbody tr th:only-of-type {\n",
       "        vertical-align: middle;\n",
       "    }\n",
       "\n",
       "    .dataframe tbody tr th {\n",
       "        vertical-align: top;\n",
       "    }\n",
       "\n",
       "    .dataframe thead th {\n",
       "        text-align: right;\n",
       "    }\n",
       "</style>\n",
       "<table border=\"1\" class=\"dataframe\">\n",
       "  <thead>\n",
       "    <tr style=\"text-align: right;\">\n",
       "      <th></th>\n",
       "      <th>Unnamed: 0</th>\n",
       "      <th>ID</th>\n",
       "      <th>Title</th>\n",
       "      <th>Year</th>\n",
       "      <th>Age</th>\n",
       "      <th>Rotten Tomatoes</th>\n",
       "      <th>Netflix</th>\n",
       "      <th>Hulu</th>\n",
       "      <th>Prime Video</th>\n",
       "      <th>Disney+</th>\n",
       "      <th>Type</th>\n",
       "    </tr>\n",
       "  </thead>\n",
       "  <tbody>\n",
       "    <tr>\n",
       "      <th>0</th>\n",
       "      <td>0</td>\n",
       "      <td>1</td>\n",
       "      <td>The Irishman</td>\n",
       "      <td>2019</td>\n",
       "      <td>18+</td>\n",
       "      <td>98/100</td>\n",
       "      <td>1</td>\n",
       "      <td>0</td>\n",
       "      <td>0</td>\n",
       "      <td>0</td>\n",
       "      <td>0</td>\n",
       "    </tr>\n",
       "    <tr>\n",
       "      <th>1</th>\n",
       "      <td>1</td>\n",
       "      <td>2</td>\n",
       "      <td>Dangal</td>\n",
       "      <td>2016</td>\n",
       "      <td>7+</td>\n",
       "      <td>97/100</td>\n",
       "      <td>1</td>\n",
       "      <td>0</td>\n",
       "      <td>0</td>\n",
       "      <td>0</td>\n",
       "      <td>0</td>\n",
       "    </tr>\n",
       "    <tr>\n",
       "      <th>2</th>\n",
       "      <td>2</td>\n",
       "      <td>3</td>\n",
       "      <td>David Attenborough: A Life on Our Planet</td>\n",
       "      <td>2020</td>\n",
       "      <td>7+</td>\n",
       "      <td>95/100</td>\n",
       "      <td>1</td>\n",
       "      <td>0</td>\n",
       "      <td>0</td>\n",
       "      <td>0</td>\n",
       "      <td>0</td>\n",
       "    </tr>\n",
       "    <tr>\n",
       "      <th>3</th>\n",
       "      <td>3</td>\n",
       "      <td>4</td>\n",
       "      <td>Lagaan: Once Upon a Time in India</td>\n",
       "      <td>2001</td>\n",
       "      <td>7+</td>\n",
       "      <td>94/100</td>\n",
       "      <td>1</td>\n",
       "      <td>0</td>\n",
       "      <td>0</td>\n",
       "      <td>0</td>\n",
       "      <td>0</td>\n",
       "    </tr>\n",
       "    <tr>\n",
       "      <th>4</th>\n",
       "      <td>4</td>\n",
       "      <td>5</td>\n",
       "      <td>Roma</td>\n",
       "      <td>2018</td>\n",
       "      <td>18+</td>\n",
       "      <td>94/100</td>\n",
       "      <td>1</td>\n",
       "      <td>0</td>\n",
       "      <td>0</td>\n",
       "      <td>0</td>\n",
       "      <td>0</td>\n",
       "    </tr>\n",
       "    <tr>\n",
       "      <th>...</th>\n",
       "      <td>...</td>\n",
       "      <td>...</td>\n",
       "      <td>...</td>\n",
       "      <td>...</td>\n",
       "      <td>...</td>\n",
       "      <td>...</td>\n",
       "      <td>...</td>\n",
       "      <td>...</td>\n",
       "      <td>...</td>\n",
       "      <td>...</td>\n",
       "      <td>...</td>\n",
       "    </tr>\n",
       "    <tr>\n",
       "      <th>9510</th>\n",
       "      <td>9510</td>\n",
       "      <td>9511</td>\n",
       "      <td>Most Wanted Sharks</td>\n",
       "      <td>2020</td>\n",
       "      <td>NaN</td>\n",
       "      <td>14/100</td>\n",
       "      <td>0</td>\n",
       "      <td>0</td>\n",
       "      <td>0</td>\n",
       "      <td>1</td>\n",
       "      <td>0</td>\n",
       "    </tr>\n",
       "    <tr>\n",
       "      <th>9511</th>\n",
       "      <td>9511</td>\n",
       "      <td>9512</td>\n",
       "      <td>Doc McStuffins: The Doc Is In</td>\n",
       "      <td>2020</td>\n",
       "      <td>NaN</td>\n",
       "      <td>13/100</td>\n",
       "      <td>0</td>\n",
       "      <td>0</td>\n",
       "      <td>0</td>\n",
       "      <td>1</td>\n",
       "      <td>0</td>\n",
       "    </tr>\n",
       "    <tr>\n",
       "      <th>9512</th>\n",
       "      <td>9512</td>\n",
       "      <td>9513</td>\n",
       "      <td>Ultimate Viking Sword</td>\n",
       "      <td>2019</td>\n",
       "      <td>NaN</td>\n",
       "      <td>13/100</td>\n",
       "      <td>0</td>\n",
       "      <td>0</td>\n",
       "      <td>0</td>\n",
       "      <td>1</td>\n",
       "      <td>0</td>\n",
       "    </tr>\n",
       "    <tr>\n",
       "      <th>9513</th>\n",
       "      <td>9513</td>\n",
       "      <td>9514</td>\n",
       "      <td>Hunt for the Abominable Snowman</td>\n",
       "      <td>2011</td>\n",
       "      <td>NaN</td>\n",
       "      <td>10/100</td>\n",
       "      <td>0</td>\n",
       "      <td>0</td>\n",
       "      <td>0</td>\n",
       "      <td>1</td>\n",
       "      <td>0</td>\n",
       "    </tr>\n",
       "    <tr>\n",
       "      <th>9514</th>\n",
       "      <td>9514</td>\n",
       "      <td>9515</td>\n",
       "      <td>Women of Impact: Changing the World</td>\n",
       "      <td>2019</td>\n",
       "      <td>7+</td>\n",
       "      <td>10/100</td>\n",
       "      <td>0</td>\n",
       "      <td>0</td>\n",
       "      <td>0</td>\n",
       "      <td>1</td>\n",
       "      <td>0</td>\n",
       "    </tr>\n",
       "  </tbody>\n",
       "</table>\n",
       "<p>9515 rows × 11 columns</p>\n",
       "</div>"
      ],
      "text/plain": [
       "      Unnamed: 0    ID                                     Title  Year  Age  \\\n",
       "0              0     1                              The Irishman  2019  18+   \n",
       "1              1     2                                    Dangal  2016   7+   \n",
       "2              2     3  David Attenborough: A Life on Our Planet  2020   7+   \n",
       "3              3     4         Lagaan: Once Upon a Time in India  2001   7+   \n",
       "4              4     5                                      Roma  2018  18+   \n",
       "...          ...   ...                                       ...   ...  ...   \n",
       "9510        9510  9511                        Most Wanted Sharks  2020  NaN   \n",
       "9511        9511  9512             Doc McStuffins: The Doc Is In  2020  NaN   \n",
       "9512        9512  9513                     Ultimate Viking Sword  2019  NaN   \n",
       "9513        9513  9514           Hunt for the Abominable Snowman  2011  NaN   \n",
       "9514        9514  9515       Women of Impact: Changing the World  2019   7+   \n",
       "\n",
       "     Rotten Tomatoes  Netflix  Hulu  Prime Video  Disney+  Type  \n",
       "0             98/100        1     0            0        0     0  \n",
       "1             97/100        1     0            0        0     0  \n",
       "2             95/100        1     0            0        0     0  \n",
       "3             94/100        1     0            0        0     0  \n",
       "4             94/100        1     0            0        0     0  \n",
       "...              ...      ...   ...          ...      ...   ...  \n",
       "9510          14/100        0     0            0        1     0  \n",
       "9511          13/100        0     0            0        1     0  \n",
       "9512          13/100        0     0            0        1     0  \n",
       "9513          10/100        0     0            0        1     0  \n",
       "9514          10/100        0     0            0        1     0  \n",
       "\n",
       "[9515 rows x 11 columns]"
      ]
     },
     "execution_count": 8,
     "metadata": {},
     "output_type": "execute_result"
    }
   ],
   "source": [
    "# Overview of the platform dataframe\n",
    "platforms"
   ]
  },
  {
   "cell_type": "code",
   "execution_count": 9,
   "id": "53f8988f",
   "metadata": {},
   "outputs": [],
   "source": [
    "def top_in_attr(dataframe, attribute, count=10):\n",
    "    df_temp = dataframe.groupby(attribute).count()[['show_id']]\n",
    "    df_temp.columns = ['count']\n",
    "    return df_temp.sort_values('count',ascending=False).head(count)"
   ]
  },
  {
   "cell_type": "code",
   "execution_count": 10,
   "id": "71f442cd",
   "metadata": {},
   "outputs": [
    {
     "data": {
      "text/html": [
       "<div>\n",
       "<style scoped>\n",
       "    .dataframe tbody tr th:only-of-type {\n",
       "        vertical-align: middle;\n",
       "    }\n",
       "\n",
       "    .dataframe tbody tr th {\n",
       "        vertical-align: top;\n",
       "    }\n",
       "\n",
       "    .dataframe thead th {\n",
       "        text-align: right;\n",
       "    }\n",
       "</style>\n",
       "<table border=\"1\" class=\"dataframe\">\n",
       "  <thead>\n",
       "    <tr style=\"text-align: right;\">\n",
       "      <th></th>\n",
       "      <th>count</th>\n",
       "    </tr>\n",
       "    <tr>\n",
       "      <th>director</th>\n",
       "      <th></th>\n",
       "    </tr>\n",
       "  </thead>\n",
       "  <tbody>\n",
       "    <tr>\n",
       "      <th>Rajiv Chilaka</th>\n",
       "      <td>19</td>\n",
       "    </tr>\n",
       "    <tr>\n",
       "      <th>Raúl Campos, Jan Suter</th>\n",
       "      <td>18</td>\n",
       "    </tr>\n",
       "    <tr>\n",
       "      <th>Suhas Kadav</th>\n",
       "      <td>16</td>\n",
       "    </tr>\n",
       "    <tr>\n",
       "      <th>Marcus Raboy</th>\n",
       "      <td>16</td>\n",
       "    </tr>\n",
       "    <tr>\n",
       "      <th>Jay Karas</th>\n",
       "      <td>14</td>\n",
       "    </tr>\n",
       "    <tr>\n",
       "      <th>Cathy Garcia-Molina</th>\n",
       "      <td>13</td>\n",
       "    </tr>\n",
       "    <tr>\n",
       "      <th>Jay Chapman</th>\n",
       "      <td>12</td>\n",
       "    </tr>\n",
       "    <tr>\n",
       "      <th>Youssef Chahine</th>\n",
       "      <td>12</td>\n",
       "    </tr>\n",
       "    <tr>\n",
       "      <th>Martin Scorsese</th>\n",
       "      <td>12</td>\n",
       "    </tr>\n",
       "    <tr>\n",
       "      <th>Steven Spielberg</th>\n",
       "      <td>11</td>\n",
       "    </tr>\n",
       "  </tbody>\n",
       "</table>\n",
       "</div>"
      ],
      "text/plain": [
       "                        count\n",
       "director                     \n",
       "Rajiv Chilaka              19\n",
       "Raúl Campos, Jan Suter     18\n",
       "Suhas Kadav                16\n",
       "Marcus Raboy               16\n",
       "Jay Karas                  14\n",
       "Cathy Garcia-Molina        13\n",
       "Jay Chapman                12\n",
       "Youssef Chahine            12\n",
       "Martin Scorsese            12\n",
       "Steven Spielberg           11"
      ]
     },
     "execution_count": 10,
     "metadata": {},
     "output_type": "execute_result"
    }
   ],
   "source": [
    "# top 10 netflix directors by count\n",
    "top_in_attr(netflix,'director')"
   ]
  },
  {
   "cell_type": "code",
   "execution_count": 11,
   "id": "89009103",
   "metadata": {},
   "outputs": [
    {
     "data": {
      "text/html": [
       "<div>\n",
       "<style scoped>\n",
       "    .dataframe tbody tr th:only-of-type {\n",
       "        vertical-align: middle;\n",
       "    }\n",
       "\n",
       "    .dataframe tbody tr th {\n",
       "        vertical-align: top;\n",
       "    }\n",
       "\n",
       "    .dataframe thead th {\n",
       "        text-align: right;\n",
       "    }\n",
       "</style>\n",
       "<table border=\"1\" class=\"dataframe\">\n",
       "  <thead>\n",
       "    <tr style=\"text-align: right;\">\n",
       "      <th></th>\n",
       "      <th>count</th>\n",
       "    </tr>\n",
       "    <tr>\n",
       "      <th>type</th>\n",
       "      <th></th>\n",
       "    </tr>\n",
       "  </thead>\n",
       "  <tbody>\n",
       "    <tr>\n",
       "      <th>Movie</th>\n",
       "      <td>6131</td>\n",
       "    </tr>\n",
       "    <tr>\n",
       "      <th>TV Show</th>\n",
       "      <td>2676</td>\n",
       "    </tr>\n",
       "  </tbody>\n",
       "</table>\n",
       "</div>"
      ],
      "text/plain": [
       "         count\n",
       "type          \n",
       "Movie     6131\n",
       "TV Show   2676"
      ]
     },
     "execution_count": 11,
     "metadata": {},
     "output_type": "execute_result"
    }
   ],
   "source": [
    "# Share of Movies vs TV-shows in netflix\n",
    "top_in_attr(netflix,'type')"
   ]
  },
  {
   "cell_type": "code",
   "execution_count": 12,
   "id": "2f03ccd0",
   "metadata": {},
   "outputs": [
    {
     "data": {
      "text/html": [
       "<div>\n",
       "<style scoped>\n",
       "    .dataframe tbody tr th:only-of-type {\n",
       "        vertical-align: middle;\n",
       "    }\n",
       "\n",
       "    .dataframe tbody tr th {\n",
       "        vertical-align: top;\n",
       "    }\n",
       "\n",
       "    .dataframe thead th {\n",
       "        text-align: right;\n",
       "    }\n",
       "</style>\n",
       "<table border=\"1\" class=\"dataframe\">\n",
       "  <thead>\n",
       "    <tr style=\"text-align: right;\">\n",
       "      <th></th>\n",
       "      <th>count</th>\n",
       "    </tr>\n",
       "    <tr>\n",
       "      <th>country</th>\n",
       "      <th></th>\n",
       "    </tr>\n",
       "  </thead>\n",
       "  <tbody>\n",
       "    <tr>\n",
       "      <th>United States</th>\n",
       "      <td>2818</td>\n",
       "    </tr>\n",
       "    <tr>\n",
       "      <th>India</th>\n",
       "      <td>972</td>\n",
       "    </tr>\n",
       "    <tr>\n",
       "      <th>United Kingdom</th>\n",
       "      <td>419</td>\n",
       "    </tr>\n",
       "    <tr>\n",
       "      <th>Japan</th>\n",
       "      <td>245</td>\n",
       "    </tr>\n",
       "    <tr>\n",
       "      <th>South Korea</th>\n",
       "      <td>199</td>\n",
       "    </tr>\n",
       "    <tr>\n",
       "      <th>Canada</th>\n",
       "      <td>181</td>\n",
       "    </tr>\n",
       "    <tr>\n",
       "      <th>Spain</th>\n",
       "      <td>145</td>\n",
       "    </tr>\n",
       "    <tr>\n",
       "      <th>France</th>\n",
       "      <td>124</td>\n",
       "    </tr>\n",
       "    <tr>\n",
       "      <th>Mexico</th>\n",
       "      <td>110</td>\n",
       "    </tr>\n",
       "    <tr>\n",
       "      <th>Egypt</th>\n",
       "      <td>106</td>\n",
       "    </tr>\n",
       "  </tbody>\n",
       "</table>\n",
       "</div>"
      ],
      "text/plain": [
       "                count\n",
       "country              \n",
       "United States    2818\n",
       "India             972\n",
       "United Kingdom    419\n",
       "Japan             245\n",
       "South Korea       199\n",
       "Canada            181\n",
       "Spain             145\n",
       "France            124\n",
       "Mexico            110\n",
       "Egypt             106"
      ]
     },
     "execution_count": 12,
     "metadata": {},
     "output_type": "execute_result"
    }
   ],
   "source": [
    "top_in_attr(netflix,'country')"
   ]
  },
  {
   "cell_type": "code",
   "execution_count": 13,
   "id": "079d4b12",
   "metadata": {},
   "outputs": [
    {
     "data": {
      "text/html": [
       "<div>\n",
       "<style scoped>\n",
       "    .dataframe tbody tr th:only-of-type {\n",
       "        vertical-align: middle;\n",
       "    }\n",
       "\n",
       "    .dataframe tbody tr th {\n",
       "        vertical-align: top;\n",
       "    }\n",
       "\n",
       "    .dataframe thead th {\n",
       "        text-align: right;\n",
       "    }\n",
       "</style>\n",
       "<table border=\"1\" class=\"dataframe\">\n",
       "  <thead>\n",
       "    <tr style=\"text-align: right;\">\n",
       "      <th></th>\n",
       "      <th>count</th>\n",
       "    </tr>\n",
       "    <tr>\n",
       "      <th>release_year</th>\n",
       "      <th></th>\n",
       "    </tr>\n",
       "  </thead>\n",
       "  <tbody>\n",
       "    <tr>\n",
       "      <th>2018</th>\n",
       "      <td>1147</td>\n",
       "    </tr>\n",
       "    <tr>\n",
       "      <th>2017</th>\n",
       "      <td>1032</td>\n",
       "    </tr>\n",
       "    <tr>\n",
       "      <th>2019</th>\n",
       "      <td>1030</td>\n",
       "    </tr>\n",
       "    <tr>\n",
       "      <th>2020</th>\n",
       "      <td>953</td>\n",
       "    </tr>\n",
       "    <tr>\n",
       "      <th>2016</th>\n",
       "      <td>902</td>\n",
       "    </tr>\n",
       "    <tr>\n",
       "      <th>2021</th>\n",
       "      <td>592</td>\n",
       "    </tr>\n",
       "    <tr>\n",
       "      <th>2015</th>\n",
       "      <td>560</td>\n",
       "    </tr>\n",
       "    <tr>\n",
       "      <th>2014</th>\n",
       "      <td>352</td>\n",
       "    </tr>\n",
       "    <tr>\n",
       "      <th>2013</th>\n",
       "      <td>288</td>\n",
       "    </tr>\n",
       "    <tr>\n",
       "      <th>2012</th>\n",
       "      <td>237</td>\n",
       "    </tr>\n",
       "  </tbody>\n",
       "</table>\n",
       "</div>"
      ],
      "text/plain": [
       "              count\n",
       "release_year       \n",
       "2018           1147\n",
       "2017           1032\n",
       "2019           1030\n",
       "2020            953\n",
       "2016            902\n",
       "2021            592\n",
       "2015            560\n",
       "2014            352\n",
       "2013            288\n",
       "2012            237"
      ]
     },
     "execution_count": 13,
     "metadata": {},
     "output_type": "execute_result"
    }
   ],
   "source": [
    "top_in_attr(netflix,'release_year')"
   ]
  },
  {
   "cell_type": "code",
   "execution_count": 14,
   "id": "2c17dd3f",
   "metadata": {},
   "outputs": [
    {
     "data": {
      "image/png": "[encoded data removed]",
      "text/plain": [
       "<Figure size 1080x504 with 1 Axes>"
      ]
     },
     "metadata": {
      "needs_background": "light"
     },
     "output_type": "display_data"
    }
   ],
   "source": [
    "a = top_in_attr(netflix,'release_year')\n",
    "b = top_in_attr(hulu,'release_year')\n",
    "c = top_in_attr(disney,'release_year')\n",
    "d = top_in_attr(prime,'release_year')\n",
    "plt.figure(figsize=(15, 7))\n",
    "release_years = sns.lineplot(x=\"release_year\",\n",
    "                            y=\"count\",\n",
    "                            data=a,\n",
    "                            legend=\"brief\",\n",
    "                            label='Netflix')\n",
    "release_years = sns.lineplot(x=\"release_year\",\n",
    "                            y=\"count\",\n",
    "                            data=b,\n",
    "                            label='Hulu',\n",
    "                            legend=\"brief\")\n",
    "release_years = sns.lineplot(x=\"release_year\",\n",
    "                            y=\"count\",\n",
    "                            data=c,\n",
    "                            label='Disney+',\n",
    "                            legend=\"brief\")\n",
    "release_years = sns.lineplot(x=\"release_year\",\n",
    "                            y=\"count\",\n",
    "                            data=d,\n",
    "                            label='Amazon Prime',\n",
    "                            legend=\"brief\")\n",
    "#plt.legend()\n",
    "#plt.show()\n",
    "plt.savefig(\"Releases_per_year.png\")"
   ]
  },
  {
   "cell_type": "code",
   "execution_count": 15,
   "id": "736e6b81",
   "metadata": {},
   "outputs": [
    {
     "data": {
      "text/html": [
       "<div>\n",
       "<style scoped>\n",
       "    .dataframe tbody tr th:only-of-type {\n",
       "        vertical-align: middle;\n",
       "    }\n",
       "\n",
       "    .dataframe tbody tr th {\n",
       "        vertical-align: top;\n",
       "    }\n",
       "\n",
       "    .dataframe thead th {\n",
       "        text-align: right;\n",
       "    }\n",
       "</style>\n",
       "<table border=\"1\" class=\"dataframe\">\n",
       "  <thead>\n",
       "    <tr style=\"text-align: right;\">\n",
       "      <th></th>\n",
       "      <th>count</th>\n",
       "    </tr>\n",
       "    <tr>\n",
       "      <th>rating</th>\n",
       "      <th></th>\n",
       "    </tr>\n",
       "  </thead>\n",
       "  <tbody>\n",
       "    <tr>\n",
       "      <th>TV-MA</th>\n",
       "      <td>3207</td>\n",
       "    </tr>\n",
       "    <tr>\n",
       "      <th>TV-14</th>\n",
       "      <td>2160</td>\n",
       "    </tr>\n",
       "    <tr>\n",
       "      <th>TV-PG</th>\n",
       "      <td>863</td>\n",
       "    </tr>\n",
       "    <tr>\n",
       "      <th>R</th>\n",
       "      <td>799</td>\n",
       "    </tr>\n",
       "    <tr>\n",
       "      <th>PG-13</th>\n",
       "      <td>490</td>\n",
       "    </tr>\n",
       "    <tr>\n",
       "      <th>TV-Y7</th>\n",
       "      <td>334</td>\n",
       "    </tr>\n",
       "    <tr>\n",
       "      <th>TV-Y</th>\n",
       "      <td>307</td>\n",
       "    </tr>\n",
       "    <tr>\n",
       "      <th>PG</th>\n",
       "      <td>287</td>\n",
       "    </tr>\n",
       "    <tr>\n",
       "      <th>TV-G</th>\n",
       "      <td>220</td>\n",
       "    </tr>\n",
       "    <tr>\n",
       "      <th>NR</th>\n",
       "      <td>80</td>\n",
       "    </tr>\n",
       "  </tbody>\n",
       "</table>\n",
       "</div>"
      ],
      "text/plain": [
       "        count\n",
       "rating       \n",
       "TV-MA    3207\n",
       "TV-14    2160\n",
       "TV-PG     863\n",
       "R         799\n",
       "PG-13     490\n",
       "TV-Y7     334\n",
       "TV-Y      307\n",
       "PG        287\n",
       "TV-G      220\n",
       "NR         80"
      ]
     },
     "execution_count": 15,
     "metadata": {},
     "output_type": "execute_result"
    }
   ],
   "source": [
    "top_in_attr(netflix,'rating')"
   ]
  },
  {
   "cell_type": "code",
   "execution_count": 21,
   "id": "e2429057",
   "metadata": {},
   "outputs": [
    {
     "data": {
      "text/html": [
       "<div>\n",
       "<style scoped>\n",
       "    .dataframe tbody tr th:only-of-type {\n",
       "        vertical-align: middle;\n",
       "    }\n",
       "\n",
       "    .dataframe tbody tr th {\n",
       "        vertical-align: top;\n",
       "    }\n",
       "\n",
       "    .dataframe thead th {\n",
       "        text-align: right;\n",
       "    }\n",
       "</style>\n",
       "<table border=\"1\" class=\"dataframe\">\n",
       "  <thead>\n",
       "    <tr style=\"text-align: right;\">\n",
       "      <th></th>\n",
       "      <th>level_0</th>\n",
       "      <th>level_1</th>\n",
       "      <th>show_id</th>\n",
       "      <th>type</th>\n",
       "      <th>title</th>\n",
       "      <th>director</th>\n",
       "      <th>cast</th>\n",
       "      <th>country</th>\n",
       "      <th>date_added</th>\n",
       "      <th>release_year</th>\n",
       "      <th>rating</th>\n",
       "      <th>duration</th>\n",
       "      <th>listed_in</th>\n",
       "      <th>description</th>\n",
       "    </tr>\n",
       "  </thead>\n",
       "  <tbody>\n",
       "    <tr>\n",
       "      <th>11042</th>\n",
       "      <td>Prime</td>\n",
       "      <td>2235</td>\n",
       "      <td>s2236</td>\n",
       "      <td>Movie</td>\n",
       "      <td>Hearts in Bondage</td>\n",
       "      <td>Lew Ayres</td>\n",
       "      <td>James Dunn, Mae Clarke, David Manners, Charlot...</td>\n",
       "      <td>NaN</td>\n",
       "      <td>NaN</td>\n",
       "      <td>1936</td>\n",
       "      <td>NR</td>\n",
       "      <td>99 min</td>\n",
       "      <td>Action, Military and War</td>\n",
       "      <td>A historical account, with fictional character...</td>\n",
       "    </tr>\n",
       "    <tr>\n",
       "      <th>14155</th>\n",
       "      <td>Prime</td>\n",
       "      <td>5348</td>\n",
       "      <td>s5349</td>\n",
       "      <td>Movie</td>\n",
       "      <td>Psychophony</td>\n",
       "      <td>Xabier Berraondo</td>\n",
       "      <td>Claudia Pons, Tania Sarrias, Miriam Planas Fer...</td>\n",
       "      <td>NaN</td>\n",
       "      <td>NaN</td>\n",
       "      <td>2011</td>\n",
       "      <td>16+</td>\n",
       "      <td>80 min</td>\n",
       "      <td>Drama, Horror, Suspense</td>\n",
       "      <td>Dr Helena Jara begins an experiment with sever...</td>\n",
       "    </tr>\n",
       "    <tr>\n",
       "      <th>13688</th>\n",
       "      <td>Prime</td>\n",
       "      <td>4881</td>\n",
       "      <td>s4882</td>\n",
       "      <td>Movie</td>\n",
       "      <td>History of a Scoundrel</td>\n",
       "      <td>Julio Bracho</td>\n",
       "      <td>Fernando Soler, Amparo Rivelles, Julio Alemán</td>\n",
       "      <td>NaN</td>\n",
       "      <td>NaN</td>\n",
       "      <td>1963</td>\n",
       "      <td>13+</td>\n",
       "      <td>89 min</td>\n",
       "      <td>Drama</td>\n",
       "      <td>A drama that tells the story of how Lina is ac...</td>\n",
       "    </tr>\n",
       "    <tr>\n",
       "      <th>19377</th>\n",
       "      <td>Disney</td>\n",
       "      <td>902</td>\n",
       "      <td>s903</td>\n",
       "      <td>Movie</td>\n",
       "      <td>Frenemies</td>\n",
       "      <td>Daisy Mayer</td>\n",
       "      <td>Zendaya , Bella Thorne, Mary Mouser, Nick Robi...</td>\n",
       "      <td>United States</td>\n",
       "      <td>November 12, 2019</td>\n",
       "      <td>2012</td>\n",
       "      <td>TV-G</td>\n",
       "      <td>88 min</td>\n",
       "      <td>Anthology, Comedy, Coming of Age</td>\n",
       "      <td>Three very different sets of friends experienc...</td>\n",
       "    </tr>\n",
       "    <tr>\n",
       "      <th>12220</th>\n",
       "      <td>Prime</td>\n",
       "      <td>3413</td>\n",
       "      <td>s3414</td>\n",
       "      <td>Movie</td>\n",
       "      <td>A Haunting on Potter Street</td>\n",
       "      <td>Steven T. Shippy</td>\n",
       "      <td>Steven T. Shippy, Prozak, Brian Harnois, Adam ...</td>\n",
       "      <td>NaN</td>\n",
       "      <td>NaN</td>\n",
       "      <td>2012</td>\n",
       "      <td>13+</td>\n",
       "      <td>77 min</td>\n",
       "      <td>Drama, Horror</td>\n",
       "      <td>For the first time in history, a documentary f...</td>\n",
       "    </tr>\n",
       "    <tr>\n",
       "      <th>14868</th>\n",
       "      <td>Prime</td>\n",
       "      <td>6061</td>\n",
       "      <td>s6062</td>\n",
       "      <td>Movie</td>\n",
       "      <td>Dave Helem: DJ The Chicago Kid</td>\n",
       "      <td>Brian Volk-Weiss</td>\n",
       "      <td>Dave Helem</td>\n",
       "      <td>NaN</td>\n",
       "      <td>NaN</td>\n",
       "      <td>2021</td>\n",
       "      <td>18+</td>\n",
       "      <td>61 min</td>\n",
       "      <td>Arts, Entertainment, and Culture, Comedy, Spec...</td>\n",
       "      <td>DJ the Chicago Kid is an hour-long roller coas...</td>\n",
       "    </tr>\n",
       "    <tr>\n",
       "      <th>18661</th>\n",
       "      <td>Disney</td>\n",
       "      <td>186</td>\n",
       "      <td>s187</td>\n",
       "      <td>Movie</td>\n",
       "      <td>The Sandlot 2</td>\n",
       "      <td>David Mickey Evans</td>\n",
       "      <td>Max Lloyd-Jones, James Willson, Samantha Burto...</td>\n",
       "      <td>United States</td>\n",
       "      <td>July 2, 2021</td>\n",
       "      <td>2005</td>\n",
       "      <td>PG</td>\n",
       "      <td>98 min</td>\n",
       "      <td>Comedy, Sports</td>\n",
       "      <td>10 years after the events at The Sandlot, a te...</td>\n",
       "    </tr>\n",
       "    <tr>\n",
       "      <th>15062</th>\n",
       "      <td>Prime</td>\n",
       "      <td>6255</td>\n",
       "      <td>s6256</td>\n",
       "      <td>Movie</td>\n",
       "      <td>Beyond The Purple Hills</td>\n",
       "      <td>John English</td>\n",
       "      <td>Gene Autry, Champion, Jo-Carroll Dennison</td>\n",
       "      <td>NaN</td>\n",
       "      <td>NaN</td>\n",
       "      <td>1950</td>\n",
       "      <td>16+</td>\n",
       "      <td>70 min</td>\n",
       "      <td>Western</td>\n",
       "      <td>Gene Autry becomes the new Sheriff after bank ...</td>\n",
       "    </tr>\n",
       "    <tr>\n",
       "      <th>21784</th>\n",
       "      <td>Hulu</td>\n",
       "      <td>1859</td>\n",
       "      <td>s1860</td>\n",
       "      <td>TV Show</td>\n",
       "      <td>Serie Pokémon XY – Expediciones en Kalos</td>\n",
       "      <td>NaN</td>\n",
       "      <td>NaN</td>\n",
       "      <td>NaN</td>\n",
       "      <td>January 31, 2020</td>\n",
       "      <td>2015</td>\n",
       "      <td>NaN</td>\n",
       "      <td>1 Season</td>\n",
       "      <td>Anime, Kids</td>\n",
       "      <td>¡Ash y Pikachu continúan con su viaje épico en...</td>\n",
       "    </tr>\n",
       "    <tr>\n",
       "      <th>10071</th>\n",
       "      <td>Prime</td>\n",
       "      <td>1264</td>\n",
       "      <td>s1265</td>\n",
       "      <td>TV Show</td>\n",
       "      <td>Primal Grill with Steven Raichlen</td>\n",
       "      <td>NaN</td>\n",
       "      <td>Steven Raichlen</td>\n",
       "      <td>NaN</td>\n",
       "      <td>NaN</td>\n",
       "      <td>2010</td>\n",
       "      <td>TV-G</td>\n",
       "      <td>1 Season</td>\n",
       "      <td>Special Interest</td>\n",
       "      <td>Global grilling authority Steven Raichlen retu...</td>\n",
       "    </tr>\n",
       "  </tbody>\n",
       "</table>\n",
       "</div>"
      ],
      "text/plain": [
       "      level_0  level_1 show_id     type  \\\n",
       "11042   Prime     2235   s2236    Movie   \n",
       "14155   Prime     5348   s5349    Movie   \n",
       "13688   Prime     4881   s4882    Movie   \n",
       "19377  Disney      902    s903    Movie   \n",
       "12220   Prime     3413   s3414    Movie   \n",
       "14868   Prime     6061   s6062    Movie   \n",
       "18661  Disney      186    s187    Movie   \n",
       "15062   Prime     6255   s6256    Movie   \n",
       "21784    Hulu     1859   s1860  TV Show   \n",
       "10071   Prime     1264   s1265  TV Show   \n",
       "\n",
       "                                          title            director  \\\n",
       "11042                         Hearts in Bondage           Lew Ayres   \n",
       "14155                               Psychophony    Xabier Berraondo   \n",
       "13688                    History of a Scoundrel        Julio Bracho   \n",
       "19377                                 Frenemies         Daisy Mayer   \n",
       "12220               A Haunting on Potter Street    Steven T. Shippy   \n",
       "14868            Dave Helem: DJ The Chicago Kid    Brian Volk-Weiss   \n",
       "18661                             The Sandlot 2  David Mickey Evans   \n",
       "15062                   Beyond The Purple Hills        John English   \n",
       "21784  Serie Pokémon XY – Expediciones en Kalos                 NaN   \n",
       "10071         Primal Grill with Steven Raichlen                 NaN   \n",
       "\n",
       "                                                    cast        country  \\\n",
       "11042  James Dunn, Mae Clarke, David Manners, Charlot...            NaN   \n",
       "14155  Claudia Pons, Tania Sarrias, Miriam Planas Fer...            NaN   \n",
       "13688      Fernando Soler, Amparo Rivelles, Julio Alemán            NaN   \n",
       "19377  Zendaya , Bella Thorne, Mary Mouser, Nick Robi...  United States   \n",
       "12220  Steven T. Shippy, Prozak, Brian Harnois, Adam ...            NaN   \n",
       "14868                                         Dave Helem            NaN   \n",
       "18661  Max Lloyd-Jones, James Willson, Samantha Burto...  United States   \n",
       "15062          Gene Autry, Champion, Jo-Carroll Dennison            NaN   \n",
       "21784                                                NaN            NaN   \n",
       "10071                                    Steven Raichlen            NaN   \n",
       "\n",
       "              date_added  release_year rating  duration  \\\n",
       "11042                NaN          1936     NR    99 min   \n",
       "14155                NaN          2011    16+    80 min   \n",
       "13688                NaN          1963    13+    89 min   \n",
       "19377  November 12, 2019          2012   TV-G    88 min   \n",
       "12220                NaN          2012    13+    77 min   \n",
       "14868                NaN          2021    18+    61 min   \n",
       "18661       July 2, 2021          2005     PG    98 min   \n",
       "15062                NaN          1950    16+    70 min   \n",
       "21784   January 31, 2020          2015    NaN  1 Season   \n",
       "10071                NaN          2010   TV-G  1 Season   \n",
       "\n",
       "                                               listed_in  \\\n",
       "11042                           Action, Military and War   \n",
       "14155                            Drama, Horror, Suspense   \n",
       "13688                                              Drama   \n",
       "19377                   Anthology, Comedy, Coming of Age   \n",
       "12220                                      Drama, Horror   \n",
       "14868  Arts, Entertainment, and Culture, Comedy, Spec...   \n",
       "18661                                     Comedy, Sports   \n",
       "15062                                            Western   \n",
       "21784                                        Anime, Kids   \n",
       "10071                                   Special Interest   \n",
       "\n",
       "                                             description  \n",
       "11042  A historical account, with fictional character...  \n",
       "14155  Dr Helena Jara begins an experiment with sever...  \n",
       "13688  A drama that tells the story of how Lina is ac...  \n",
       "19377  Three very different sets of friends experienc...  \n",
       "12220  For the first time in history, a documentary f...  \n",
       "14868  DJ the Chicago Kid is an hour-long roller coas...  \n",
       "18661  10 years after the events at The Sandlot, a te...  \n",
       "15062  Gene Autry becomes the new Sheriff after bank ...  \n",
       "21784  ¡Ash y Pikachu continúan con su viaje épico en...  \n",
       "10071  Global grilling authority Steven Raichlen retu...  "
      ]
     },
     "execution_count": 21,
     "metadata": {},
     "output_type": "execute_result"
    }
   ],
   "source": [
    "#Merge together all datasets of netflix, prime, disney and hulu\n",
    "all_streams=pd.concat([netflix,prime,disney,hulu], keys=['Netflix', 'Prime','Disney','Hulu']).reset_index()\n",
    "all_streams.sample(10)"
   ]
  },
  {
   "cell_type": "code",
   "execution_count": 19,
   "id": "a580016c",
   "metadata": {},
   "outputs": [
    {
     "data": {
      "text/html": [
       "<div>\n",
       "<style scoped>\n",
       "    .dataframe tbody tr th:only-of-type {\n",
       "        vertical-align: middle;\n",
       "    }\n",
       "\n",
       "    .dataframe tbody tr th {\n",
       "        vertical-align: top;\n",
       "    }\n",
       "\n",
       "    .dataframe thead th {\n",
       "        text-align: right;\n",
       "    }\n",
       "</style>\n",
       "<table border=\"1\" class=\"dataframe\">\n",
       "  <thead>\n",
       "    <tr style=\"text-align: right;\">\n",
       "      <th></th>\n",
       "      <th>service</th>\n",
       "      <th>cast</th>\n",
       "      <th>cnt</th>\n",
       "    </tr>\n",
       "  </thead>\n",
       "  <tbody>\n",
       "    <tr>\n",
       "      <th>0</th>\n",
       "      <td>Prime</td>\n",
       "      <td>Maggie Binkley</td>\n",
       "      <td>56</td>\n",
       "    </tr>\n",
       "    <tr>\n",
       "      <th>1</th>\n",
       "      <td>Netflix</td>\n",
       "      <td>Anupam Kher</td>\n",
       "      <td>43</td>\n",
       "    </tr>\n",
       "    <tr>\n",
       "      <th>2</th>\n",
       "      <td>Netflix</td>\n",
       "      <td>Shah Rukh Khan</td>\n",
       "      <td>35</td>\n",
       "    </tr>\n",
       "    <tr>\n",
       "      <th>3</th>\n",
       "      <td>Prime</td>\n",
       "      <td>1</td>\n",
       "      <td>35</td>\n",
       "    </tr>\n",
       "    <tr>\n",
       "      <th>4</th>\n",
       "      <td>Netflix</td>\n",
       "      <td>Julie Tejwani</td>\n",
       "      <td>33</td>\n",
       "    </tr>\n",
       "  </tbody>\n",
       "</table>\n",
       "</div>"
      ],
      "text/plain": [
       "   service            cast  cnt\n",
       "0    Prime  Maggie Binkley   56\n",
       "1  Netflix     Anupam Kher   43\n",
       "2  Netflix  Shah Rukh Khan   35\n",
       "3    Prime               1   35\n",
       "4  Netflix   Julie Tejwani   33"
      ]
     },
     "execution_count": 19,
     "metadata": {},
     "output_type": "execute_result"
    }
   ],
   "source": [
    "cast = all_streams[[\"level_0\",\"cast\"]]\n",
    "cast=cast.rename(columns={\"level_0\":\"service\"})\n",
    "cast[\"cast\"] = cast[\"cast\"].str.split(\",\")\n",
    "cast = cast.explode(\"cast\")\n",
    "cast[\"cast\"] = cast[\"cast\"].str.strip()\n",
    "cnt = cast.value_counts().reset_index()\n",
    "cnt = cnt.rename(columns={0:\"cnt\"})\n",
    "cnt.to_csv(\"Data/cast_per_platform.csv\")\n",
    "cnt.head(5)"
   ]
  },
  {
   "cell_type": "code",
   "execution_count": 17,
   "id": "0902d657",
   "metadata": {},
   "outputs": [
    {
     "name": "stdout",
     "output_type": "stream",
     "text": [
      "0          netflix - Movie\n",
      "1        netflix - TV Show\n",
      "2        netflix - TV Show\n",
      "3        netflix - TV Show\n",
      "4        netflix - TV Show\n",
      "               ...        \n",
      "22993       hulu - TV Show\n",
      "22994       hulu - TV Show\n",
      "22995       hulu - TV Show\n",
      "22996       hulu - TV Show\n",
      "22997       hulu - TV Show\n",
      "Length: 22998, dtype: object\n"
     ]
    },
    {
     "data": {
      "image/png": "[encoded data removed]",
      "text/plain": [
       "<Figure size 432x288 with 1 Axes>"
      ]
     },
     "metadata": {
      "needs_background": "light"
     },
     "output_type": "display_data"
    }
   ],
   "source": [
    "df = all_streams[\"level_0\"] + \" - \" + all_streams[\"type\"]\n",
    "print(df)\n",
    "sns.countplot(x=df.array)\n",
    "plt.xticks(rotation=-45, ha=\"left\")\n",
    "plt.savefig(\"Amount_of_content.png\",dpi=600, bbox_inches = \"tight\")"
   ]
  },
  {
   "cell_type": "markdown",
   "id": "00ad475e",
   "metadata": {},
   "source": [
    "### Adding information from IMDb"
   ]
  },
  {
   "cell_type": "code",
   "execution_count": 18,
   "id": "964a736a",
   "metadata": {},
   "outputs": [
    {
     "data": {
      "text/html": [
       "<div>\n",
       "<style scoped>\n",
       "    .dataframe tbody tr th:only-of-type {\n",
       "        vertical-align: middle;\n",
       "    }\n",
       "\n",
       "    .dataframe tbody tr th {\n",
       "        vertical-align: top;\n",
       "    }\n",
       "\n",
       "    .dataframe thead th {\n",
       "        text-align: right;\n",
       "    }\n",
       "</style>\n",
       "<table border=\"1\" class=\"dataframe\">\n",
       "  <thead>\n",
       "    <tr style=\"text-align: right;\">\n",
       "      <th></th>\n",
       "      <th>level_0</th>\n",
       "      <th>level_1</th>\n",
       "      <th>show_id</th>\n",
       "      <th>type</th>\n",
       "      <th>title</th>\n",
       "      <th>director</th>\n",
       "      <th>cast</th>\n",
       "      <th>country</th>\n",
       "      <th>date_added</th>\n",
       "      <th>release_year</th>\n",
       "      <th>...</th>\n",
       "      <th>titleType</th>\n",
       "      <th>primaryTitle</th>\n",
       "      <th>originalTitle</th>\n",
       "      <th>isAdult</th>\n",
       "      <th>startYear</th>\n",
       "      <th>endYear</th>\n",
       "      <th>runtimeMinutes</th>\n",
       "      <th>genres</th>\n",
       "      <th>averageRating</th>\n",
       "      <th>numVotes</th>\n",
       "    </tr>\n",
       "  </thead>\n",
       "  <tbody>\n",
       "    <tr>\n",
       "      <th>686</th>\n",
       "      <td>netflix</td>\n",
       "      <td>609</td>\n",
       "      <td>s610</td>\n",
       "      <td>Movie</td>\n",
       "      <td>The Tourist</td>\n",
       "      <td>Florian Henckel von Donnersmarck</td>\n",
       "      <td>Angelina Jolie, Johnny Depp, Paul Bettany, Tim...</td>\n",
       "      <td>United States, France, Italy, United Kingdom</td>\n",
       "      <td>July 1, 2021</td>\n",
       "      <td>2010</td>\n",
       "      <td>...</td>\n",
       "      <td>tvEpisode</td>\n",
       "      <td>The Tourist</td>\n",
       "      <td>The Tourist</td>\n",
       "      <td>0</td>\n",
       "      <td>2010</td>\n",
       "      <td>\\N</td>\n",
       "      <td>\\N</td>\n",
       "      <td>Documentary</td>\n",
       "      <td>NaN</td>\n",
       "      <td>NaN</td>\n",
       "    </tr>\n",
       "    <tr>\n",
       "      <th>13509</th>\n",
       "      <td>prime</td>\n",
       "      <td>6883</td>\n",
       "      <td>s6884</td>\n",
       "      <td>Movie</td>\n",
       "      <td>Namma Oorukku Ennadhan Achu</td>\n",
       "      <td>Nal. Senthilkumar</td>\n",
       "      <td>Mahendran, Miyasree Sowmya</td>\n",
       "      <td>NaN</td>\n",
       "      <td>NaN</td>\n",
       "      <td>2021</td>\n",
       "      <td>...</td>\n",
       "      <td>movie</td>\n",
       "      <td>Namma Oorukku Ennadhan Achu</td>\n",
       "      <td>Namma Oorukku Ennadhan Achu</td>\n",
       "      <td>0</td>\n",
       "      <td>2021</td>\n",
       "      <td>\\N</td>\n",
       "      <td>110</td>\n",
       "      <td>Action,Drama,Romance</td>\n",
       "      <td>4.9</td>\n",
       "      <td>24.0</td>\n",
       "    </tr>\n",
       "  </tbody>\n",
       "</table>\n",
       "<p>2 rows × 25 columns</p>\n",
       "</div>"
      ],
      "text/plain": [
       "       level_0  level_1 show_id   type                        title  \\\n",
       "686    netflix      609    s610  Movie                  The Tourist   \n",
       "13509    prime     6883   s6884  Movie  Namma Oorukku Ennadhan Achu   \n",
       "\n",
       "                               director  \\\n",
       "686    Florian Henckel von Donnersmarck   \n",
       "13509                 Nal. Senthilkumar   \n",
       "\n",
       "                                                    cast  \\\n",
       "686    Angelina Jolie, Johnny Depp, Paul Bettany, Tim...   \n",
       "13509                         Mahendran, Miyasree Sowmya   \n",
       "\n",
       "                                            country    date_added  \\\n",
       "686    United States, France, Italy, United Kingdom  July 1, 2021   \n",
       "13509                                           NaN           NaN   \n",
       "\n",
       "       release_year  ...  titleType                 primaryTitle  \\\n",
       "686            2010  ...  tvEpisode                  The Tourist   \n",
       "13509          2021  ...      movie  Namma Oorukku Ennadhan Achu   \n",
       "\n",
       "                     originalTitle isAdult startYear endYear runtimeMinutes  \\\n",
       "686                    The Tourist       0      2010      \\N             \\N   \n",
       "13509  Namma Oorukku Ennadhan Achu       0      2021      \\N            110   \n",
       "\n",
       "                     genres  averageRating  numVotes  \n",
       "686             Documentary            NaN       NaN  \n",
       "13509  Action,Drama,Romance            4.9      24.0  \n",
       "\n",
       "[2 rows x 25 columns]"
      ]
     },
     "execution_count": 18,
     "metadata": {},
     "output_type": "execute_result"
    }
   ],
   "source": [
    "all_rated = pd.read_csv(\"Data/all_IMDB_rated.csv\")\n",
    "all_rated.sample(2)"
   ]
  },
  {
   "cell_type": "code",
   "execution_count": 19,
   "id": "7f403ae2",
   "metadata": {},
   "outputs": [
    {
     "name": "stdout",
     "output_type": "stream",
     "text": [
      "0          netflix - Movie\n",
      "1        netflix - TV Show\n",
      "2        netflix - TV Show\n",
      "3        netflix - TV Show\n",
      "4        netflix - TV Show\n",
      "               ...        \n",
      "20942       hulu - TV Show\n",
      "20943       hulu - TV Show\n",
      "20944       hulu - TV Show\n",
      "20945       hulu - TV Show\n",
      "20946       hulu - TV Show\n",
      "Length: 20947, dtype: object\n"
     ]
    },
    {
     "data": {
      "image/png": "[encoded data removed]",
      "text/plain": [
       "<Figure size 432x288 with 1 Axes>"
      ]
     },
     "metadata": {
      "needs_background": "light"
     },
     "output_type": "display_data"
    }
   ],
   "source": [
    "df = all_rated[\"level_0\"] + \" - \" + all_rated[\"type\"]\n",
    "print(df)\n",
    "sns.countplot(x=df.array)\n",
    "plt.xticks(rotation=-45, ha=\"left\")\n",
    "plt.savefig(\"Amount_of_content.png\",dpi=600, bbox_inches = \"tight\")"
   ]
  },
  {
   "cell_type": "code",
   "execution_count": 20,
   "id": "126c70cc",
   "metadata": {},
   "outputs": [
    {
     "data": {
      "text/plain": [
       "(8830142, 9)"
      ]
     },
     "execution_count": 20,
     "metadata": {},
     "output_type": "execute_result"
    }
   ],
   "source": [
    "imdb = pd.read_csv(\"Data/title.basics.tsv\", sep=\"\\t\",low_memory=False)\n",
    "imdb.shape"
   ]
  },
  {
   "cell_type": "code",
   "execution_count": 21,
   "id": "9bf0a8d7",
   "metadata": {},
   "outputs": [
    {
     "data": {
      "text/plain": [
       "(176316, 23)"
      ]
     },
     "execution_count": 21,
     "metadata": {},
     "output_type": "execute_result"
    }
   ],
   "source": [
    "all_streams_imdb=pd.merge(all_streams,imdb,left_on=[\"title\"],right_on=[\"originalTitle\"],how='left')\n",
    "all_streams_imdb.shape"
   ]
  },
  {
   "cell_type": "code",
   "execution_count": 22,
   "id": "26244653",
   "metadata": {},
   "outputs": [
    {
     "data": {
      "text/plain": [
       "(20947, 23)"
      ]
     },
     "execution_count": 22,
     "metadata": {},
     "output_type": "execute_result"
    }
   ],
   "source": [
    "all_streams_imdb=all_streams_imdb[all_streams_imdb[\"startYear\"].astype(\"string\")==all_streams_imdb[\"release_year\"].astype(\"string\")]\n",
    "all_streams_imdb.shape"
   ]
  },
  {
   "cell_type": "code",
   "execution_count": 23,
   "id": "60f839cd",
   "metadata": {},
   "outputs": [
    {
     "data": {
      "text/html": [
       "<div>\n",
       "<style scoped>\n",
       "    .dataframe tbody tr th:only-of-type {\n",
       "        vertical-align: middle;\n",
       "    }\n",
       "\n",
       "    .dataframe tbody tr th {\n",
       "        vertical-align: top;\n",
       "    }\n",
       "\n",
       "    .dataframe thead th {\n",
       "        text-align: right;\n",
       "    }\n",
       "</style>\n",
       "<table border=\"1\" class=\"dataframe\">\n",
       "  <thead>\n",
       "    <tr style=\"text-align: right;\">\n",
       "      <th></th>\n",
       "      <th>level_0</th>\n",
       "      <th>level_1</th>\n",
       "      <th>show_id</th>\n",
       "      <th>type</th>\n",
       "      <th>title</th>\n",
       "      <th>director</th>\n",
       "      <th>cast</th>\n",
       "      <th>country</th>\n",
       "      <th>date_added</th>\n",
       "      <th>release_year</th>\n",
       "      <th>...</th>\n",
       "      <th>description</th>\n",
       "      <th>tconst</th>\n",
       "      <th>titleType</th>\n",
       "      <th>primaryTitle</th>\n",
       "      <th>originalTitle</th>\n",
       "      <th>isAdult</th>\n",
       "      <th>startYear</th>\n",
       "      <th>endYear</th>\n",
       "      <th>runtimeMinutes</th>\n",
       "      <th>genres</th>\n",
       "    </tr>\n",
       "  </thead>\n",
       "  <tbody>\n",
       "    <tr>\n",
       "      <th>162648</th>\n",
       "      <td>hulu</td>\n",
       "      <td>1381</td>\n",
       "      <td>s1382</td>\n",
       "      <td>TV Show</td>\n",
       "      <td>I Can See Your Voice</td>\n",
       "      <td>NaN</td>\n",
       "      <td>NaN</td>\n",
       "      <td>NaN</td>\n",
       "      <td>September 24, 2020</td>\n",
       "      <td>2020</td>\n",
       "      <td>...</td>\n",
       "      <td>Actress Cheryl Hines and vocalist Adrienne Bai...</td>\n",
       "      <td>tt11710130</td>\n",
       "      <td>tvSeries</td>\n",
       "      <td>I Can See Your Voice</td>\n",
       "      <td>I Can See Your Voice</td>\n",
       "      <td>0</td>\n",
       "      <td>2020</td>\n",
       "      <td>\\N</td>\n",
       "      <td>44</td>\n",
       "      <td>Game-Show,Music</td>\n",
       "    </tr>\n",
       "    <tr>\n",
       "      <th>134528</th>\n",
       "      <td>prime</td>\n",
       "      <td>9107</td>\n",
       "      <td>s9108</td>\n",
       "      <td>Movie</td>\n",
       "      <td>Scorpio</td>\n",
       "      <td>Michael Winner</td>\n",
       "      <td>Burt Lancaster, Alain Delon, Paul Scofield, Jo...</td>\n",
       "      <td>NaN</td>\n",
       "      <td>NaN</td>\n",
       "      <td>1973</td>\n",
       "      <td>...</td>\n",
       "      <td>In a chilling scenario of international espion...</td>\n",
       "      <td>tt0070653</td>\n",
       "      <td>movie</td>\n",
       "      <td>Scorpio</td>\n",
       "      <td>Scorpio</td>\n",
       "      <td>0</td>\n",
       "      <td>1973</td>\n",
       "      <td>\\N</td>\n",
       "      <td>114</td>\n",
       "      <td>Action,Drama,Thriller</td>\n",
       "    </tr>\n",
       "    <tr>\n",
       "      <th>99876</th>\n",
       "      <td>prime</td>\n",
       "      <td>4837</td>\n",
       "      <td>s4838</td>\n",
       "      <td>Movie</td>\n",
       "      <td>Lavell Crawford: Home for the Holidays</td>\n",
       "      <td>Brian Volk-Weiss</td>\n",
       "      <td>Lavell Crawford</td>\n",
       "      <td>NaN</td>\n",
       "      <td>NaN</td>\n",
       "      <td>2017</td>\n",
       "      <td>...</td>\n",
       "      <td>Lavell Crawford is home for the holidays in hi...</td>\n",
       "      <td>tt7265806</td>\n",
       "      <td>tvSpecial</td>\n",
       "      <td>Lavell Crawford: Home for the Holidays</td>\n",
       "      <td>Lavell Crawford: Home for the Holidays</td>\n",
       "      <td>0</td>\n",
       "      <td>2017</td>\n",
       "      <td>\\N</td>\n",
       "      <td>58</td>\n",
       "      <td>Comedy</td>\n",
       "    </tr>\n",
       "    <tr>\n",
       "      <th>169412</th>\n",
       "      <td>hulu</td>\n",
       "      <td>2244</td>\n",
       "      <td>s2245</td>\n",
       "      <td>TV Show</td>\n",
       "      <td>The Act</td>\n",
       "      <td>NaN</td>\n",
       "      <td>NaN</td>\n",
       "      <td>United States</td>\n",
       "      <td>March 20, 2019</td>\n",
       "      <td>2019</td>\n",
       "      <td>...</td>\n",
       "      <td>The Act follows Gypsy Blanchard, a girl trying...</td>\n",
       "      <td>tt8682948</td>\n",
       "      <td>tvMiniSeries</td>\n",
       "      <td>The Act</td>\n",
       "      <td>The Act</td>\n",
       "      <td>0</td>\n",
       "      <td>2019</td>\n",
       "      <td>2019</td>\n",
       "      <td>60</td>\n",
       "      <td>Biography,Crime,Drama</td>\n",
       "    </tr>\n",
       "    <tr>\n",
       "      <th>1541</th>\n",
       "      <td>netflix</td>\n",
       "      <td>171</td>\n",
       "      <td>s172</td>\n",
       "      <td>Movie</td>\n",
       "      <td>Same Kind of Different as Me</td>\n",
       "      <td>Michael Carney</td>\n",
       "      <td>Greg Kinnear, Renée Zellweger, Djimon Hounsou,...</td>\n",
       "      <td>United States</td>\n",
       "      <td>September 1, 2021</td>\n",
       "      <td>2017</td>\n",
       "      <td>...</td>\n",
       "      <td>A wealthy couple whose marriage is on the rock...</td>\n",
       "      <td>tt1230168</td>\n",
       "      <td>movie</td>\n",
       "      <td>Same Kind of Different as Me</td>\n",
       "      <td>Same Kind of Different as Me</td>\n",
       "      <td>0</td>\n",
       "      <td>2017</td>\n",
       "      <td>\\N</td>\n",
       "      <td>119</td>\n",
       "      <td>Biography,Drama</td>\n",
       "    </tr>\n",
       "  </tbody>\n",
       "</table>\n",
       "<p>5 rows × 23 columns</p>\n",
       "</div>"
      ],
      "text/plain": [
       "        level_0  level_1 show_id     type  \\\n",
       "162648     hulu     1381   s1382  TV Show   \n",
       "134528    prime     9107   s9108    Movie   \n",
       "99876     prime     4837   s4838    Movie   \n",
       "169412     hulu     2244   s2245  TV Show   \n",
       "1541    netflix      171    s172    Movie   \n",
       "\n",
       "                                         title          director  \\\n",
       "162648                    I Can See Your Voice               NaN   \n",
       "134528                                 Scorpio    Michael Winner   \n",
       "99876   Lavell Crawford: Home for the Holidays  Brian Volk-Weiss   \n",
       "169412                                 The Act               NaN   \n",
       "1541              Same Kind of Different as Me    Michael Carney   \n",
       "\n",
       "                                                     cast        country  \\\n",
       "162648                                                NaN            NaN   \n",
       "134528  Burt Lancaster, Alain Delon, Paul Scofield, Jo...            NaN   \n",
       "99876                                     Lavell Crawford            NaN   \n",
       "169412                                                NaN  United States   \n",
       "1541    Greg Kinnear, Renée Zellweger, Djimon Hounsou,...  United States   \n",
       "\n",
       "                date_added  release_year  ...  \\\n",
       "162648  September 24, 2020          2020  ...   \n",
       "134528                 NaN          1973  ...   \n",
       "99876                  NaN          2017  ...   \n",
       "169412      March 20, 2019          2019  ...   \n",
       "1541     September 1, 2021          2017  ...   \n",
       "\n",
       "                                              description      tconst  \\\n",
       "162648  Actress Cheryl Hines and vocalist Adrienne Bai...  tt11710130   \n",
       "134528  In a chilling scenario of international espion...   tt0070653   \n",
       "99876   Lavell Crawford is home for the holidays in hi...   tt7265806   \n",
       "169412  The Act follows Gypsy Blanchard, a girl trying...   tt8682948   \n",
       "1541    A wealthy couple whose marriage is on the rock...   tt1230168   \n",
       "\n",
       "           titleType                            primaryTitle  \\\n",
       "162648      tvSeries                    I Can See Your Voice   \n",
       "134528         movie                                 Scorpio   \n",
       "99876      tvSpecial  Lavell Crawford: Home for the Holidays   \n",
       "169412  tvMiniSeries                                 The Act   \n",
       "1541           movie            Same Kind of Different as Me   \n",
       "\n",
       "                                 originalTitle isAdult startYear endYear  \\\n",
       "162648                    I Can See Your Voice       0      2020      \\N   \n",
       "134528                                 Scorpio       0      1973      \\N   \n",
       "99876   Lavell Crawford: Home for the Holidays       0      2017      \\N   \n",
       "169412                                 The Act       0      2019    2019   \n",
       "1541              Same Kind of Different as Me       0      2017      \\N   \n",
       "\n",
       "       runtimeMinutes                 genres  \n",
       "162648             44        Game-Show,Music  \n",
       "134528            114  Action,Drama,Thriller  \n",
       "99876              58                 Comedy  \n",
       "169412             60  Biography,Crime,Drama  \n",
       "1541              119        Biography,Drama  \n",
       "\n",
       "[5 rows x 23 columns]"
      ]
     },
     "execution_count": 23,
     "metadata": {},
     "output_type": "execute_result"
    }
   ],
   "source": [
    "all_streams_imdb.sample(5)"
   ]
  },
  {
   "cell_type": "code",
   "execution_count": 24,
   "id": "a8a68d7d",
   "metadata": {},
   "outputs": [],
   "source": [
    "rating = pd.read_csv('Data/title.ratings.tsv', sep=\"\\t\")"
   ]
  },
  {
   "cell_type": "code",
   "execution_count": 25,
   "id": "82405e85",
   "metadata": {},
   "outputs": [],
   "source": [
    "all_rated=pd.merge(all_streams_imdb,rating,on=\"tconst\",how=\"left\")"
   ]
  },
  {
   "cell_type": "code",
   "execution_count": 26,
   "id": "d0bde417",
   "metadata": {},
   "outputs": [],
   "source": [
    "all_rated.to_csv(\"Data/all_IMDB_rated.csv\",index=False)"
   ]
  },
  {
   "cell_type": "markdown",
   "id": "6e925096",
   "metadata": {},
   "source": [
    "### Using the merged dataset"
   ]
  },
  {
   "cell_type": "code",
   "execution_count": 27,
   "id": "71161e4b",
   "metadata": {},
   "outputs": [
    {
     "data": {
      "image/png": "[encoded data removed]",
      "text/plain": [
       "<Figure size 1080x504 with 1 Axes>"
      ]
     },
     "metadata": {
      "needs_background": "light"
     },
     "output_type": "display_data"
    }
   ],
   "source": [
    "ratings = all_rated[[\"level_0\",\"averageRating\"]]\n",
    "\n",
    "plt.figure(figsize=(15, 7))\n",
    "sns.histplot(data=ratings,binwidth=0.5,x=\"averageRating\",hue=\"level_0\",)\n",
    "plt.title('Average IMDB Ratings')\n",
    "plt.xlabel('Rating')\n",
    "plt.ylabel('Frequency')\n",
    "plt.xticks(rotation=90)\n",
    "plt.show()"
   ]
  },
  {
   "cell_type": "code",
   "execution_count": 20,
   "id": "54ac4bc9",
   "metadata": {},
   "outputs": [
    {
     "data": {
      "text/plain": [
       "array(['Documentaries', 'International TV Shows', 'TV Dramas',\n",
       "       'TV Mysteries', 'Crime TV Shows', 'TV Action & Adventure',\n",
       "       'Docuseries', 'Reality TV', 'Romantic TV Shows', 'TV Comedies',\n",
       "       'TV Horror', 'Children & Family Movies', 'Dramas',\n",
       "       'Independent Movies', 'International Movies', 'British TV Shows',\n",
       "       'Comedies', 'Spanish-Language TV Shows', 'Thrillers',\n",
       "       'Romantic Movies', 'Music & Musicals', 'Horror Movies',\n",
       "       'Sci-Fi & Fantasy', 'TV Thrillers', \"Kids' TV\",\n",
       "       'Action & Adventure', 'TV Sci-Fi & Fantasy', 'Classic Movies',\n",
       "       'Anime Features', 'Sports Movies', 'Anime Series',\n",
       "       'Korean TV Shows', 'Science & Nature TV', 'Teen TV Shows',\n",
       "       'Cult Movies', 'TV Shows', 'Faith & Spirituality', 'LGBTQ Movies',\n",
       "       'Stand-Up Comedy', 'Movies', 'Stand-Up Comedy & Talk Shows',\n",
       "       'Classic & Cult TV'], dtype=object)"
      ]
     },
     "execution_count": 20,
     "metadata": {},
     "output_type": "execute_result"
    }
   ],
   "source": [
    "# The unique categories of netflix\n",
    "netflix_categories = netflix['listed_in'].str.split(', ').explode('listed_in').unique()\n",
    "netflix_categories"
   ]
  },
  {
   "cell_type": "code",
   "execution_count": 21,
   "id": "bbaf0063",
   "metadata": {},
   "outputs": [],
   "source": [
    "# categories grouped\n",
    "def get_cat(df, number=20):\n",
    "    a = df['listed_in'].str.split(', ').explode('listed_in')\n",
    "    b = pd.DataFrame(a.groupby(a).count())\n",
    "    b.columns = ['count']\n",
    "    b['category'] = b.index\n",
    "    return b.sort_values('count', ascending=False)[:number]"
   ]
  },
  {
   "cell_type": "code",
   "execution_count": 31,
   "id": "195d74fd",
   "metadata": {},
   "outputs": [
    {
     "data": {
      "image/png": "[encoded data removed]",
      "text/plain": [
       "<Figure size 1080x504 with 1 Axes>"
      ]
     },
     "metadata": {
      "needs_background": "light"
     },
     "output_type": "display_data"
    }
   ],
   "source": [
    "plt.figure(figsize=(15, 7))\n",
    "sns.barplot(x='category', y='count', data=get_cat(netflix))\n",
    "plt.title('20 Largest Netflix Categories')\n",
    "plt.xlabel('Category')\n",
    "plt.ylabel('Frequency')\n",
    "plt.xticks(rotation=90)\n",
    "plt.savefig('20_Largest_Netflix_Categories.png')\n",
    "plt.show()"
   ]
  },
  {
   "cell_type": "code",
   "execution_count": 23,
   "id": "a207667b",
   "metadata": {},
   "outputs": [],
   "source": [
    "net_a = get_cat(netflix, 30)\n",
    "pr_a = get_cat(prime, 30)\n",
    "hul_a = get_cat(hulu, 30)\n",
    "dis_a = get_cat(disney, 30)"
   ]
  },
  {
   "cell_type": "code",
   "execution_count": 24,
   "id": "191c820d",
   "metadata": {},
   "outputs": [
    {
     "data": {
      "text/html": [
       "<div>\n",
       "<style scoped>\n",
       "    .dataframe tbody tr th:only-of-type {\n",
       "        vertical-align: middle;\n",
       "    }\n",
       "\n",
       "    .dataframe tbody tr th {\n",
       "        vertical-align: top;\n",
       "    }\n",
       "\n",
       "    .dataframe thead th {\n",
       "        text-align: right;\n",
       "    }\n",
       "</style>\n",
       "<table border=\"1\" class=\"dataframe\">\n",
       "  <thead>\n",
       "    <tr style=\"text-align: right;\">\n",
       "      <th></th>\n",
       "      <th>count</th>\n",
       "      <th>category</th>\n",
       "    </tr>\n",
       "    <tr>\n",
       "      <th>listed_in</th>\n",
       "      <th></th>\n",
       "      <th></th>\n",
       "    </tr>\n",
       "  </thead>\n",
       "  <tbody>\n",
       "    <tr>\n",
       "      <th>International Movies</th>\n",
       "      <td>2752</td>\n",
       "      <td>International Movies</td>\n",
       "    </tr>\n",
       "    <tr>\n",
       "      <th>Dramas</th>\n",
       "      <td>2427</td>\n",
       "      <td>Dramas</td>\n",
       "    </tr>\n",
       "    <tr>\n",
       "      <th>Comedies</th>\n",
       "      <td>1674</td>\n",
       "      <td>Comedies</td>\n",
       "    </tr>\n",
       "    <tr>\n",
       "      <th>International TV Shows</th>\n",
       "      <td>1351</td>\n",
       "      <td>International TV Shows</td>\n",
       "    </tr>\n",
       "    <tr>\n",
       "      <th>Documentaries</th>\n",
       "      <td>869</td>\n",
       "      <td>Documentaries</td>\n",
       "    </tr>\n",
       "    <tr>\n",
       "      <th>Action &amp; Adventure</th>\n",
       "      <td>859</td>\n",
       "      <td>Action &amp; Adventure</td>\n",
       "    </tr>\n",
       "    <tr>\n",
       "      <th>TV Dramas</th>\n",
       "      <td>763</td>\n",
       "      <td>TV Dramas</td>\n",
       "    </tr>\n",
       "    <tr>\n",
       "      <th>Independent Movies</th>\n",
       "      <td>756</td>\n",
       "      <td>Independent Movies</td>\n",
       "    </tr>\n",
       "    <tr>\n",
       "      <th>Children &amp; Family Movies</th>\n",
       "      <td>641</td>\n",
       "      <td>Children &amp; Family Movies</td>\n",
       "    </tr>\n",
       "    <tr>\n",
       "      <th>Romantic Movies</th>\n",
       "      <td>616</td>\n",
       "      <td>Romantic Movies</td>\n",
       "    </tr>\n",
       "    <tr>\n",
       "      <th>TV Comedies</th>\n",
       "      <td>581</td>\n",
       "      <td>TV Comedies</td>\n",
       "    </tr>\n",
       "    <tr>\n",
       "      <th>Thrillers</th>\n",
       "      <td>577</td>\n",
       "      <td>Thrillers</td>\n",
       "    </tr>\n",
       "    <tr>\n",
       "      <th>Crime TV Shows</th>\n",
       "      <td>470</td>\n",
       "      <td>Crime TV Shows</td>\n",
       "    </tr>\n",
       "    <tr>\n",
       "      <th>Kids' TV</th>\n",
       "      <td>451</td>\n",
       "      <td>Kids' TV</td>\n",
       "    </tr>\n",
       "    <tr>\n",
       "      <th>Docuseries</th>\n",
       "      <td>395</td>\n",
       "      <td>Docuseries</td>\n",
       "    </tr>\n",
       "    <tr>\n",
       "      <th>Music &amp; Musicals</th>\n",
       "      <td>375</td>\n",
       "      <td>Music &amp; Musicals</td>\n",
       "    </tr>\n",
       "    <tr>\n",
       "      <th>Romantic TV Shows</th>\n",
       "      <td>370</td>\n",
       "      <td>Romantic TV Shows</td>\n",
       "    </tr>\n",
       "    <tr>\n",
       "      <th>Horror Movies</th>\n",
       "      <td>357</td>\n",
       "      <td>Horror Movies</td>\n",
       "    </tr>\n",
       "    <tr>\n",
       "      <th>Stand-Up Comedy</th>\n",
       "      <td>343</td>\n",
       "      <td>Stand-Up Comedy</td>\n",
       "    </tr>\n",
       "    <tr>\n",
       "      <th>Reality TV</th>\n",
       "      <td>255</td>\n",
       "      <td>Reality TV</td>\n",
       "    </tr>\n",
       "    <tr>\n",
       "      <th>British TV Shows</th>\n",
       "      <td>253</td>\n",
       "      <td>British TV Shows</td>\n",
       "    </tr>\n",
       "    <tr>\n",
       "      <th>Sci-Fi &amp; Fantasy</th>\n",
       "      <td>243</td>\n",
       "      <td>Sci-Fi &amp; Fantasy</td>\n",
       "    </tr>\n",
       "    <tr>\n",
       "      <th>Sports Movies</th>\n",
       "      <td>219</td>\n",
       "      <td>Sports Movies</td>\n",
       "    </tr>\n",
       "    <tr>\n",
       "      <th>Anime Series</th>\n",
       "      <td>176</td>\n",
       "      <td>Anime Series</td>\n",
       "    </tr>\n",
       "    <tr>\n",
       "      <th>Spanish-Language TV Shows</th>\n",
       "      <td>174</td>\n",
       "      <td>Spanish-Language TV Shows</td>\n",
       "    </tr>\n",
       "    <tr>\n",
       "      <th>TV Action &amp; Adventure</th>\n",
       "      <td>168</td>\n",
       "      <td>TV Action &amp; Adventure</td>\n",
       "    </tr>\n",
       "    <tr>\n",
       "      <th>Korean TV Shows</th>\n",
       "      <td>151</td>\n",
       "      <td>Korean TV Shows</td>\n",
       "    </tr>\n",
       "    <tr>\n",
       "      <th>Classic Movies</th>\n",
       "      <td>116</td>\n",
       "      <td>Classic Movies</td>\n",
       "    </tr>\n",
       "    <tr>\n",
       "      <th>LGBTQ Movies</th>\n",
       "      <td>102</td>\n",
       "      <td>LGBTQ Movies</td>\n",
       "    </tr>\n",
       "    <tr>\n",
       "      <th>TV Mysteries</th>\n",
       "      <td>98</td>\n",
       "      <td>TV Mysteries</td>\n",
       "    </tr>\n",
       "  </tbody>\n",
       "</table>\n",
       "</div>"
      ],
      "text/plain": [
       "                           count                   category\n",
       "listed_in                                                  \n",
       "International Movies        2752       International Movies\n",
       "Dramas                      2427                     Dramas\n",
       "Comedies                    1674                   Comedies\n",
       "International TV Shows      1351     International TV Shows\n",
       "Documentaries                869              Documentaries\n",
       "Action & Adventure           859         Action & Adventure\n",
       "TV Dramas                    763                  TV Dramas\n",
       "Independent Movies           756         Independent Movies\n",
       "Children & Family Movies     641   Children & Family Movies\n",
       "Romantic Movies              616            Romantic Movies\n",
       "TV Comedies                  581                TV Comedies\n",
       "Thrillers                    577                  Thrillers\n",
       "Crime TV Shows               470             Crime TV Shows\n",
       "Kids' TV                     451                   Kids' TV\n",
       "Docuseries                   395                 Docuseries\n",
       "Music & Musicals             375           Music & Musicals\n",
       "Romantic TV Shows            370          Romantic TV Shows\n",
       "Horror Movies                357              Horror Movies\n",
       "Stand-Up Comedy              343            Stand-Up Comedy\n",
       "Reality TV                   255                 Reality TV\n",
       "British TV Shows             253           British TV Shows\n",
       "Sci-Fi & Fantasy             243           Sci-Fi & Fantasy\n",
       "Sports Movies                219              Sports Movies\n",
       "Anime Series                 176               Anime Series\n",
       "Spanish-Language TV Shows    174  Spanish-Language TV Shows\n",
       "TV Action & Adventure        168      TV Action & Adventure\n",
       "Korean TV Shows              151            Korean TV Shows\n",
       "Classic Movies               116             Classic Movies\n",
       "LGBTQ Movies                 102               LGBTQ Movies\n",
       "TV Mysteries                  98               TV Mysteries"
      ]
     },
     "execution_count": 24,
     "metadata": {},
     "output_type": "execute_result"
    }
   ],
   "source": [
    "net_a"
   ]
  },
  {
   "cell_type": "code",
   "execution_count": 25,
   "id": "dc10bfbf",
   "metadata": {},
   "outputs": [],
   "source": [
    "net_a['provider'] = 'Netflix'\n",
    "pr_a['provider'] = 'Prime'\n",
    "hul_a['provider'] = 'Hulu'\n",
    "dis_a['provider'] = 'Disney'"
   ]
  },
  {
   "cell_type": "code",
   "execution_count": 26,
   "id": "fc4cf592",
   "metadata": {},
   "outputs": [],
   "source": [
    "big_cat = pd.concat((net_a, pr_a, hul_a, dis_a))"
   ]
  },
  {
   "cell_type": "code",
   "execution_count": 28,
   "id": "f37e6b3c",
   "metadata": {},
   "outputs": [
    {
     "data": {
      "application/vnd.plotly.v1+json": {
       "config": {
        "plotlyServerURL": "https://plot.ly"
       },
       "data": [
        {
         "branchvalues": "total",
         "domain": {
          "x": [
           0,
           1
          ],
          "y": [
           0,
           1
          ]
         },
         "hovertemplate": "labels=%{label}<br>count=%{value}<br>parent=%{parent}<br>id=%{id}<extra></extra>",
         "ids": [
          "Hulu/Action",
          "Prime/Action",
          "Netflix/Action & Adventure",
          "Disney/Action-Adventure",
          "Hulu/Adult Animation",
          "Hulu/Adventure",
          "Prime/Adventure",
          "Disney/Animals & Nature",
          "Disney/Animation",
          "Prime/Animation",
          "Hulu/Anime",
          "Prime/Anime",
          "Netflix/Anime Series",
          "Disney/Anthology",
          "Prime/Arthouse",
          "Prime/Arts",
          "Disney/Biographical",
          "Hulu/Black Stories",
          "Netflix/British TV Shows",
          "Disney/Buddy",
          "Hulu/Cartoons",
          "Netflix/Children & Family Movies",
          "Netflix/Classic Movies",
          "Hulu/Classics",
          "Netflix/Comedies",
          "Disney/Comedy",
          "Hulu/Comedy",
          "Prime/Comedy",
          "Disney/Coming of Age",
          "Hulu/Cooking & Food",
          "Disney/Crime",
          "Hulu/Crime",
          "Netflix/Crime TV Shows",
          "Hulu/Documentaries",
          "Netflix/Documentaries",
          "Disney/Documentary",
          "Prime/Documentary",
          "Disney/Docuseries",
          "Netflix/Docuseries",
          "Disney/Drama",
          "Hulu/Drama",
          "Prime/Drama",
          "Netflix/Dramas",
          "Prime/Entertainment",
          "Prime/Faith and Spirituality",
          "Disney/Family",
          "Hulu/Family",
          "Disney/Fantasy",
          "Prime/Fantasy",
          "Prime/Fitness",
          "Disney/Game Show / Competition",
          "Disney/Historical",
          "Prime/Historical",
          "Hulu/History",
          "Hulu/Horror",
          "Prime/Horror",
          "Netflix/Horror Movies",
          "Netflix/Independent Movies",
          "Hulu/International",
          "Prime/International",
          "Netflix/International Movies",
          "Netflix/International TV Shows",
          "Disney/Kids",
          "Hulu/Kids",
          "Prime/Kids",
          "Netflix/Kids' TV",
          "Netflix/Korean TV Shows",
          "Prime/LGBTQ",
          "Netflix/LGBTQ Movies",
          "Hulu/LGBTQ+",
          "Hulu/Latino",
          "Disney/Lifestyle",
          "Hulu/Lifestyle & Culture",
          "Prime/Military and War",
          "Disney/Music",
          "Hulu/Music",
          "Netflix/Music & Musicals",
          "Prime/Music Videos and Concerts",
          "Disney/Musical",
          "Disney/Mystery",
          "Hulu/Mystery",
          "Hulu/News",
          "Disney/Parody",
          "Disney/Reality",
          "Hulu/Reality",
          "Netflix/Reality TV",
          "Disney/Romance",
          "Hulu/Romance",
          "Prime/Romance",
          "Netflix/Romantic Movies",
          "Netflix/Romantic TV Shows",
          "Netflix/Sci-Fi & Fantasy",
          "Hulu/Science & Technology",
          "Disney/Science Fiction",
          "Hulu/Science Fiction",
          "Prime/Science Fiction",
          "Hulu/Sitcom",
          "Netflix/Spanish-Language TV Shows",
          "Prime/Special Interest",
          "Disney/Sports",
          "Hulu/Sports",
          "Prime/Sports",
          "Netflix/Sports Movies",
          "Netflix/Stand-Up Comedy",
          "Disney/Superhero",
          "Disney/Survival",
          "Prime/Suspense",
          "Netflix/TV Action & Adventure",
          "Netflix/TV Comedies",
          "Netflix/TV Dramas",
          "Netflix/TV Mysteries",
          "Prime/TV Shows",
          "Hulu/Thriller",
          "Netflix/Thrillers",
          "Prime/Unscripted",
          "Disney/Variety",
          "Disney/Western",
          "Prime/Western",
          "Prime/Young Adult Audience",
          "Prime/and Culture",
          "Disney",
          "Hulu",
          "Netflix",
          "Prime"
         ],
         "labels": [
          "Action",
          "Action",
          "Action & Adventure",
          "Action-Adventure",
          "Adult Animation",
          "Adventure",
          "Adventure",
          "Animals & Nature",
          "Animation",
          "Animation",
          "Anime",
          "Anime",
          "Anime Series",
          "Anthology",
          "Arthouse",
          "Arts",
          "Biographical",
          "Black Stories",
          "British TV Shows",
          "Buddy",
          "Cartoons",
          "Children & Family Movies",
          "Classic Movies",
          "Classics",
          "Comedies",
          "Comedy",
          "Comedy",
          "Comedy",
          "Coming of Age",
          "Cooking & Food",
          "Crime",
          "Crime",
          "Crime TV Shows",
          "Documentaries",
          "Documentaries",
          "Documentary",
          "Documentary",
          "Docuseries",
          "Docuseries",
          "Drama",
          "Drama",
          "Drama",
          "Dramas",
          "Entertainment",
          "Faith and Spirituality",
          "Family",
          "Family",
          "Fantasy",
          "Fantasy",
          "Fitness",
          "Game Show / Competition",
          "Historical",
          "Historical",
          "History",
          "Horror",
          "Horror",
          "Horror Movies",
          "Independent Movies",
          "International",
          "International",
          "International Movies",
          "International TV Shows",
          "Kids",
          "Kids",
          "Kids",
          "Kids' TV",
          "Korean TV Shows",
          "LGBTQ",
          "LGBTQ Movies",
          "LGBTQ+",
          "Latino",
          "Lifestyle",
          "Lifestyle & Culture",
          "Military and War",
          "Music",
          "Music",
          "Music & Musicals",
          "Music Videos and Concerts",
          "Musical",
          "Mystery",
          "Mystery",
          "News",
          "Parody",
          "Reality",
          "Reality",
          "Reality TV",
          "Romance",
          "Romance",
          "Romance",
          "Romantic Movies",
          "Romantic TV Shows",
          "Sci-Fi & Fantasy",
          "Science & Technology",
          "Science Fiction",
          "Science Fiction",
          "Science Fiction",
          "Sitcom",
          "Spanish-Language TV Shows",
          "Special Interest",
          "Sports",
          "Sports",
          "Sports",
          "Sports Movies",
          "Stand-Up Comedy",
          "Superhero",
          "Survival",
          "Suspense",
          "TV Action & Adventure",
          "TV Comedies",
          "TV Dramas",
          "TV Mysteries",
          "TV Shows",
          "Thriller",
          "Thrillers",
          "Unscripted",
          "Variety",
          "Western",
          "Western",
          "Young Adult Audience",
          "and Culture",
          "Disney",
          "Hulu",
          "Netflix",
          "Prime"
         ],
         "name": "",
         "parents": [
          "Hulu",
          "Prime",
          "Netflix",
          "Disney",
          "Hulu",
          "Hulu",
          "Prime",
          "Disney",
          "Disney",
          "Prime",
          "Hulu",
          "Prime",
          "Netflix",
          "Disney",
          "Prime",
          "Prime",
          "Disney",
          "Hulu",
          "Netflix",
          "Disney",
          "Hulu",
          "Netflix",
          "Netflix",
          "Hulu",
          "Netflix",
          "Disney",
          "Hulu",
          "Prime",
          "Disney",
          "Hulu",
          "Disney",
          "Hulu",
          "Netflix",
          "Hulu",
          "Netflix",
          "Disney",
          "Prime",
          "Disney",
          "Netflix",
          "Disney",
          "Hulu",
          "Prime",
          "Netflix",
          "Prime",
          "Prime",
          "Disney",
          "Hulu",
          "Disney",
          "Prime",
          "Prime",
          "Disney",
          "Disney",
          "Prime",
          "Hulu",
          "Hulu",
          "Prime",
          "Netflix",
          "Netflix",
          "Hulu",
          "Prime",
          "Netflix",
          "Netflix",
          "Disney",
          "Hulu",
          "Prime",
          "Netflix",
          "Netflix",
          "Prime",
          "Netflix",
          "Hulu",
          "Hulu",
          "Disney",
          "Hulu",
          "Prime",
          "Disney",
          "Hulu",
          "Netflix",
          "Prime",
          "Disney",
          "Disney",
          "Hulu",
          "Hulu",
          "Disney",
          "Disney",
          "Hulu",
          "Netflix",
          "Disney",
          "Hulu",
          "Prime",
          "Netflix",
          "Netflix",
          "Netflix",
          "Hulu",
          "Disney",
          "Hulu",
          "Prime",
          "Hulu",
          "Netflix",
          "Prime",
          "Disney",
          "Hulu",
          "Prime",
          "Netflix",
          "Netflix",
          "Disney",
          "Disney",
          "Prime",
          "Netflix",
          "Netflix",
          "Netflix",
          "Netflix",
          "Prime",
          "Hulu",
          "Netflix",
          "Prime",
          "Disney",
          "Disney",
          "Prime",
          "Prime",
          "Prime",
          "",
          "",
          "",
          ""
         ],
         "type": "treemap",
         "values": [
          555,
          1657,
          859,
          452,
          37,
          556,
          259,
          208,
          542,
          547,
          329,
          80,
          176,
          28,
          141,
          483,
          41,
          113,
          253,
          40,
          34,
          641,
          116,
          35,
          1674,
          526,
          667,
          2099,
          205,
          80,
          16,
          217,
          470,
          524,
          869,
          174,
          993,
          122,
          395,
          134,
          907,
          3687,
          2427,
          483,
          66,
          632,
          205,
          192,
          68,
          83,
          10,
          53,
          31,
          70,
          304,
          875,
          357,
          756,
          216,
          355,
          2752,
          1351,
          141,
          162,
          1085,
          451,
          151,
          113,
          102,
          67,
          92,
          8,
          155,
          44,
          48,
          79,
          375,
          155,
          44,
          12,
          81,
          106,
          9,
          26,
          247,
          255,
          20,
          186,
          674,
          616,
          370,
          243,
          48,
          91,
          122,
          457,
          118,
          174,
          980,
          43,
          139,
          160,
          219,
          343,
          19,
          9,
          1501,
          168,
          581,
          763,
          98,
          263,
          231,
          577,
          152,
          12,
          7,
          234,
          87,
          483,
          3864,
          6682,
          18582,
          18295
         ]
        }
       ],
       "layout": {
        "legend": {
         "tracegroupgap": 0
        },
        "margin": {
         "t": 60
        },
        "template": {
         "data": {
          "bar": [
           {
            "error_x": {
             "color": "#2a3f5f"
            },
            "error_y": {
             "color": "#2a3f5f"
            },
            "marker": {
             "line": {
              "color": "#E5ECF6",
              "width": 0.5
             },
             "pattern": {
              "fillmode": "overlay",
              "size": 10,
              "solidity": 0.2
             }
            },
            "type": "bar"
           }
          ],
          "barpolar": [
           {
            "marker": {
             "line": {
              "color": "#E5ECF6",
              "width": 0.5
             },
             "pattern": {
              "fillmode": "overlay",
              "size": 10,
              "solidity": 0.2
             }
            },
            "type": "barpolar"
           }
          ],
          "carpet": [
           {
            "aaxis": {
             "endlinecolor": "#2a3f5f",
             "gridcolor": "white",
             "linecolor": "white",
             "minorgridcolor": "white",
             "startlinecolor": "#2a3f5f"
            },
            "baxis": {
             "endlinecolor": "#2a3f5f",
             "gridcolor": "white",
             "linecolor": "white",
             "minorgridcolor": "white",
             "startlinecolor": "#2a3f5f"
            },
            "type": "carpet"
           }
          ],
          "choropleth": [
           {
            "colorbar": {
             "outlinewidth": 0,
             "ticks": ""
            },
            "type": "choropleth"
           }
          ],
          "contour": [
           {
            "colorbar": {
             "outlinewidth": 0,
             "ticks": ""
            },
            "colorscale": [
             [
              0,
              "#0d0887"
             ],
             [
              0.1111111111111111,
              "#46039f"
             ],
             [
              0.2222222222222222,
              "#7201a8"
             ],
             [
              0.3333333333333333,
              "#9c179e"
             ],
             [
              0.4444444444444444,
              "#bd3786"
             ],
             [
              0.5555555555555556,
              "#d8576b"
             ],
             [
              0.6666666666666666,
              "#ed7953"
             ],
             [
              0.7777777777777778,
              "#fb9f3a"
             ],
             [
              0.8888888888888888,
              "#fdca26"
             ],
             [
              1,
              "#f0f921"
             ]
            ],
            "type": "contour"
           }
          ],
          "contourcarpet": [
           {
            "colorbar": {
             "outlinewidth": 0,
             "ticks": ""
            },
            "type": "contourcarpet"
           }
          ],
          "heatmap": [
           {
            "colorbar": {
             "outlinewidth": 0,
             "ticks": ""
            },
            "colorscale": [
             [
              0,
              "#0d0887"
             ],
             [
              0.1111111111111111,
              "#46039f"
             ],
             [
              0.2222222222222222,
              "#7201a8"
             ],
             [
              0.3333333333333333,
              "#9c179e"
             ],
             [
              0.4444444444444444,
              "#bd3786"
             ],
             [
              0.5555555555555556,
              "#d8576b"
             ],
             [
              0.6666666666666666,
              "#ed7953"
             ],
             [
              0.7777777777777778,
              "#fb9f3a"
             ],
             [
              0.8888888888888888,
              "#fdca26"
             ],
             [
              1,
              "#f0f921"
             ]
            ],
            "type": "heatmap"
           }
          ],
          "heatmapgl": [
           {
            "colorbar": {
             "outlinewidth": 0,
             "ticks": ""
            },
            "colorscale": [
             [
              0,
              "#0d0887"
             ],
             [
              0.1111111111111111,
              "#46039f"
             ],
             [
              0.2222222222222222,
              "#7201a8"
             ],
             [
              0.3333333333333333,
              "#9c179e"
             ],
             [
              0.4444444444444444,
              "#bd3786"
             ],
             [
              0.5555555555555556,
              "#d8576b"
             ],
             [
              0.6666666666666666,
              "#ed7953"
             ],
             [
              0.7777777777777778,
              "#fb9f3a"
             ],
             [
              0.8888888888888888,
              "#fdca26"
             ],
             [
              1,
              "#f0f921"
             ]
            ],
            "type": "heatmapgl"
           }
          ],
          "histogram": [
           {
            "marker": {
             "pattern": {
              "fillmode": "overlay",
              "size": 10,
              "solidity": 0.2
             }
            },
            "type": "histogram"
           }
          ],
          "histogram2d": [
           {
            "colorbar": {
             "outlinewidth": 0,
             "ticks": ""
            },
            "colorscale": [
             [
              0,
              "#0d0887"
             ],
             [
              0.1111111111111111,
              "#46039f"
             ],
             [
              0.2222222222222222,
              "#7201a8"
             ],
             [
              0.3333333333333333,
              "#9c179e"
             ],
             [
              0.4444444444444444,
              "#bd3786"
             ],
             [
              0.5555555555555556,
              "#d8576b"
             ],
             [
              0.6666666666666666,
              "#ed7953"
             ],
             [
              0.7777777777777778,
              "#fb9f3a"
             ],
             [
              0.8888888888888888,
              "#fdca26"
             ],
             [
              1,
              "#f0f921"
             ]
            ],
            "type": "histogram2d"
           }
          ],
          "histogram2dcontour": [
           {
            "colorbar": {
             "outlinewidth": 0,
             "ticks": ""
            },
            "colorscale": [
             [
              0,
              "#0d0887"
             ],
             [
              0.1111111111111111,
              "#46039f"
             ],
             [
              0.2222222222222222,
              "#7201a8"
             ],
             [
              0.3333333333333333,
              "#9c179e"
             ],
             [
              0.4444444444444444,
              "#bd3786"
             ],
             [
              0.5555555555555556,
              "#d8576b"
             ],
             [
              0.6666666666666666,
              "#ed7953"
             ],
             [
              0.7777777777777778,
              "#fb9f3a"
             ],
             [
              0.8888888888888888,
              "#fdca26"
             ],
             [
              1,
              "#f0f921"
             ]
            ],
            "type": "histogram2dcontour"
           }
          ],
          "mesh3d": [
           {
            "colorbar": {
             "outlinewidth": 0,
             "ticks": ""
            },
            "type": "mesh3d"
           }
          ],
          "parcoords": [
           {
            "line": {
             "colorbar": {
              "outlinewidth": 0,
              "ticks": ""
             }
            },
            "type": "parcoords"
           }
          ],
          "pie": [
           {
            "automargin": true,
            "type": "pie"
           }
          ],
          "scatter": [
           {
            "fillpattern": {
             "fillmode": "overlay",
             "size": 10,
             "solidity": 0.2
            },
            "type": "scatter"
           }
          ],
          "scatter3d": [
           {
            "line": {
             "colorbar": {
              "outlinewidth": 0,
              "ticks": ""
             }
            },
            "marker": {
             "colorbar": {
              "outlinewidth": 0,
              "ticks": ""
             }
            },
            "type": "scatter3d"
           }
          ],
          "scattercarpet": [
           {
            "marker": {
             "colorbar": {
              "outlinewidth": 0,
              "ticks": ""
             }
            },
            "type": "scattercarpet"
           }
          ],
          "scattergeo": [
           {
            "marker": {
             "colorbar": {
              "outlinewidth": 0,
              "ticks": ""
             }
            },
            "type": "scattergeo"
           }
          ],
          "scattergl": [
           {
            "marker": {
             "colorbar": {
              "outlinewidth": 0,
              "ticks": ""
             }
            },
            "type": "scattergl"
           }
          ],
          "scattermapbox": [
           {
            "marker": {
             "colorbar": {
              "outlinewidth": 0,
              "ticks": ""
             }
            },
            "type": "scattermapbox"
           }
          ],
          "scatterpolar": [
           {
            "marker": {
             "colorbar": {
              "outlinewidth": 0,
              "ticks": ""
             }
            },
            "type": "scatterpolar"
           }
          ],
          "scatterpolargl": [
           {
            "marker": {
             "colorbar": {
              "outlinewidth": 0,
              "ticks": ""
             }
            },
            "type": "scatterpolargl"
           }
          ],
          "scatterternary": [
           {
            "marker": {
             "colorbar": {
              "outlinewidth": 0,
              "ticks": ""
             }
            },
            "type": "scatterternary"
           }
          ],
          "surface": [
           {
            "colorbar": {
             "outlinewidth": 0,
             "ticks": ""
            },
            "colorscale": [
             [
              0,
              "#0d0887"
             ],
             [
              0.1111111111111111,
              "#46039f"
             ],
             [
              0.2222222222222222,
              "#7201a8"
             ],
             [
              0.3333333333333333,
              "#9c179e"
             ],
             [
              0.4444444444444444,
              "#bd3786"
             ],
             [
              0.5555555555555556,
              "#d8576b"
             ],
             [
              0.6666666666666666,
              "#ed7953"
             ],
             [
              0.7777777777777778,
              "#fb9f3a"
             ],
             [
              0.8888888888888888,
              "#fdca26"
             ],
             [
              1,
              "#f0f921"
             ]
            ],
            "type": "surface"
           }
          ],
          "table": [
           {
            "cells": {
             "fill": {
              "color": "#EBF0F8"
             },
             "line": {
              "color": "white"
             }
            },
            "header": {
             "fill": {
              "color": "#C8D4E3"
             },
             "line": {
              "color": "white"
             }
            },
            "type": "table"
           }
          ]
         },
         "layout": {
          "annotationdefaults": {
           "arrowcolor": "#2a3f5f",
           "arrowhead": 0,
           "arrowwidth": 1
          },
          "autotypenumbers": "strict",
          "coloraxis": {
           "colorbar": {
            "outlinewidth": 0,
            "ticks": ""
           }
          },
          "colorscale": {
           "diverging": [
            [
             0,
             "#8e0152"
            ],
            [
             0.1,
             "#c51b7d"
            ],
            [
             0.2,
             "#de77ae"
            ],
            [
             0.3,
             "#f1b6da"
            ],
            [
             0.4,
             "#fde0ef"
            ],
            [
             0.5,
             "#f7f7f7"
            ],
            [
             0.6,
             "#e6f5d0"
            ],
            [
             0.7,
             "#b8e186"
            ],
            [
             0.8,
             "#7fbc41"
            ],
            [
             0.9,
             "#4d9221"
            ],
            [
             1,
             "#276419"
            ]
           ],
           "sequential": [
            [
             0,
             "#0d0887"
            ],
            [
             0.1111111111111111,
             "#46039f"
            ],
            [
             0.2222222222222222,
             "#7201a8"
            ],
            [
             0.3333333333333333,
             "#9c179e"
            ],
            [
             0.4444444444444444,
             "#bd3786"
            ],
            [
             0.5555555555555556,
             "#d8576b"
            ],
            [
             0.6666666666666666,
             "#ed7953"
            ],
            [
             0.7777777777777778,
             "#fb9f3a"
            ],
            [
             0.8888888888888888,
             "#fdca26"
            ],
            [
             1,
             "#f0f921"
            ]
           ],
           "sequentialminus": [
            [
             0,
             "#0d0887"
            ],
            [
             0.1111111111111111,
             "#46039f"
            ],
            [
             0.2222222222222222,
             "#7201a8"
            ],
            [
             0.3333333333333333,
             "#9c179e"
            ],
            [
             0.4444444444444444,
             "#bd3786"
            ],
            [
             0.5555555555555556,
             "#d8576b"
            ],
            [
             0.6666666666666666,
             "#ed7953"
            ],
            [
             0.7777777777777778,
             "#fb9f3a"
            ],
            [
             0.8888888888888888,
             "#fdca26"
            ],
            [
             1,
             "#f0f921"
            ]
           ]
          },
          "colorway": [
           "#636efa",
           "#EF553B",
           "#00cc96",
           "#ab63fa",
           "#FFA15A",
           "#19d3f3",
           "#FF6692",
           "#B6E880",
           "#FF97FF",
           "#FECB52"
          ],
          "font": {
           "color": "#2a3f5f"
          },
          "geo": {
           "bgcolor": "white",
           "lakecolor": "white",
           "landcolor": "#E5ECF6",
           "showlakes": true,
           "showland": true,
           "subunitcolor": "white"
          },
          "hoverlabel": {
           "align": "left"
          },
          "hovermode": "closest",
          "mapbox": {
           "style": "light"
          },
          "paper_bgcolor": "white",
          "plot_bgcolor": "#E5ECF6",
          "polar": {
           "angularaxis": {
            "gridcolor": "white",
            "linecolor": "white",
            "ticks": ""
           },
           "bgcolor": "#E5ECF6",
           "radialaxis": {
            "gridcolor": "white",
            "linecolor": "white",
            "ticks": ""
           }
          },
          "scene": {
           "xaxis": {
            "backgroundcolor": "#E5ECF6",
            "gridcolor": "white",
            "gridwidth": 2,
            "linecolor": "white",
            "showbackground": true,
            "ticks": "",
            "zerolinecolor": "white"
           },
           "yaxis": {
            "backgroundcolor": "#E5ECF6",
            "gridcolor": "white",
            "gridwidth": 2,
            "linecolor": "white",
            "showbackground": true,
            "ticks": "",
            "zerolinecolor": "white"
           },
           "zaxis": {
            "backgroundcolor": "#E5ECF6",
            "gridcolor": "white",
            "gridwidth": 2,
            "linecolor": "white",
            "showbackground": true,
            "ticks": "",
            "zerolinecolor": "white"
           }
          },
          "shapedefaults": {
           "line": {
            "color": "#2a3f5f"
           }
          },
          "ternary": {
           "aaxis": {
            "gridcolor": "white",
            "linecolor": "white",
            "ticks": ""
           },
           "baxis": {
            "gridcolor": "white",
            "linecolor": "white",
            "ticks": ""
           },
           "bgcolor": "#E5ECF6",
           "caxis": {
            "gridcolor": "white",
            "linecolor": "white",
            "ticks": ""
           }
          },
          "title": {
           "x": 0.05
          },
          "xaxis": {
           "automargin": true,
           "gridcolor": "white",
           "linecolor": "white",
           "ticks": "",
           "title": {
            "standoff": 15
           },
           "zerolinecolor": "white",
           "zerolinewidth": 2
          },
          "yaxis": {
           "automargin": true,
           "gridcolor": "white",
           "linecolor": "white",
           "ticks": "",
           "title": {
            "standoff": 15
           },
           "zerolinecolor": "white",
           "zerolinewidth": 2
          }
         }
        }
       }
      },
      "text/html": [
       "<div>                            <div id=\"2d38ba28-763e-42a4-ba59-066d01f5b7c6\" class=\"plotly-graph-div\" style=\"height:525px; width:100%;\"></div>            <script type=\"text/javascript\">                require([\"plotly\"], function(Plotly) {                    window.PLOTLYENV=window.PLOTLYENV || {};                                    if (document.getElementById(\"2d38ba28-763e-42a4-ba59-066d01f5b7c6\")) {                    Plotly.newPlot(                        \"2d38ba28-763e-42a4-ba59-066d01f5b7c6\",                        [{\"branchvalues\":\"total\",\"domain\":{\"x\":[0.0,1.0],\"y\":[0.0,1.0]},\"hovertemplate\":\"labels=%{label}<br>count=%{value}<br>parent=%{parent}<br>id=%{id}<extra></extra>\",\"ids\":[\"Hulu/Action\",\"Prime/Action\",\"Netflix/Action & Adventure\",\"Disney/Action-Adventure\",\"Hulu/Adult Animation\",\"Hulu/Adventure\",\"Prime/Adventure\",\"Disney/Animals & Nature\",\"Disney/Animation\",\"Prime/Animation\",\"Hulu/Anime\",\"Prime/Anime\",\"Netflix/Anime Series\",\"Disney/Anthology\",\"Prime/Arthouse\",\"Prime/Arts\",\"Disney/Biographical\",\"Hulu/Black Stories\",\"Netflix/British TV Shows\",\"Disney/Buddy\",\"Hulu/Cartoons\",\"Netflix/Children & Family Movies\",\"Netflix/Classic Movies\",\"Hulu/Classics\",\"Netflix/Comedies\",\"Disney/Comedy\",\"Hulu/Comedy\",\"Prime/Comedy\",\"Disney/Coming of Age\",\"Hulu/Cooking & Food\",\"Disney/Crime\",\"Hulu/Crime\",\"Netflix/Crime TV Shows\",\"Hulu/Documentaries\",\"Netflix/Documentaries\",\"Disney/Documentary\",\"Prime/Documentary\",\"Disney/Docuseries\",\"Netflix/Docuseries\",\"Disney/Drama\",\"Hulu/Drama\",\"Prime/Drama\",\"Netflix/Dramas\",\"Prime/Entertainment\",\"Prime/Faith and Spirituality\",\"Disney/Family\",\"Hulu/Family\",\"Disney/Fantasy\",\"Prime/Fantasy\",\"Prime/Fitness\",\"Disney/Game Show / Competition\",\"Disney/Historical\",\"Prime/Historical\",\"Hulu/History\",\"Hulu/Horror\",\"Prime/Horror\",\"Netflix/Horror Movies\",\"Netflix/Independent Movies\",\"Hulu/International\",\"Prime/International\",\"Netflix/International Movies\",\"Netflix/International TV Shows\",\"Disney/Kids\",\"Hulu/Kids\",\"Prime/Kids\",\"Netflix/Kids' TV\",\"Netflix/Korean TV Shows\",\"Prime/LGBTQ\",\"Netflix/LGBTQ Movies\",\"Hulu/LGBTQ+\",\"Hulu/Latino\",\"Disney/Lifestyle\",\"Hulu/Lifestyle & Culture\",\"Prime/Military and War\",\"Disney/Music\",\"Hulu/Music\",\"Netflix/Music & Musicals\",\"Prime/Music Videos and Concerts\",\"Disney/Musical\",\"Disney/Mystery\",\"Hulu/Mystery\",\"Hulu/News\",\"Disney/Parody\",\"Disney/Reality\",\"Hulu/Reality\",\"Netflix/Reality TV\",\"Disney/Romance\",\"Hulu/Romance\",\"Prime/Romance\",\"Netflix/Romantic Movies\",\"Netflix/Romantic TV Shows\",\"Netflix/Sci-Fi & Fantasy\",\"Hulu/Science & Technology\",\"Disney/Science Fiction\",\"Hulu/Science Fiction\",\"Prime/Science Fiction\",\"Hulu/Sitcom\",\"Netflix/Spanish-Language TV Shows\",\"Prime/Special Interest\",\"Disney/Sports\",\"Hulu/Sports\",\"Prime/Sports\",\"Netflix/Sports Movies\",\"Netflix/Stand-Up Comedy\",\"Disney/Superhero\",\"Disney/Survival\",\"Prime/Suspense\",\"Netflix/TV Action & Adventure\",\"Netflix/TV Comedies\",\"Netflix/TV Dramas\",\"Netflix/TV Mysteries\",\"Prime/TV Shows\",\"Hulu/Thriller\",\"Netflix/Thrillers\",\"Prime/Unscripted\",\"Disney/Variety\",\"Disney/Western\",\"Prime/Western\",\"Prime/Young Adult Audience\",\"Prime/and Culture\",\"Disney\",\"Hulu\",\"Netflix\",\"Prime\"],\"labels\":[\"Action\",\"Action\",\"Action & Adventure\",\"Action-Adventure\",\"Adult Animation\",\"Adventure\",\"Adventure\",\"Animals & Nature\",\"Animation\",\"Animation\",\"Anime\",\"Anime\",\"Anime Series\",\"Anthology\",\"Arthouse\",\"Arts\",\"Biographical\",\"Black Stories\",\"British TV Shows\",\"Buddy\",\"Cartoons\",\"Children & Family Movies\",\"Classic Movies\",\"Classics\",\"Comedies\",\"Comedy\",\"Comedy\",\"Comedy\",\"Coming of Age\",\"Cooking & Food\",\"Crime\",\"Crime\",\"Crime TV Shows\",\"Documentaries\",\"Documentaries\",\"Documentary\",\"Documentary\",\"Docuseries\",\"Docuseries\",\"Drama\",\"Drama\",\"Drama\",\"Dramas\",\"Entertainment\",\"Faith and Spirituality\",\"Family\",\"Family\",\"Fantasy\",\"Fantasy\",\"Fitness\",\"Game Show / Competition\",\"Historical\",\"Historical\",\"History\",\"Horror\",\"Horror\",\"Horror Movies\",\"Independent Movies\",\"International\",\"International\",\"International Movies\",\"International TV Shows\",\"Kids\",\"Kids\",\"Kids\",\"Kids' TV\",\"Korean TV Shows\",\"LGBTQ\",\"LGBTQ Movies\",\"LGBTQ+\",\"Latino\",\"Lifestyle\",\"Lifestyle & Culture\",\"Military and War\",\"Music\",\"Music\",\"Music & Musicals\",\"Music Videos and Concerts\",\"Musical\",\"Mystery\",\"Mystery\",\"News\",\"Parody\",\"Reality\",\"Reality\",\"Reality TV\",\"Romance\",\"Romance\",\"Romance\",\"Romantic Movies\",\"Romantic TV Shows\",\"Sci-Fi & Fantasy\",\"Science & Technology\",\"Science Fiction\",\"Science Fiction\",\"Science Fiction\",\"Sitcom\",\"Spanish-Language TV Shows\",\"Special Interest\",\"Sports\",\"Sports\",\"Sports\",\"Sports Movies\",\"Stand-Up Comedy\",\"Superhero\",\"Survival\",\"Suspense\",\"TV Action & Adventure\",\"TV Comedies\",\"TV Dramas\",\"TV Mysteries\",\"TV Shows\",\"Thriller\",\"Thrillers\",\"Unscripted\",\"Variety\",\"Western\",\"Western\",\"Young Adult Audience\",\"and Culture\",\"Disney\",\"Hulu\",\"Netflix\",\"Prime\"],\"name\":\"\",\"parents\":[\"Hulu\",\"Prime\",\"Netflix\",\"Disney\",\"Hulu\",\"Hulu\",\"Prime\",\"Disney\",\"Disney\",\"Prime\",\"Hulu\",\"Prime\",\"Netflix\",\"Disney\",\"Prime\",\"Prime\",\"Disney\",\"Hulu\",\"Netflix\",\"Disney\",\"Hulu\",\"Netflix\",\"Netflix\",\"Hulu\",\"Netflix\",\"Disney\",\"Hulu\",\"Prime\",\"Disney\",\"Hulu\",\"Disney\",\"Hulu\",\"Netflix\",\"Hulu\",\"Netflix\",\"Disney\",\"Prime\",\"Disney\",\"Netflix\",\"Disney\",\"Hulu\",\"Prime\",\"Netflix\",\"Prime\",\"Prime\",\"Disney\",\"Hulu\",\"Disney\",\"Prime\",\"Prime\",\"Disney\",\"Disney\",\"Prime\",\"Hulu\",\"Hulu\",\"Prime\",\"Netflix\",\"Netflix\",\"Hulu\",\"Prime\",\"Netflix\",\"Netflix\",\"Disney\",\"Hulu\",\"Prime\",\"Netflix\",\"Netflix\",\"Prime\",\"Netflix\",\"Hulu\",\"Hulu\",\"Disney\",\"Hulu\",\"Prime\",\"Disney\",\"Hulu\",\"Netflix\",\"Prime\",\"Disney\",\"Disney\",\"Hulu\",\"Hulu\",\"Disney\",\"Disney\",\"Hulu\",\"Netflix\",\"Disney\",\"Hulu\",\"Prime\",\"Netflix\",\"Netflix\",\"Netflix\",\"Hulu\",\"Disney\",\"Hulu\",\"Prime\",\"Hulu\",\"Netflix\",\"Prime\",\"Disney\",\"Hulu\",\"Prime\",\"Netflix\",\"Netflix\",\"Disney\",\"Disney\",\"Prime\",\"Netflix\",\"Netflix\",\"Netflix\",\"Netflix\",\"Prime\",\"Hulu\",\"Netflix\",\"Prime\",\"Disney\",\"Disney\",\"Prime\",\"Prime\",\"Prime\",\"\",\"\",\"\",\"\"],\"values\":[555,1657,859,452,37,556,259,208,542,547,329,80,176,28,141,483,41,113,253,40,34,641,116,35,1674,526,667,2099,205,80,16,217,470,524,869,174,993,122,395,134,907,3687,2427,483,66,632,205,192,68,83,10,53,31,70,304,875,357,756,216,355,2752,1351,141,162,1085,451,151,113,102,67,92,8,155,44,48,79,375,155,44,12,81,106,9,26,247,255,20,186,674,616,370,243,48,91,122,457,118,174,980,43,139,160,219,343,19,9,1501,168,581,763,98,263,231,577,152,12,7,234,87,483,3864,6682,18582,18295],\"type\":\"treemap\"}],                        {\"template\":{\"data\":{\"histogram2dcontour\":[{\"type\":\"histogram2dcontour\",\"colorbar\":{\"outlinewidth\":0,\"ticks\":\"\"},\"colorscale\":[[0.0,\"#0d0887\"],[0.1111111111111111,\"#46039f\"],[0.2222222222222222,\"#7201a8\"],[0.3333333333333333,\"#9c179e\"],[0.4444444444444444,\"#bd3786\"],[0.5555555555555556,\"#d8576b\"],[0.6666666666666666,\"#ed7953\"],[0.7777777777777778,\"#fb9f3a\"],[0.8888888888888888,\"#fdca26\"],[1.0,\"#f0f921\"]]}],\"choropleth\":[{\"type\":\"choropleth\",\"colorbar\":{\"outlinewidth\":0,\"ticks\":\"\"}}],\"histogram2d\":[{\"type\":\"histogram2d\",\"colorbar\":{\"outlinewidth\":0,\"ticks\":\"\"},\"colorscale\":[[0.0,\"#0d0887\"],[0.1111111111111111,\"#46039f\"],[0.2222222222222222,\"#7201a8\"],[0.3333333333333333,\"#9c179e\"],[0.4444444444444444,\"#bd3786\"],[0.5555555555555556,\"#d8576b\"],[0.6666666666666666,\"#ed7953\"],[0.7777777777777778,\"#fb9f3a\"],[0.8888888888888888,\"#fdca26\"],[1.0,\"#f0f921\"]]}],\"heatmap\":[{\"type\":\"heatmap\",\"colorbar\":{\"outlinewidth\":0,\"ticks\":\"\"},\"colorscale\":[[0.0,\"#0d0887\"],[0.1111111111111111,\"#46039f\"],[0.2222222222222222,\"#7201a8\"],[0.3333333333333333,\"#9c179e\"],[0.4444444444444444,\"#bd3786\"],[0.5555555555555556,\"#d8576b\"],[0.6666666666666666,\"#ed7953\"],[0.7777777777777778,\"#fb9f3a\"],[0.8888888888888888,\"#fdca26\"],[1.0,\"#f0f921\"]]}],\"heatmapgl\":[{\"type\":\"heatmapgl\",\"colorbar\":{\"outlinewidth\":0,\"ticks\":\"\"},\"colorscale\":[[0.0,\"#0d0887\"],[0.1111111111111111,\"#46039f\"],[0.2222222222222222,\"#7201a8\"],[0.3333333333333333,\"#9c179e\"],[0.4444444444444444,\"#bd3786\"],[0.5555555555555556,\"#d8576b\"],[0.6666666666666666,\"#ed7953\"],[0.7777777777777778,\"#fb9f3a\"],[0.8888888888888888,\"#fdca26\"],[1.0,\"#f0f921\"]]}],\"contourcarpet\":[{\"type\":\"contourcarpet\",\"colorbar\":{\"outlinewidth\":0,\"ticks\":\"\"}}],\"contour\":[{\"type\":\"contour\",\"colorbar\":{\"outlinewidth\":0,\"ticks\":\"\"},\"colorscale\":[[0.0,\"#0d0887\"],[0.1111111111111111,\"#46039f\"],[0.2222222222222222,\"#7201a8\"],[0.3333333333333333,\"#9c179e\"],[0.4444444444444444,\"#bd3786\"],[0.5555555555555556,\"#d8576b\"],[0.6666666666666666,\"#ed7953\"],[0.7777777777777778,\"#fb9f3a\"],[0.8888888888888888,\"#fdca26\"],[1.0,\"#f0f921\"]]}],\"surface\":[{\"type\":\"surface\",\"colorbar\":{\"outlinewidth\":0,\"ticks\":\"\"},\"colorscale\":[[0.0,\"#0d0887\"],[0.1111111111111111,\"#46039f\"],[0.2222222222222222,\"#7201a8\"],[0.3333333333333333,\"#9c179e\"],[0.4444444444444444,\"#bd3786\"],[0.5555555555555556,\"#d8576b\"],[0.6666666666666666,\"#ed7953\"],[0.7777777777777778,\"#fb9f3a\"],[0.8888888888888888,\"#fdca26\"],[1.0,\"#f0f921\"]]}],\"mesh3d\":[{\"type\":\"mesh3d\",\"colorbar\":{\"outlinewidth\":0,\"ticks\":\"\"}}],\"scatter\":[{\"fillpattern\":{\"fillmode\":\"overlay\",\"size\":10,\"solidity\":0.2},\"type\":\"scatter\"}],\"parcoords\":[{\"type\":\"parcoords\",\"line\":{\"colorbar\":{\"outlinewidth\":0,\"ticks\":\"\"}}}],\"scatterpolargl\":[{\"type\":\"scatterpolargl\",\"marker\":{\"colorbar\":{\"outlinewidth\":0,\"ticks\":\"\"}}}],\"bar\":[{\"error_x\":{\"color\":\"#2a3f5f\"},\"error_y\":{\"color\":\"#2a3f5f\"},\"marker\":{\"line\":{\"color\":\"#E5ECF6\",\"width\":0.5},\"pattern\":{\"fillmode\":\"overlay\",\"size\":10,\"solidity\":0.2}},\"type\":\"bar\"}],\"scattergeo\":[{\"type\":\"scattergeo\",\"marker\":{\"colorbar\":{\"outlinewidth\":0,\"ticks\":\"\"}}}],\"scatterpolar\":[{\"type\":\"scatterpolar\",\"marker\":{\"colorbar\":{\"outlinewidth\":0,\"ticks\":\"\"}}}],\"histogram\":[{\"marker\":{\"pattern\":{\"fillmode\":\"overlay\",\"size\":10,\"solidity\":0.2}},\"type\":\"histogram\"}],\"scattergl\":[{\"type\":\"scattergl\",\"marker\":{\"colorbar\":{\"outlinewidth\":0,\"ticks\":\"\"}}}],\"scatter3d\":[{\"type\":\"scatter3d\",\"line\":{\"colorbar\":{\"outlinewidth\":0,\"ticks\":\"\"}},\"marker\":{\"colorbar\":{\"outlinewidth\":0,\"ticks\":\"\"}}}],\"scattermapbox\":[{\"type\":\"scattermapbox\",\"marker\":{\"colorbar\":{\"outlinewidth\":0,\"ticks\":\"\"}}}],\"scatterternary\":[{\"type\":\"scatterternary\",\"marker\":{\"colorbar\":{\"outlinewidth\":0,\"ticks\":\"\"}}}],\"scattercarpet\":[{\"type\":\"scattercarpet\",\"marker\":{\"colorbar\":{\"outlinewidth\":0,\"ticks\":\"\"}}}],\"carpet\":[{\"aaxis\":{\"endlinecolor\":\"#2a3f5f\",\"gridcolor\":\"white\",\"linecolor\":\"white\",\"minorgridcolor\":\"white\",\"startlinecolor\":\"#2a3f5f\"},\"baxis\":{\"endlinecolor\":\"#2a3f5f\",\"gridcolor\":\"white\",\"linecolor\":\"white\",\"minorgridcolor\":\"white\",\"startlinecolor\":\"#2a3f5f\"},\"type\":\"carpet\"}],\"table\":[{\"cells\":{\"fill\":{\"color\":\"#EBF0F8\"},\"line\":{\"color\":\"white\"}},\"header\":{\"fill\":{\"color\":\"#C8D4E3\"},\"line\":{\"color\":\"white\"}},\"type\":\"table\"}],\"barpolar\":[{\"marker\":{\"line\":{\"color\":\"#E5ECF6\",\"width\":0.5},\"pattern\":{\"fillmode\":\"overlay\",\"size\":10,\"solidity\":0.2}},\"type\":\"barpolar\"}],\"pie\":[{\"automargin\":true,\"type\":\"pie\"}]},\"layout\":{\"autotypenumbers\":\"strict\",\"colorway\":[\"#636efa\",\"#EF553B\",\"#00cc96\",\"#ab63fa\",\"#FFA15A\",\"#19d3f3\",\"#FF6692\",\"#B6E880\",\"#FF97FF\",\"#FECB52\"],\"font\":{\"color\":\"#2a3f5f\"},\"hovermode\":\"closest\",\"hoverlabel\":{\"align\":\"left\"},\"paper_bgcolor\":\"white\",\"plot_bgcolor\":\"#E5ECF6\",\"polar\":{\"bgcolor\":\"#E5ECF6\",\"angularaxis\":{\"gridcolor\":\"white\",\"linecolor\":\"white\",\"ticks\":\"\"},\"radialaxis\":{\"gridcolor\":\"white\",\"linecolor\":\"white\",\"ticks\":\"\"}},\"ternary\":{\"bgcolor\":\"#E5ECF6\",\"aaxis\":{\"gridcolor\":\"white\",\"linecolor\":\"white\",\"ticks\":\"\"},\"baxis\":{\"gridcolor\":\"white\",\"linecolor\":\"white\",\"ticks\":\"\"},\"caxis\":{\"gridcolor\":\"white\",\"linecolor\":\"white\",\"ticks\":\"\"}},\"coloraxis\":{\"colorbar\":{\"outlinewidth\":0,\"ticks\":\"\"}},\"colorscale\":{\"sequential\":[[0.0,\"#0d0887\"],[0.1111111111111111,\"#46039f\"],[0.2222222222222222,\"#7201a8\"],[0.3333333333333333,\"#9c179e\"],[0.4444444444444444,\"#bd3786\"],[0.5555555555555556,\"#d8576b\"],[0.6666666666666666,\"#ed7953\"],[0.7777777777777778,\"#fb9f3a\"],[0.8888888888888888,\"#fdca26\"],[1.0,\"#f0f921\"]],\"sequentialminus\":[[0.0,\"#0d0887\"],[0.1111111111111111,\"#46039f\"],[0.2222222222222222,\"#7201a8\"],[0.3333333333333333,\"#9c179e\"],[0.4444444444444444,\"#bd3786\"],[0.5555555555555556,\"#d8576b\"],[0.6666666666666666,\"#ed7953\"],[0.7777777777777778,\"#fb9f3a\"],[0.8888888888888888,\"#fdca26\"],[1.0,\"#f0f921\"]],\"diverging\":[[0,\"#8e0152\"],[0.1,\"#c51b7d\"],[0.2,\"#de77ae\"],[0.3,\"#f1b6da\"],[0.4,\"#fde0ef\"],[0.5,\"#f7f7f7\"],[0.6,\"#e6f5d0\"],[0.7,\"#b8e186\"],[0.8,\"#7fbc41\"],[0.9,\"#4d9221\"],[1,\"#276419\"]]},\"xaxis\":{\"gridcolor\":\"white\",\"linecolor\":\"white\",\"ticks\":\"\",\"title\":{\"standoff\":15},\"zerolinecolor\":\"white\",\"automargin\":true,\"zerolinewidth\":2},\"yaxis\":{\"gridcolor\":\"white\",\"linecolor\":\"white\",\"ticks\":\"\",\"title\":{\"standoff\":15},\"zerolinecolor\":\"white\",\"automargin\":true,\"zerolinewidth\":2},\"scene\":{\"xaxis\":{\"backgroundcolor\":\"#E5ECF6\",\"gridcolor\":\"white\",\"linecolor\":\"white\",\"showbackground\":true,\"ticks\":\"\",\"zerolinecolor\":\"white\",\"gridwidth\":2},\"yaxis\":{\"backgroundcolor\":\"#E5ECF6\",\"gridcolor\":\"white\",\"linecolor\":\"white\",\"showbackground\":true,\"ticks\":\"\",\"zerolinecolor\":\"white\",\"gridwidth\":2},\"zaxis\":{\"backgroundcolor\":\"#E5ECF6\",\"gridcolor\":\"white\",\"linecolor\":\"white\",\"showbackground\":true,\"ticks\":\"\",\"zerolinecolor\":\"white\",\"gridwidth\":2}},\"shapedefaults\":{\"line\":{\"color\":\"#2a3f5f\"}},\"annotationdefaults\":{\"arrowcolor\":\"#2a3f5f\",\"arrowhead\":0,\"arrowwidth\":1},\"geo\":{\"bgcolor\":\"white\",\"landcolor\":\"#E5ECF6\",\"subunitcolor\":\"white\",\"showland\":true,\"showlakes\":true,\"lakecolor\":\"white\"},\"title\":{\"x\":0.05},\"mapbox\":{\"style\":\"light\"}}},\"legend\":{\"tracegroupgap\":0},\"margin\":{\"t\":60}},                        {\"responsive\": true}                    ).then(function(){\n",
       "                            \n",
       "var gd = document.getElementById('2d38ba28-763e-42a4-ba59-066d01f5b7c6');\n",
       "var x = new MutationObserver(function (mutations, observer) {{\n",
       "        var display = window.getComputedStyle(gd).display;\n",
       "        if (!display || display === 'none') {{\n",
       "            console.log([gd, 'removed!']);\n",
       "            Plotly.purge(gd);\n",
       "            observer.disconnect();\n",
       "        }}\n",
       "}});\n",
       "\n",
       "// Listen for the removal of the full notebook cells\n",
       "var notebookContainer = gd.closest('#notebook-container');\n",
       "if (notebookContainer) {{\n",
       "    x.observe(notebookContainer, {childList: true});\n",
       "}}\n",
       "\n",
       "// Listen for the clearing of the current output cell\n",
       "var outputEl = gd.closest('.output');\n",
       "if (outputEl) {{\n",
       "    x.observe(outputEl, {childList: true});\n",
       "}}\n",
       "\n",
       "                        })                };                });            </script>        </div>"
      ]
     },
     "metadata": {},
     "output_type": "display_data"
    }
   ],
   "source": [
    "import plotly.express as px\n",
    "fig = px.treemap(big_cat, path=['provider', 'category'], values='count')\n",
    "fig.show()"
   ]
  }
 ],
 "metadata": {
  "interpreter": {
   "hash": "4486620b624f4c2fe74934cb5990899084361f8f6162252160f138f44c770fc2"
  },
  "kernelspec": {
   "display_name": "Python 3.8.8 ('base')",
   "language": "python",
   "name": "python3"
  },
  "language_info": {
   "codemirror_mode": {
    "name": "ipython",
    "version": 3
   },
   "file_extension": ".py",
   "mimetype": "text/x-python",
   "name": "python",
   "nbconvert_exporter": "python",
   "pygments_lexer": "ipython3",
   "version": "3.8.8"
  }
 },
 "nbformat": 4,
 "nbformat_minor": 5
}
