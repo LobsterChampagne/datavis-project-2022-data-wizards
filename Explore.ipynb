{
 "cells": [
  {
   "cell_type": "markdown",
   "id": "2b785420",
   "metadata": {},
   "source": [
    "# This notebook is used to explore the datasets"
   ]
  },
  {
   "cell_type": "code",
   "execution_count": null,
   "id": "90c11aba",
   "metadata": {},
   "outputs": [],
   "source": [
    "import pandas as pd\n",
    "import seaborn as sns\n",
    "from matplotlib import pyplot as plt\n",
    "%matplotlib inline"
   ]
  },
  {
   "cell_type": "code",
   "execution_count": null,
   "id": "01df36c8",
   "metadata": {},
   "outputs": [],
   "source": [
    "#Load data\n",
    "netflix = pd.read_csv('Data/netflix_titles.csv')\n",
    "prime = pd.read_csv('Data/amazon_prime_titles.csv')\n",
    "disney = pd.read_csv('Data/disney_plus_titles.csv')\n",
    "hulu = pd.read_csv('Data/hulu_titles.csv')\n",
    "platforms = pd.read_csv('Data/MoviesOnStreamingPlatforms.csv')"
   ]
  },
  {
   "cell_type": "code",
   "execution_count": null,
   "id": "381953eb",
   "metadata": {},
   "outputs": [],
   "source": [
    "# Overview of individual dataframe\n",
    "netflix.head(1)"
   ]
  },
  {
   "cell_type": "code",
   "execution_count": null,
   "id": "48d14aae",
   "metadata": {},
   "outputs": [],
   "source": [
    "# Overview of individual dataframe\n",
    "disney.head(1)"
   ]
  },
  {
   "cell_type": "code",
   "execution_count": null,
   "id": "e375081f",
   "metadata": {},
   "outputs": [],
   "source": [
    "# Overview of individual datafra\n",
    "hulu.shape"
   ]
  },
  {
   "cell_type": "code",
   "execution_count": null,
   "id": "42e80285",
   "metadata": {},
   "outputs": [],
   "source": [
    "# Overview of individual datafr\n",
    "prime.sample(10)"
   ]
  },
  {
   "cell_type": "code",
   "execution_count": null,
   "id": "e4078a77",
   "metadata": {},
   "outputs": [],
   "source": [
    "print('The amount of titles per platform')\n",
    "print('netflix:',netflix.shape[0])\n",
    "print('prime:',prime.shape[0])\n",
    "print('disney:',disney.shape[0])\n",
    "print('hulu:',hulu.shape[0])"
   ]
  },
  {
   "cell_type": "code",
   "execution_count": null,
   "id": "b3801426",
   "metadata": {},
   "outputs": [],
   "source": [
    "# Overview of the platform dataframe\n",
    "platforms"
   ]
  },
  {
   "cell_type": "code",
   "execution_count": null,
   "id": "53f8988f",
   "metadata": {},
   "outputs": [],
   "source": [
    "def top_in_attr(dataframe, attribute, count=10):\n",
    "    df_temp = dataframe.groupby(attribute).count()[['show_id']]\n",
    "    df_temp.columns = ['count']\n",
    "    return df_temp.sort_values('count',ascending=False).head(count)"
   ]
  },
  {
   "cell_type": "code",
   "execution_count": null,
   "id": "71f442cd",
   "metadata": {},
   "outputs": [],
   "source": [
    "# top 10 netflix directors by count\n",
    "top_in_attr(netflix,'director')"
   ]
  },
  {
   "cell_type": "code",
   "execution_count": null,
   "id": "89009103",
   "metadata": {},
   "outputs": [],
   "source": [
    "# Share of Movies vs TV-shows in netflix\n",
    "top_in_attr(netflix,'type')"
   ]
  },
  {
   "cell_type": "code",
   "execution_count": null,
   "id": "2f03ccd0",
   "metadata": {},
   "outputs": [],
   "source": [
    "top_in_attr(netflix,'country')"
   ]
  },
  {
   "cell_type": "code",
   "execution_count": null,
   "id": "079d4b12",
   "metadata": {},
   "outputs": [],
   "source": [
    "top_in_attr(netflix,'release_year')"
   ]
  },
  {
   "cell_type": "code",
   "execution_count": null,
   "id": "2c17dd3f",
   "metadata": {},
   "outputs": [],
   "source": [
    "a = top_in_attr(netflix,'release_year')\n",
    "b = top_in_attr(hulu,'release_year')\n",
    "c = top_in_attr(disney,'release_year')\n",
    "d = top_in_attr(prime,'release_year')\n",
    "plt.figure(figsize=(15, 7))\n",
    "release_years = sns.lineplot(x=\"release_year\",\n",
    "                            y=\"count\",\n",
    "                            data=a,\n",
    "                            legend=\"brief\",\n",
    "                            label='Netflix')\n",
    "release_years = sns.lineplot(x=\"release_year\",\n",
    "                            y=\"count\",\n",
    "                            data=b,\n",
    "                            label='Hulu',\n",
    "                            legend=\"brief\")\n",
    "release_years = sns.lineplot(x=\"release_year\",\n",
    "                            y=\"count\",\n",
    "                            data=c,\n",
    "                            label='Disney+',\n",
    "                            legend=\"brief\")\n",
    "release_years = sns.lineplot(x=\"release_year\",\n",
    "                            y=\"count\",\n",
    "                            data=d,\n",
    "                            label='Amazon Prime',\n",
    "                            legend=\"brief\")\n",
    "#plt.legend()\n",
    "#plt.show()\n",
    "plt.savefig(\"Releases_per_year.png\")"
   ]
  },
  {
   "cell_type": "code",
   "execution_count": null,
   "id": "736e6b81",
   "metadata": {},
   "outputs": [],
   "source": [
    "top_in_attr(netflix,'rating')"
   ]
  },
  {
   "cell_type": "code",
   "execution_count": null,
   "id": "e2429057",
   "metadata": {},
   "outputs": [],
   "source": [
    "#Merge together all datasets of netflix, prime, disney and hulu\n",
    "all_streams=pd.concat([netflix,prime,disney,hulu], keys=['Netflix', 'Prime','Disney','Hulu']).reset_index()\n",
    "all_streams.sample(10)"
   ]
  },
  {
   "cell_type": "code",
   "execution_count": null,
   "id": "91c499ae",
   "metadata": {},
   "outputs": [],
   "source": [
    "director = all_streams[[\"level_0\",\"director\"]]\n",
    "director = director.rename(columns={\"level_0\":\"service\"})\n",
    "director[\"director\"] = director[\"director\"].str.split(\",\")\n",
    "director = director.explode(\"director\")\n",
    "director[\"director\"] = director[\"director\"].str.strip()\n",
    "cnt = director.value_counts().reset_index()\n",
    "cnt = cnt.rename(columns={0:\"cnt\"})\n",
    "cnt = pd.concat([cnt,imdb_director_hulu_count],ignore_index=True)\n",
    "cnt = cnt.sort_values(\"cnt\",ascending=False)\n",
    "cnt.to_csv(\"Data/director_per_platform.csv\")\n",
    "cnt.sample(40)"
   ]
  },
  {
   "cell_type": "code",
   "execution_count": null,
   "id": "a580016c",
   "metadata": {},
   "outputs": [],
   "source": [
    "cast = all_streams[[\"level_0\",\"cast\"]]\n",
    "cast=cast.rename(columns={\"level_0\":\"service\"})\n",
    "cast[\"cast\"] = cast[\"cast\"].str.split(\",\")\n",
    "cast = cast.explode(\"cast\")\n",
    "cast[\"cast\"] = cast[\"cast\"].str.strip()\n",
    "cnt = cast.value_counts().reset_index()\n",
    "cnt = cnt.rename(columns={0:\"cnt\"})\n",
    "cnt = pd.concat([cnt,imdb_cast_hulu_count],ignore_index=True)\n",
    "cnt = cnt.sort_values(\"cnt\",ascending=False)\n",
    "cnt.to_csv(\"Data/cast_per_platform.csv\")\n",
    "cnt.sample(40)"
   ]
  },
  {
   "cell_type": "code",
   "execution_count": null,
   "id": "0902d657",
   "metadata": {},
   "outputs": [],
   "source": [
    "df = all_streams[\"level_0\"] + \" - \" + all_streams[\"type\"]\n",
    "print(df)\n",
    "sns.countplot(x=df.array)\n",
    "plt.xticks(rotation=-45, ha=\"left\")\n",
    "plt.savefig(\"Amount_of_content.png\",dpi=600, bbox_inches = \"tight\")"
   ]
  },
  {
   "cell_type": "markdown",
   "id": "00ad475e",
   "metadata": {},
   "source": [
    "### Adding information from IMDb"
   ]
  },
  {
   "cell_type": "code",
   "execution_count": null,
   "id": "964a736a",
   "metadata": {},
   "outputs": [],
   "source": [
    "all_rated = pd.read_csv(\"Data/all_IMDB_rated.csv\")\n",
    "all_rated.sample(2)"
   ]
  },
  {
   "cell_type": "code",
   "execution_count": null,
   "id": "7f403ae2",
   "metadata": {},
   "outputs": [],
   "source": [
    "df = all_rated[\"level_0\"] + \" - \" + all_rated[\"type\"]\n",
    "print(df)\n",
    "sns.countplot(x=df.array)\n",
    "plt.xticks(rotation=-45, ha=\"left\")\n",
    "plt.savefig(\"Amount_of_content.png\",dpi=600, bbox_inches = \"tight\")"
   ]
  },
  {
   "cell_type": "code",
   "execution_count": null,
   "id": "126c70cc",
   "metadata": {},
   "outputs": [],
   "source": [
    "imdb = pd.read_csv(\"Data/title.basics.tsv\", sep=\"\\t\",low_memory=False)\n",
    "imdb.shape"
   ]
  },
  {
   "cell_type": "code",
   "execution_count": null,
   "id": "89a90197",
   "metadata": {},
   "outputs": [],
   "source": [
    "imdb.sample(1)"
   ]
  },
  {
   "cell_type": "code",
   "execution_count": null,
   "id": "9bf0a8d7",
   "metadata": {},
   "outputs": [],
   "source": [
    "hulu_imdb=pd.merge(hulu,imdb,left_on=[\"title\"],right_on=[\"originalTitle\"],how='left')\n",
    "hulu_imdb.shape"
   ]
  },
  {
   "cell_type": "code",
   "execution_count": null,
   "id": "26244653",
   "metadata": {},
   "outputs": [],
   "source": [
    "hulu_imdb=hulu_imdb[hulu_imdb[\"startYear\"].astype(\"string\")==hulu_imdb[\"release_year\"].astype(\"string\")]\n",
    "hulu_imdb.shape"
   ]
  },
  {
   "cell_type": "code",
   "execution_count": null,
   "id": "d2ba9603",
   "metadata": {},
   "outputs": [],
   "source": [
    "hulu_imdb2=hulu_imdb[(hulu_imdb[\"title\"].str.count(\" \")>3) |((hulu_imdb[\"type\"].astype(\"string\")==\"Movie\") & (hulu_imdb[\"titleType\"].astype(\"string\")==\"movie\")) | ((hulu_imdb[\"type\"].astype(\"string\")==\"TV Show\") & (hulu_imdb[\"titleType\"].astype(\"string\")==\"tvSeries\")) ]\n",
    "hulu_imdb2.shape"
   ]
  },
  {
   "cell_type": "code",
   "execution_count": null,
   "id": "60f839cd",
   "metadata": {},
   "outputs": [],
   "source": [
    "hulu_imdb2.sample(5)"
   ]
  },
  {
   "cell_type": "code",
   "execution_count": null,
   "id": "3678f5dd",
   "metadata": {},
   "outputs": [],
   "source": [
    "imdb_cast = pd.read_csv(\"Data/title.principals.tsv\", sep=\"\\t\",low_memory=False)\n"
   ]
  },
  {
   "cell_type": "code",
   "execution_count": null,
   "id": "b2ca6212",
   "metadata": {},
   "outputs": [],
   "source": [
    "imdb_cast.head(3)"
   ]
  },
  {
   "cell_type": "code",
   "execution_count": null,
   "id": "e4661b5f",
   "metadata": {},
   "outputs": [],
   "source": [
    "imdb_cast.shape"
   ]
  },
  {
   "cell_type": "code",
   "execution_count": null,
   "id": "21779ea3",
   "metadata": {},
   "outputs": [],
   "source": []
  },
  {
   "cell_type": "code",
   "execution_count": null,
   "id": "1941fac8",
   "metadata": {},
   "outputs": [],
   "source": [
    "imdb_cast_hulu = pd.merge(hulu_imdb2,imdb_cast[imdb_cast[\"category\"].astype(\"string\")==\"actor\"],left_on=[\"tconst\"],right_on=[\"tconst\"],how='left')\n",
    "imdb_cast_hulu.head(20)"
   ]
  },
  {
   "cell_type": "code",
   "execution_count": null,
   "id": "05d8df6a",
   "metadata": {},
   "outputs": [],
   "source": [
    "imdb_director_hulu = pd.merge(hulu_imdb2,imdb_cast[imdb_cast[\"category\"].astype(\"string\")==\"director\"],left_on=[\"tconst\"],right_on=[\"tconst\"],how='left')\n",
    "imdb_director_hulu.head(2)"
   ]
  },
  {
   "cell_type": "code",
   "execution_count": null,
   "id": "0c41d77f",
   "metadata": {},
   "outputs": [],
   "source": [
    "imdb_name = pd.read_csv(\"Data/name.basics.tsv\", sep=\"\\t\",low_memory=False)\n",
    "imdb_name.shape"
   ]
  },
  {
   "cell_type": "code",
   "execution_count": null,
   "id": "c72ad0e7",
   "metadata": {},
   "outputs": [],
   "source": [
    "imdb_cast_hulu_names = pd.merge(imdb_cast_hulu,imdb_name,left_on=\"nconst\",right_on=\"nconst\",how=\"left\")\n",
    "imdb_cast_hulu_names.sample(10)"
   ]
  },
  {
   "cell_type": "code",
   "execution_count": 138,
   "metadata": {},
   "outputs": [
    {
     "name": "stdout",
     "output_type": "stream",
     "text": [
      "all_collumns:  ['show_id', 'type', 'title', 'director', 'cast', 'country', 'date_added', 'release_year', 'rating', 'duration', 'listed_in', 'description', 'primaryName']\n",
      "columns_group:  ['show_id', 'type', 'title', 'director', 'cast', 'country', 'date_added', 'release_year', 'rating', 'duration', 'listed_in', 'description']\n"
     ]
    },
    {
     "data": {
      "text/html": [
       "<div>\n",
       "<style scoped>\n",
       "    .dataframe tbody tr th:only-of-type {\n",
       "        vertical-align: middle;\n",
       "    }\n",
       "\n",
       "    .dataframe tbody tr th {\n",
       "        vertical-align: top;\n",
       "    }\n",
       "\n",
       "    .dataframe thead th {\n",
       "        text-align: right;\n",
       "    }\n",
       "</style>\n",
       "<table border=\"1\" class=\"dataframe\">\n",
       "  <thead>\n",
       "    <tr style=\"text-align: right;\">\n",
       "      <th></th>\n",
       "      <th>show_id</th>\n",
       "      <th>type</th>\n",
       "      <th>title</th>\n",
       "      <th>director</th>\n",
       "      <th>cast</th>\n",
       "      <th>country</th>\n",
       "      <th>date_added</th>\n",
       "      <th>release_year</th>\n",
       "      <th>rating</th>\n",
       "      <th>duration</th>\n",
       "      <th>listed_in</th>\n",
       "      <th>description</th>\n",
       "      <th>primaryName</th>\n",
       "    </tr>\n",
       "  </thead>\n",
       "  <tbody>\n",
       "    <tr>\n",
       "      <th>0</th>\n",
       "      <td>s2</td>\n",
       "      <td>Movie</td>\n",
       "      <td>Silent Night</td>\n",
       "      <td>NaN</td>\n",
       "      <td>NaN</td>\n",
       "      <td>NaN</td>\n",
       "      <td>October 23, 2021</td>\n",
       "      <td>2020</td>\n",
       "      <td>NaN</td>\n",
       "      <td>94 min</td>\n",
       "      <td>Crime, Drama, Thriller</td>\n",
       "      <td>Mark, a low end South London hitman recently r...</td>\n",
       "      <td>Will Thorne</td>\n",
       "    </tr>\n",
       "    <tr>\n",
       "      <th>1</th>\n",
       "      <td>s3</td>\n",
       "      <td>Movie</td>\n",
       "      <td>The Marksman</td>\n",
       "      <td>NaN</td>\n",
       "      <td>NaN</td>\n",
       "      <td>NaN</td>\n",
       "      <td>October 23, 2021</td>\n",
       "      <td>2021</td>\n",
       "      <td>PG-13</td>\n",
       "      <td>108 min</td>\n",
       "      <td>Action, Thriller</td>\n",
       "      <td>A hardened Arizona rancher tries to protect an...</td>\n",
       "      <td>Robert Lorenz</td>\n",
       "    </tr>\n",
       "    <tr>\n",
       "      <th>2</th>\n",
       "      <td>s4</td>\n",
       "      <td>Movie</td>\n",
       "      <td>Gaia</td>\n",
       "      <td>NaN</td>\n",
       "      <td>NaN</td>\n",
       "      <td>NaN</td>\n",
       "      <td>October 22, 2021</td>\n",
       "      <td>2021</td>\n",
       "      <td>R</td>\n",
       "      <td>97 min</td>\n",
       "      <td>Horror</td>\n",
       "      <td>A forest ranger and two survivalists with a cu...</td>\n",
       "      <td>Jaco Bouwer</td>\n",
       "    </tr>\n",
       "    <tr>\n",
       "      <th>3</th>\n",
       "      <td>s5</td>\n",
       "      <td>Movie</td>\n",
       "      <td>Settlers</td>\n",
       "      <td>NaN</td>\n",
       "      <td>NaN</td>\n",
       "      <td>NaN</td>\n",
       "      <td>October 22, 2021</td>\n",
       "      <td>2021</td>\n",
       "      <td>NaN</td>\n",
       "      <td>104 min</td>\n",
       "      <td>Science Fiction, Thriller</td>\n",
       "      <td>Mankind's earliest settlers on the Martian fro...</td>\n",
       "      <td>Wyatt Rockefeller</td>\n",
       "    </tr>\n",
       "    <tr>\n",
       "      <th>4</th>\n",
       "      <td>s8</td>\n",
       "      <td>TV Show</td>\n",
       "      <td>The Next Thing You Eat</td>\n",
       "      <td>NaN</td>\n",
       "      <td>NaN</td>\n",
       "      <td>NaN</td>\n",
       "      <td>October 21, 2021</td>\n",
       "      <td>2021</td>\n",
       "      <td>NaN</td>\n",
       "      <td>1 Season</td>\n",
       "      <td>Cooking &amp; Food, Documentaries, Lifestyle &amp; Cul...</td>\n",
       "      <td>With the unique insights and experience of Ugl...</td>\n",
       "      <td>NaN</td>\n",
       "    </tr>\n",
       "  </tbody>\n",
       "</table>\n",
       "</div>"
      ],
      "text/plain": [
       "  show_id     type                   title director  cast country  \\\n",
       "0      s2    Movie            Silent Night      NaN   NaN     NaN   \n",
       "1      s3    Movie            The Marksman      NaN   NaN     NaN   \n",
       "2      s4    Movie                    Gaia      NaN   NaN     NaN   \n",
       "3      s5    Movie                Settlers      NaN   NaN     NaN   \n",
       "4      s8  TV Show  The Next Thing You Eat      NaN   NaN     NaN   \n",
       "\n",
       "         date_added  release_year rating  duration  \\\n",
       "0  October 23, 2021          2020    NaN    94 min   \n",
       "1  October 23, 2021          2021  PG-13   108 min   \n",
       "2  October 22, 2021          2021      R    97 min   \n",
       "3  October 22, 2021          2021    NaN   104 min   \n",
       "4  October 21, 2021          2021    NaN  1 Season   \n",
       "\n",
       "                                           listed_in  \\\n",
       "0                             Crime, Drama, Thriller   \n",
       "1                                   Action, Thriller   \n",
       "2                                             Horror   \n",
       "3                          Science Fiction, Thriller   \n",
       "4  Cooking & Food, Documentaries, Lifestyle & Cul...   \n",
       "\n",
       "                                         description        primaryName  \n",
       "0  Mark, a low end South London hitman recently r...        Will Thorne  \n",
       "1  A hardened Arizona rancher tries to protect an...      Robert Lorenz  \n",
       "2  A forest ranger and two survivalists with a cu...        Jaco Bouwer  \n",
       "3  Mankind's earliest settlers on the Martian fro...  Wyatt Rockefeller  \n",
       "4  With the unique insights and experience of Ugl...                NaN  "
      ]
     },
     "execution_count": 138,
     "metadata": {},
     "output_type": "execute_result"
    }
   ],
   "source": [
    "all_columns = list(hulu.columns)\n",
    "all_columns.append(\"primaryName\")\n",
    "\n",
    "\n",
    "columns_group = list(hulu.columns)\n",
    "print(\"all_collumns: \",all_columns)\n",
    "print(\"columns_group: \",columns_group)\n",
    "t_c = imdb_cast_hulu_names[all_columns]\n",
    "t_c.head(5)\n",
    "\n",
    "t_d = imdb_director_hulu_names[all_columns]\n",
    "t_d.head(5)\n"
   ]
  },
  {
   "cell_type": "code",
   "execution_count": 158,
   "id": "8bd770ab",
   "metadata": {},
   "outputs": [],
   "source": [
    "\n",
    "df_c = t_c.groupby(\"show_id\")[\"primaryName\"].apply(list).reset_index()\n",
    "hulu_new = pd.merge(hulu,df_c,on=\"show_id\",how=\"left\")\n",
    "hulu_new[\"cast\"]=hulu_new[\"primaryName\"]\n",
    "hulu_new.drop(\"primaryName\",inplace=True,axis=1)\n",
    "hulu_new.sample(5)\n",
    "\n",
    "df_d = t_d.drop_duplicates(columns_group)[[\"show_id\",\"primaryName\"]]\n",
    "hulu_new = pd.merge(hulu_new,df_d,on=\"show_id\",how=\"left\")\n",
    "hulu_new[\"director\"]=hulu_new[\"primaryName\"]\n",
    "hulu_new.drop(\"primaryName\",inplace=True,axis=1)\n",
    "\n",
    "hulu_new.replace([np.nan],np.nan,inplace=True)\n",
    "hulu_new.sample(5)\n",
    "\n",
    "hulu_new[\"cast\"] = hulu_new[\"cast\"].str.join(\", \")\n",
    "hulu_new.to_csv(\"Data/hulu_title_joines_with_IMDB.csv\")"
   ]
  },
  {
   "cell_type": "code",
   "execution_count": 142,
   "id": "bd0db836",
   "metadata": {},
   "outputs": [
    {
     "name": "stdout",
     "output_type": "stream",
     "text": [
      "(1971, 31)\n"
     ]
    },
    {
     "data": {
      "text/html": [
       "<div>\n",
       "<style scoped>\n",
       "    .dataframe tbody tr th:only-of-type {\n",
       "        vertical-align: middle;\n",
       "    }\n",
       "\n",
       "    .dataframe tbody tr th {\n",
       "        vertical-align: top;\n",
       "    }\n",
       "\n",
       "    .dataframe thead th {\n",
       "        text-align: right;\n",
       "    }\n",
       "</style>\n",
       "<table border=\"1\" class=\"dataframe\">\n",
       "  <thead>\n",
       "    <tr style=\"text-align: right;\">\n",
       "      <th></th>\n",
       "      <th>show_id</th>\n",
       "      <th>type</th>\n",
       "      <th>title</th>\n",
       "      <th>director</th>\n",
       "      <th>cast</th>\n",
       "      <th>country</th>\n",
       "      <th>date_added</th>\n",
       "      <th>release_year</th>\n",
       "      <th>rating</th>\n",
       "      <th>duration</th>\n",
       "      <th>...</th>\n",
       "      <th>ordering</th>\n",
       "      <th>nconst</th>\n",
       "      <th>category</th>\n",
       "      <th>job</th>\n",
       "      <th>characters</th>\n",
       "      <th>primaryName</th>\n",
       "      <th>birthYear</th>\n",
       "      <th>deathYear</th>\n",
       "      <th>primaryProfession</th>\n",
       "      <th>knownForTitles</th>\n",
       "    </tr>\n",
       "  </thead>\n",
       "  <tbody>\n",
       "    <tr>\n",
       "      <th>977</th>\n",
       "      <td>s1385</td>\n",
       "      <td>TV Show</td>\n",
       "      <td>If Loving You Is Wrong</td>\n",
       "      <td>NaN</td>\n",
       "      <td>NaN</td>\n",
       "      <td>United States</td>\n",
       "      <td>September 23, 2020</td>\n",
       "      <td>2014</td>\n",
       "      <td>TV-MA</td>\n",
       "      <td>5 Seasons</td>\n",
       "      <td>...</td>\n",
       "      <td>NaN</td>\n",
       "      <td>NaN</td>\n",
       "      <td>NaN</td>\n",
       "      <td>NaN</td>\n",
       "      <td>NaN</td>\n",
       "      <td>NaN</td>\n",
       "      <td>NaN</td>\n",
       "      <td>NaN</td>\n",
       "      <td>NaN</td>\n",
       "      <td>NaN</td>\n",
       "    </tr>\n",
       "    <tr>\n",
       "      <th>1047</th>\n",
       "      <td>s1466</td>\n",
       "      <td>Movie</td>\n",
       "      <td>Elena Undone</td>\n",
       "      <td>NaN</td>\n",
       "      <td>NaN</td>\n",
       "      <td>United States</td>\n",
       "      <td>August 1, 2020</td>\n",
       "      <td>2010</td>\n",
       "      <td>111 min</td>\n",
       "      <td>NaN</td>\n",
       "      <td>...</td>\n",
       "      <td>5.0</td>\n",
       "      <td>nm0174903</td>\n",
       "      <td>director</td>\n",
       "      <td>\\N</td>\n",
       "      <td>\\N</td>\n",
       "      <td>Nicole Conn</td>\n",
       "      <td>1959</td>\n",
       "      <td>\\N</td>\n",
       "      <td>director,writer,editor</td>\n",
       "      <td>tt7326320,tt1575539,tt0103977,tt0430303</td>\n",
       "    </tr>\n",
       "    <tr>\n",
       "      <th>1515</th>\n",
       "      <td>s2217</td>\n",
       "      <td>Movie</td>\n",
       "      <td>Don't Go</td>\n",
       "      <td>NaN</td>\n",
       "      <td>NaN</td>\n",
       "      <td>Ireland</td>\n",
       "      <td>April 24, 2019</td>\n",
       "      <td>2018</td>\n",
       "      <td>92 min</td>\n",
       "      <td>NaN</td>\n",
       "      <td>...</td>\n",
       "      <td>5.0</td>\n",
       "      <td>nm1216554</td>\n",
       "      <td>director</td>\n",
       "      <td>\\N</td>\n",
       "      <td>\\N</td>\n",
       "      <td>David Gleeson</td>\n",
       "      <td>1966</td>\n",
       "      <td>\\N</td>\n",
       "      <td>writer,director,producer</td>\n",
       "      <td>tt0377701,tt3339680,tt3361792,tt0488121</td>\n",
       "    </tr>\n",
       "    <tr>\n",
       "      <th>1323</th>\n",
       "      <td>s1899</td>\n",
       "      <td>TV Show</td>\n",
       "      <td>The Curse of Oak Island</td>\n",
       "      <td>NaN</td>\n",
       "      <td>NaN</td>\n",
       "      <td>United States</td>\n",
       "      <td>January 1, 2020</td>\n",
       "      <td>2014</td>\n",
       "      <td>TV-PG</td>\n",
       "      <td>6 Seasons</td>\n",
       "      <td>...</td>\n",
       "      <td>NaN</td>\n",
       "      <td>NaN</td>\n",
       "      <td>NaN</td>\n",
       "      <td>NaN</td>\n",
       "      <td>NaN</td>\n",
       "      <td>NaN</td>\n",
       "      <td>NaN</td>\n",
       "      <td>NaN</td>\n",
       "      <td>NaN</td>\n",
       "      <td>NaN</td>\n",
       "    </tr>\n",
       "    <tr>\n",
       "      <th>1939</th>\n",
       "      <td>s3004</td>\n",
       "      <td>TV Show</td>\n",
       "      <td>A Day in the Life</td>\n",
       "      <td>NaN</td>\n",
       "      <td>NaN</td>\n",
       "      <td>United States</td>\n",
       "      <td>March 12, 2012</td>\n",
       "      <td>2011</td>\n",
       "      <td>TV-14</td>\n",
       "      <td>2 Seasons</td>\n",
       "      <td>...</td>\n",
       "      <td>3.0</td>\n",
       "      <td>nm2202756</td>\n",
       "      <td>director</td>\n",
       "      <td>\\N</td>\n",
       "      <td>\\N</td>\n",
       "      <td>Eon Song</td>\n",
       "      <td>\\N</td>\n",
       "      <td>\\N</td>\n",
       "      <td>editorial_department,actress,producer</td>\n",
       "      <td>tt10529908,tt6432466,tt8494916</td>\n",
       "    </tr>\n",
       "    <tr>\n",
       "      <th>568</th>\n",
       "      <td>s809</td>\n",
       "      <td>Movie</td>\n",
       "      <td>A Christmas Hero</td>\n",
       "      <td>NaN</td>\n",
       "      <td>NaN</td>\n",
       "      <td>NaN</td>\n",
       "      <td>April 8, 2021</td>\n",
       "      <td>2020</td>\n",
       "      <td>PG-13</td>\n",
       "      <td>86 min</td>\n",
       "      <td>...</td>\n",
       "      <td>5.0</td>\n",
       "      <td>nm0943445</td>\n",
       "      <td>director</td>\n",
       "      <td>\\N</td>\n",
       "      <td>\\N</td>\n",
       "      <td>Phil Wurtzel</td>\n",
       "      <td>\\N</td>\n",
       "      <td>\\N</td>\n",
       "      <td>producer,director,writer</td>\n",
       "      <td>tt3268790,tt6613412,tt7235038,tt10399114</td>\n",
       "    </tr>\n",
       "    <tr>\n",
       "      <th>282</th>\n",
       "      <td>s402</td>\n",
       "      <td>Movie</td>\n",
       "      <td>Kingpin</td>\n",
       "      <td>NaN</td>\n",
       "      <td>NaN</td>\n",
       "      <td>NaN</td>\n",
       "      <td>August 1, 2021</td>\n",
       "      <td>1996</td>\n",
       "      <td>TV-14</td>\n",
       "      <td>114 min</td>\n",
       "      <td>...</td>\n",
       "      <td>5.0</td>\n",
       "      <td>nm0125803</td>\n",
       "      <td>director</td>\n",
       "      <td>\\N</td>\n",
       "      <td>\\N</td>\n",
       "      <td>Bobby Farrelly</td>\n",
       "      <td>1958</td>\n",
       "      <td>\\N</td>\n",
       "      <td>producer,director,writer</td>\n",
       "      <td>tt0183505,tt0129387,tt0181739,tt0256380</td>\n",
       "    </tr>\n",
       "    <tr>\n",
       "      <th>134</th>\n",
       "      <td>s182</td>\n",
       "      <td>Movie</td>\n",
       "      <td>Gemini</td>\n",
       "      <td>NaN</td>\n",
       "      <td>NaN</td>\n",
       "      <td>United States</td>\n",
       "      <td>September 25, 2021</td>\n",
       "      <td>2017</td>\n",
       "      <td>R</td>\n",
       "      <td>93 min</td>\n",
       "      <td>...</td>\n",
       "      <td>5.0</td>\n",
       "      <td>nm1369800</td>\n",
       "      <td>director</td>\n",
       "      <td>\\N</td>\n",
       "      <td>\\N</td>\n",
       "      <td>Aaron Katz</td>\n",
       "      <td>1981</td>\n",
       "      <td>\\N</td>\n",
       "      <td>director,writer,editor</td>\n",
       "      <td>tt3283556,tt5795086,tt1497874,tt0914382</td>\n",
       "    </tr>\n",
       "    <tr>\n",
       "      <th>106</th>\n",
       "      <td>s141</td>\n",
       "      <td>Movie</td>\n",
       "      <td>The Hunger Games: Catching Fire</td>\n",
       "      <td>NaN</td>\n",
       "      <td>NaN</td>\n",
       "      <td>NaN</td>\n",
       "      <td>October 1, 2021</td>\n",
       "      <td>2013</td>\n",
       "      <td>TV-14</td>\n",
       "      <td>182 min</td>\n",
       "      <td>...</td>\n",
       "      <td>NaN</td>\n",
       "      <td>NaN</td>\n",
       "      <td>NaN</td>\n",
       "      <td>NaN</td>\n",
       "      <td>NaN</td>\n",
       "      <td>NaN</td>\n",
       "      <td>NaN</td>\n",
       "      <td>NaN</td>\n",
       "      <td>NaN</td>\n",
       "      <td>NaN</td>\n",
       "    </tr>\n",
       "    <tr>\n",
       "      <th>956</th>\n",
       "      <td>s1355</td>\n",
       "      <td>TV Show</td>\n",
       "      <td>Halloween Baking Championship</td>\n",
       "      <td>NaN</td>\n",
       "      <td>NaN</td>\n",
       "      <td>NaN</td>\n",
       "      <td>October 1, 2020</td>\n",
       "      <td>2015</td>\n",
       "      <td>TV-PG</td>\n",
       "      <td>4 Seasons</td>\n",
       "      <td>...</td>\n",
       "      <td>NaN</td>\n",
       "      <td>NaN</td>\n",
       "      <td>NaN</td>\n",
       "      <td>NaN</td>\n",
       "      <td>NaN</td>\n",
       "      <td>NaN</td>\n",
       "      <td>NaN</td>\n",
       "      <td>NaN</td>\n",
       "      <td>NaN</td>\n",
       "      <td>NaN</td>\n",
       "    </tr>\n",
       "  </tbody>\n",
       "</table>\n",
       "<p>10 rows × 31 columns</p>\n",
       "</div>"
      ],
      "text/plain": [
       "     show_id     type                            title director  cast  \\\n",
       "977    s1385  TV Show           If Loving You Is Wrong      NaN   NaN   \n",
       "1047   s1466    Movie                     Elena Undone      NaN   NaN   \n",
       "1515   s2217    Movie                         Don't Go      NaN   NaN   \n",
       "1323   s1899  TV Show          The Curse of Oak Island      NaN   NaN   \n",
       "1939   s3004  TV Show                A Day in the Life      NaN   NaN   \n",
       "568     s809    Movie                 A Christmas Hero      NaN   NaN   \n",
       "282     s402    Movie                          Kingpin      NaN   NaN   \n",
       "134     s182    Movie                           Gemini      NaN   NaN   \n",
       "106     s141    Movie  The Hunger Games: Catching Fire      NaN   NaN   \n",
       "956    s1355  TV Show    Halloween Baking Championship      NaN   NaN   \n",
       "\n",
       "            country          date_added  release_year   rating   duration  \\\n",
       "977   United States  September 23, 2020          2014    TV-MA  5 Seasons   \n",
       "1047  United States      August 1, 2020          2010  111 min        NaN   \n",
       "1515        Ireland      April 24, 2019          2018   92 min        NaN   \n",
       "1323  United States     January 1, 2020          2014    TV-PG  6 Seasons   \n",
       "1939  United States      March 12, 2012          2011    TV-14  2 Seasons   \n",
       "568             NaN       April 8, 2021          2020    PG-13     86 min   \n",
       "282             NaN      August 1, 2021          1996    TV-14    114 min   \n",
       "134   United States  September 25, 2021          2017        R     93 min   \n",
       "106             NaN     October 1, 2021          2013    TV-14    182 min   \n",
       "956             NaN     October 1, 2020          2015    TV-PG  4 Seasons   \n",
       "\n",
       "      ... ordering     nconst  category  job characters     primaryName  \\\n",
       "977   ...      NaN        NaN       NaN  NaN        NaN             NaN   \n",
       "1047  ...      5.0  nm0174903  director   \\N         \\N     Nicole Conn   \n",
       "1515  ...      5.0  nm1216554  director   \\N         \\N   David Gleeson   \n",
       "1323  ...      NaN        NaN       NaN  NaN        NaN             NaN   \n",
       "1939  ...      3.0  nm2202756  director   \\N         \\N        Eon Song   \n",
       "568   ...      5.0  nm0943445  director   \\N         \\N    Phil Wurtzel   \n",
       "282   ...      5.0  nm0125803  director   \\N         \\N  Bobby Farrelly   \n",
       "134   ...      5.0  nm1369800  director   \\N         \\N      Aaron Katz   \n",
       "106   ...      NaN        NaN       NaN  NaN        NaN             NaN   \n",
       "956   ...      NaN        NaN       NaN  NaN        NaN             NaN   \n",
       "\n",
       "     birthYear deathYear                      primaryProfession  \\\n",
       "977        NaN       NaN                                    NaN   \n",
       "1047      1959        \\N                 director,writer,editor   \n",
       "1515      1966        \\N               writer,director,producer   \n",
       "1323       NaN       NaN                                    NaN   \n",
       "1939        \\N        \\N  editorial_department,actress,producer   \n",
       "568         \\N        \\N               producer,director,writer   \n",
       "282       1958        \\N               producer,director,writer   \n",
       "134       1981        \\N                 director,writer,editor   \n",
       "106        NaN       NaN                                    NaN   \n",
       "956        NaN       NaN                                    NaN   \n",
       "\n",
       "                                knownForTitles  \n",
       "977                                        NaN  \n",
       "1047   tt7326320,tt1575539,tt0103977,tt0430303  \n",
       "1515   tt0377701,tt3339680,tt3361792,tt0488121  \n",
       "1323                                       NaN  \n",
       "1939            tt10529908,tt6432466,tt8494916  \n",
       "568   tt3268790,tt6613412,tt7235038,tt10399114  \n",
       "282    tt0183505,tt0129387,tt0181739,tt0256380  \n",
       "134    tt3283556,tt5795086,tt1497874,tt0914382  \n",
       "106                                        NaN  \n",
       "956                                        NaN  \n",
       "\n",
       "[10 rows x 31 columns]"
      ]
     },
     "execution_count": 142,
     "metadata": {},
     "output_type": "execute_result"
    }
   ],
   "source": [
    "imdb_director_hulu_names = pd.merge(imdb_director_hulu,imdb_name,left_on=\"nconst\",right_on=\"nconst\",how=\"left\")\n",
    "print(imdb_director_hulu_names.shape)\n",
    "imdb_director_hulu_names.sample(10)\n"
   ]
  },
  {
   "cell_type": "code",
   "execution_count": null,
   "id": "33a8e899",
   "metadata": {},
   "outputs": [],
   "source": [
    "imdb_cast_hulu_names[\"primaryName\"].sample(10)"
   ]
  },
  {
   "cell_type": "code",
   "execution_count": null,
   "id": "e239d1d4",
   "metadata": {},
   "outputs": [],
   "source": [
    "imdb_cast_hulu_count = imdb_cast_hulu_names[\"primaryName\"].value_counts().reset_index()\n",
    "imdb_cast_hulu_count= imdb_cast_hulu_count.rename(columns={\"index\":\"cast\",\"primaryName\":\"cnt\"})\n",
    "imdb_cast_hulu_count[\"service\"]=\"Hulu\"\n",
    "imdb_cast_hulu_count.sample(10)"
   ]
  },
  {
   "cell_type": "code",
   "execution_count": null,
   "metadata": {},
   "outputs": [],
   "source": [
    "imdb_director_hulu_count = imdb_director_hulu_names[\"primaryName\"].value_counts().reset_index()\n",
    "imdb_director_hulu_count= imdb_director_hulu_count.rename(columns={\"index\":\"director\",\"primaryName\":\"cnt\"})\n",
    "imdb_director_hulu_count[\"service\"]=\"Hulu\"\n",
    "imdb_director_hulu_count.sample(10)"
   ]
  },
  {
   "cell_type": "code",
   "execution_count": null,
   "id": "a8a68d7d",
   "metadata": {},
   "outputs": [],
   "source": [
    "rating = pd.read_csv('Data/title.ratings.tsv', sep=\"\\t\")"
   ]
  },
  {
   "cell_type": "code",
   "execution_count": null,
   "id": "82405e85",
   "metadata": {},
   "outputs": [],
   "source": [
    "all_rated=pd.merge(all_streams_imdb,rating,on=\"tconst\",how=\"left\")"
   ]
  },
  {
   "cell_type": "code",
   "execution_count": null,
   "id": "d0bde417",
   "metadata": {},
   "outputs": [],
   "source": [
    "all_rated.to_csv(\"Data/all_IMDB_rated.csv\",index=False)"
   ]
  },
  {
   "cell_type": "markdown",
   "id": "6e925096",
   "metadata": {},
   "source": [
    "### Using the merged dataset"
   ]
  },
  {
   "cell_type": "code",
   "execution_count": null,
   "id": "71161e4b",
   "metadata": {},
   "outputs": [],
   "source": [
    "ratings = all_rated[[\"level_0\",\"averageRating\"]]\n",
    "\n",
    "plt.figure(figsize=(15, 7))\n",
    "sns.histplot(data=ratings,binwidth=0.5,x=\"averageRating\",hue=\"level_0\",)\n",
    "plt.title('Average IMDB Ratings')\n",
    "plt.xlabel('Rating')\n",
    "plt.ylabel('Frequency')\n",
    "plt.xticks(rotation=90)\n",
    "plt.show()"
   ]
  },
  {
   "cell_type": "code",
   "execution_count": null,
   "id": "54ac4bc9",
   "metadata": {},
   "outputs": [],
   "source": [
    "# The unique categories of netflix\n",
    "netflix_categories = netflix['listed_in'].str.split(', ').explode('listed_in').unique()\n",
    "netflix_categories"
   ]
  },
  {
   "cell_type": "code",
   "execution_count": null,
   "id": "bbaf0063",
   "metadata": {},
   "outputs": [],
   "source": [
    "# categories grouped\n",
    "def get_cat(df, number=20):\n",
    "    a = df['listed_in'].str.split(', ').explode('listed_in')\n",
    "    b = pd.DataFrame(a.groupby(a).count())\n",
    "    b.columns = ['count']\n",
    "    b['category'] = b.index\n",
    "    return b.sort_values('count', ascending=False)[:number]"
   ]
  },
  {
   "cell_type": "code",
   "execution_count": null,
   "id": "195d74fd",
   "metadata": {},
   "outputs": [],
   "source": [
    "plt.figure(figsize=(15, 7))\n",
    "sns.barplot(x='category', y='count', data=get_cat(netflix))\n",
    "plt.title('20 Largest Netflix Categories')\n",
    "plt.xlabel('Category')\n",
    "plt.ylabel('Frequency')\n",
    "plt.xticks(rotation=90)\n",
    "plt.savefig('20_Largest_Netflix_Categories.png')\n",
    "plt.show()"
   ]
  },
  {
   "cell_type": "code",
   "execution_count": null,
   "id": "a207667b",
   "metadata": {},
   "outputs": [],
   "source": [
    "net_a = get_cat(netflix, 30)\n",
    "pr_a = get_cat(prime, 30)\n",
    "hul_a = get_cat(hulu, 30)\n",
    "dis_a = get_cat(disney, 30)"
   ]
  },
  {
   "cell_type": "code",
   "execution_count": null,
   "id": "191c820d",
   "metadata": {},
   "outputs": [],
   "source": [
    "net_a"
   ]
  },
  {
   "cell_type": "code",
   "execution_count": null,
   "id": "dc10bfbf",
   "metadata": {},
   "outputs": [],
   "source": [
    "net_a['provider'] = 'Netflix'\n",
    "pr_a['provider'] = 'Prime'\n",
    "hul_a['provider'] = 'Hulu'\n",
    "dis_a['provider'] = 'Disney'"
   ]
  },
  {
   "cell_type": "code",
   "execution_count": null,
   "id": "fc4cf592",
   "metadata": {},
   "outputs": [],
   "source": [
    "big_cat = pd.concat((net_a, pr_a, hul_a, dis_a))"
   ]
  },
  {
   "cell_type": "code",
   "execution_count": null,
   "id": "f37e6b3c",
   "metadata": {},
   "outputs": [],
   "source": [
    "import plotly.express as px\n",
    "fig = px.treemap(big_cat, path=['provider', 'category'], values='count')\n",
    "fig.show()"
   ]
  }
 ],
 "metadata": {
  "interpreter": {
   "hash": "4486620b624f4c2fe74934cb5990899084361f8f6162252160f138f44c770fc2"
  },
  "kernelspec": {
   "display_name": "Python 3.8.8 ('base')",
   "language": "python",
   "name": "python3"
  },
  "language_info": {
   "codemirror_mode": {
    "name": "ipython",
    "version": 3
   },
   "file_extension": ".py",
   "mimetype": "text/x-python",
   "name": "python",
   "nbconvert_exporter": "python",
   "pygments_lexer": "ipython3",
   "version": "3.8.8"
  }
 },
 "nbformat": 4,
 "nbformat_minor": 5
}
